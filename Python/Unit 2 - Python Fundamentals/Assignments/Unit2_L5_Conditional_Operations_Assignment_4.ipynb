{
  "nbformat": 4,
  "nbformat_minor": 0,
  "metadata": {
    "colab": {
      "name": "Unit2_L5_Conditional_Operations_Assignment_4.ipynb",
      "provenance": [],
      "collapsed_sections": [],
      "include_colab_link": true
    },
    "kernelspec": {
      "name": "python3",
      "display_name": "Python 3"
    }
  },
  "cells": [
    {
      "cell_type": "markdown",
      "metadata": {
        "id": "view-in-github",
        "colab_type": "text"
      },
      "source": [
        "<a href=\"https://colab.research.google.com/github/BasiraS/data_analytics_2/blob/main/Python/Unit2_L5_Conditional_Operations_Assignment_4.ipynb\" target=\"_parent\"><img src=\"https://colab.research.google.com/assets/colab-badge.svg\" alt=\"Open In Colab\"/></a>"
      ]
    },
    {
      "cell_type": "markdown",
      "metadata": {
        "id": "4klaJhf-z-Rj"
      },
      "source": [
        "# Name: Basira Shirzad\n",
        "\n",
        "# Date: 01-08-2021"
      ]
    },
    {
      "cell_type": "markdown",
      "metadata": {
        "id": "Vgs8Kp4TidFQ"
      },
      "source": [
        "# Intrdouction to Python - Conditional Operations Assignment #4\r\n",
        "\r\n",
        "## If-elif-else Statements "
      ]
    },
    {
      "cell_type": "markdown",
      "metadata": {
        "id": "_Hq7Ny79iwgD"
      },
      "source": [
        "## 1.\tMake a list of 5 or more usernames, including an admin account.  Imagine you are writing code that will welcome people to your application on login. Loop through the list and print your greeting.\r\n",
        "\r\n",
        "a.\tIf the admin account logs in, give them a special greeting.  They’re the admin, after all!\r\n",
        "\r\n",
        "b.\tOther users can get the generic greeting\r\n",
        "\r\n"
      ]
    },
    {
      "cell_type": "code",
      "metadata": {
        "id": "lotvpVpvlKsR",
        "colab": {
          "base_uri": "https://localhost:8080/"
        },
        "outputId": "149705a5-4a92-4ff2-d48b-57cfcc2bc2ea"
      },
      "source": [
        "# List of 5 or more usernames,  including an admin account\n",
        "user_list = ['Admin', 'sam_smiles', 'Kevin_heart', 'expert27', 'hayley_bin']\n",
        "print(user_list)"
      ],
      "execution_count": null,
      "outputs": [
        {
          "output_type": "stream",
          "text": [
            "['Admin', 'sam_smiles', 'Kevin_heart', 'expert27', 'hayley_bin']\n"
          ],
          "name": "stdout"
        }
      ]
    },
    {
      "cell_type": "code",
      "metadata": {
        "id": "oNXY-CfrlLbE",
        "colab": {
          "base_uri": "https://localhost:8080/"
        },
        "outputId": "1fb090df-25e0-4348-cd7d-29328258fafa"
      },
      "source": [
        "# Loop through the user_list and print your greeting\n",
        "for user in user_list:\n",
        "  if (user.lower() == \"admin\"):\n",
        "    print(\"Welcome Admin! What's the agenda for today?\")\n",
        "  else:\n",
        "    print(\"Hello \" + user + \", I'm so glad you joined!\")"
      ],
      "execution_count": null,
      "outputs": [
        {
          "output_type": "stream",
          "text": [
            "Welcome Admin! What's the agenda for today?\n",
            "Hello sam_smiles, I'm so glad you joined!\n",
            "Hello Kevin_heart, I'm so glad you joined!\n",
            "Hello expert27, I'm so glad you joined!\n",
            "Hello hayley_bin, I'm so glad you joined!\n"
          ],
          "name": "stdout"
        }
      ]
    },
    {
      "cell_type": "markdown",
      "metadata": {
        "id": "io_27RSlizno"
      },
      "source": [
        "## 2.\tStore numbers 1-10 in a list\r\n",
        "\r\n",
        "a.\tLoop through the list\r\n",
        "\r\n",
        "b.\tUse an if-elif-else chain inside your loop to print the ordinal ending for each number – for example – 1st, 2nd, 3rd … etc.\r\n",
        "\r\n"
      ]
    },
    {
      "cell_type": "code",
      "metadata": {
        "id": "Dh1o5cAylSHB",
        "colab": {
          "base_uri": "https://localhost:8080/"
        },
        "outputId": "614ea1c0-d816-4125-c2f1-10f661be7741"
      },
      "source": [
        "# Store numbers 1-10 in a list\n",
        "num_list = [1, 2, 3, 4, 5, 6, 7, 8, 9, 10]\n",
        "print(num_list)"
      ],
      "execution_count": null,
      "outputs": [
        {
          "output_type": "stream",
          "text": [
            "[1, 2, 3, 4, 5, 6, 7, 8, 9, 10]\n"
          ],
          "name": "stdout"
        }
      ]
    },
    {
      "cell_type": "code",
      "metadata": {
        "colab": {
          "base_uri": "https://localhost:8080/"
        },
        "id": "oIZ7j6KTzvuW",
        "outputId": "302e3ad6-3a45-420b-8442-c75519a890a7"
      },
      "source": [
        "# Loop through the number list\n",
        "for num in num_list:\n",
        "  print(num)"
      ],
      "execution_count": null,
      "outputs": [
        {
          "output_type": "stream",
          "text": [
            "1\n",
            "2\n",
            "3\n",
            "4\n",
            "5\n",
            "6\n",
            "7\n",
            "8\n",
            "9\n",
            "10\n"
          ],
          "name": "stdout"
        }
      ]
    },
    {
      "cell_type": "code",
      "metadata": {
        "colab": {
          "base_uri": "https://localhost:8080/"
        },
        "id": "Qw9XasISzmSg",
        "outputId": "2bd4a0ec-e99c-4a1f-e318-751b8982ffbe"
      },
      "source": [
        "# Loop to print the ordinal ending for each number\n",
        "for num in num_list:\n",
        "  if (num == 1):\n",
        "    print(\"1st\")\n",
        "  elif (num == 2):\n",
        "    print(\"2nd\")\n",
        "  elif (num == 3):\n",
        "    print(\"3rd\")\n",
        "  else: \n",
        "    print(str(num) + \"th\")"
      ],
      "execution_count": null,
      "outputs": [
        {
          "output_type": "stream",
          "text": [
            "1st\n",
            "2nd\n",
            "3rd\n",
            "4th\n",
            "5th\n",
            "6th\n",
            "7th\n",
            "8th\n",
            "9th\n",
            "10th\n"
          ],
          "name": "stdout"
        }
      ]
    }
  ]
}
