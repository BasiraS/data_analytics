{
  "nbformat": 4,
  "nbformat_minor": 0,
  "metadata": {
    "colab": {
      "name": "Unit2_Python_Mini_Project_Rock-Paper-Scissors_Game.ipynb",
      "provenance": [],
      "authorship_tag": "ABX9TyNaXhSJZeP1jgV8CeoQo598",
      "include_colab_link": true
    },
    "kernelspec": {
      "name": "python3",
      "display_name": "Python 3"
    }
  },
  "cells": [
    {
      "cell_type": "markdown",
      "metadata": {
        "id": "view-in-github",
        "colab_type": "text"
      },
      "source": [
        "<a href=\"https://colab.research.google.com/github/BasiraS/data_analytics_2/blob/main/Python/Unit2_Python_Mini_Project_Rock_Paper_Scissors_Game.ipynb\" target=\"_parent\"><img src=\"https://colab.research.google.com/assets/colab-badge.svg\" alt=\"Open In Colab\"/></a>"
      ]
    },
    {
      "cell_type": "markdown",
      "metadata": {
        "id": "aNJ4mQL1Dn-j"
      },
      "source": [
        "# Name: Basira Shirzad\n",
        "\n",
        "# Date: 01-08-2021"
      ]
    },
    {
      "cell_type": "markdown",
      "metadata": {
        "id": "qHvFwDecVrOy"
      },
      "source": [
        "**Python Project - Rock-Paper-Scissors game**\n",
        "\n",
        "Make a two-player Rock-Paper-Scissors game. (Hint: Ask for player plays\n",
        "(using input), compare them, print out a message of congratulations to the winner, and ask if the players want to start a new game)\n",
        "\n",
        "Remember the rules:\n",
        "* Rock beats scissors\n",
        "* Scissors beats paper\n",
        "* Paper beats rock"
      ]
    },
    {
      "cell_type": "code",
      "metadata": {
        "colab": {
          "base_uri": "https://localhost:8080/"
        },
        "id": "lPCT2mntWLJe",
        "outputId": "2d8be934-63b0-4f28-91b6-eb8578ba0d73"
      },
      "source": [
        "# Two Player Game\n",
        "\n",
        "def rockPaperScissors_game_twoPlayer():\n",
        "  print(\"Two Player:\\n\")\n",
        "  playAgain = True\n",
        "\n",
        "  while playAgain:\n",
        "    # User 1 Choice\n",
        "    user1, user2 = input(\"Rock, paper, or scissor (User1, User2): \").split(\",\")\n",
        "\n",
        "    if user1.title() == 'Rock' and user2.title() == 'Scissor':\n",
        "      print(\"User1: \" + user1.title())\n",
        "      print(\"User2:\" + user2.title())\n",
        "      print(\"User1 won!\\n\")\n",
        "    elif user1.title() == 'Scissor' and user2.title() == 'Paper':\n",
        "      print(\"User1: \" + user1.title())\n",
        "      print(\"User2:\" + user2.title())\n",
        "      print(\"User1 won!\\n\")\n",
        "    elif user1.title() == 'Paper' and user2.title() == 'Rock':\n",
        "      print(\"User1: \" + user1.title())\n",
        "      print(\"User2:\" + user2.title())\n",
        "      print(\"User1 won!\\n\")\n",
        "    else:\n",
        "      print(\"User1: \" + user1.title())\n",
        "      print(\"User2:\" + user2.title())\n",
        "      print(\"User2 won!\\n\")\n",
        "      \n",
        "    response = input(\"Would you like to play again (yes/no): \")\n",
        "    if response.lower() == \"no\":\n",
        "      playAgain = False\n",
        "      print()\n",
        "\n",
        "rockPaperScissors_game_twoPlayer()\n",
        "\n",
        "# One Player Game\n",
        "\n",
        "import random\n",
        "\n",
        "def rockPaperScissors_game_onePlayer():\n",
        "  print(\"One Player:\\n\")\n",
        "  playAgain = True\n",
        "\n",
        "  while playAgain:\n",
        "    # User 1 Choice\n",
        "    user_choice = input(\"Rock, paper, or scissor: \")\n",
        "    \n",
        "    # User 2 Choice\n",
        "    choices = ['Rock', 'Paper', 'Scissor']\n",
        "    computer_choice = choices[random.randint(1,3)-1]\n",
        "    \n",
        "    if user_choice.title() == 'Rock' and computer_choice.title() == 'Scissor':\n",
        "      print(\"You: \" + user_choice.title())\n",
        "      print(\"Computer: \" + computer_choice.title())\n",
        "      print(\"You won!\\n\")\n",
        "    elif user_choice.title() == 'Scissor' and computer_choice.title() == 'Paper':\n",
        "      print(\"You: \" + user_choice.title())\n",
        "      print(\"Computer: \" + computer_choice.title())\n",
        "      print(\"You won!\\n\")\n",
        "    elif user_choice.title() == 'Paper' and computer_choice.title() == 'Rock':\n",
        "      print(\"You: \" + user_choice.title())\n",
        "      print(\"Computer: \" + computer_choice.title())\n",
        "      print(\"You won!\\n\")\n",
        "    else:\n",
        "      print(\"You: \" + user_choice.title())\n",
        "      print(\"Computer: \" + computer_choice.title())\n",
        "      print(\"You lost!\\n\")\n",
        "\n",
        "    response = input(\"Would you like to play again (yes/no): \")\n",
        "    if response.lower() == \"no\":\n",
        "      playAgain = False\n",
        "      print()\n",
        "\n",
        "rockPaperScissors_game_onePlayer()"
      ],
      "execution_count": null,
      "outputs": [
        {
          "output_type": "stream",
          "text": [
            "Two Player:\n",
            "\n",
            "Rock, paper, or scissor (User1, User2): Paper, Rock\n",
            "User1: Paper\n",
            "User2: Rock\n",
            "User2 won!\n",
            "\n",
            "Would you like to play again (yes/no): no\n",
            "\n",
            "One Player:\n",
            "\n",
            "Rock, paper, or scissor: scissor\n",
            "You: Scissor\n",
            "Computer: Rock\n",
            "You lost!\n",
            "\n",
            "Would you like to play again (yes/no): no\n",
            "\n"
          ],
          "name": "stdout"
        }
      ]
    }
  ]
}
