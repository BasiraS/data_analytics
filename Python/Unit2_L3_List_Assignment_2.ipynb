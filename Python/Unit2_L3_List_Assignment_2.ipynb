{
  "nbformat": 4,
  "nbformat_minor": 0,
  "metadata": {
    "colab": {
      "name": "Unit2_L3_List_Assignment_2.ipynb",
      "provenance": [],
      "collapsed_sections": [],
      "include_colab_link": true
    },
    "kernelspec": {
      "name": "python3",
      "display_name": "Python 3"
    }
  },
  "cells": [
    {
      "cell_type": "markdown",
      "metadata": {
        "id": "view-in-github",
        "colab_type": "text"
      },
      "source": [
        "<a href=\"https://colab.research.google.com/github/BasiraS/data_analytics_2/blob/main/Python/Unit2_L3_List_Assignment_2.ipynb\" target=\"_parent\"><img src=\"https://colab.research.google.com/assets/colab-badge.svg\" alt=\"Open In Colab\"/></a>"
      ]
    },
    {
      "cell_type": "markdown",
      "metadata": {
        "id": "UbwRh79z0nzZ"
      },
      "source": [
        "# Name: Basira Shirzad\n",
        "\n",
        "# Date: 01-07-2021"
      ]
    },
    {
      "cell_type": "markdown",
      "metadata": {
        "id": "Vgs8Kp4TidFQ"
      },
      "source": [
        "# Intrdouction to Python - List - Assingment #2  "
      ]
    },
    {
      "cell_type": "markdown",
      "metadata": {
        "id": "_Hq7Ny79iwgD"
      },
      "source": [
        "## 1.Create a list of 5 of your favorite tv shows.  ?"
      ]
    },
    {
      "cell_type": "code",
      "metadata": {
        "id": "lotvpVpvlKsR"
      },
      "source": [
        "# Create a list of 5 of your favorite tv shows.\n",
        "favorite_tv_shows = ['This is us', 'Dawson Creek', 'You', 'Friends', 'Office']"
      ],
      "execution_count": null,
      "outputs": []
    },
    {
      "cell_type": "markdown",
      "metadata": {
        "id": "io_27RSlizno"
      },
      "source": [
        "## 2.\tPrint the list in its original order"
      ]
    },
    {
      "cell_type": "code",
      "metadata": {
        "id": "Dh1o5cAylSHB",
        "colab": {
          "base_uri": "https://localhost:8080/"
        },
        "outputId": "e872695d-81bc-423a-e1d8-d7737ecc2933"
      },
      "source": [
        "# Print the list in its original order.\n",
        "print(favorite_tv_shows)"
      ],
      "execution_count": null,
      "outputs": [
        {
          "output_type": "stream",
          "text": [
            "['This is us', 'Dawson Creek', 'You', 'Friends', 'Office']\n"
          ],
          "name": "stdout"
        }
      ]
    },
    {
      "cell_type": "markdown",
      "metadata": {
        "id": "DAW8m8IQjRyR"
      },
      "source": [
        "## 3.\tUse the sorted() function to print the list in alphabetical order.  How is sorted() different from sort()?"
      ]
    },
    {
      "cell_type": "code",
      "metadata": {
        "id": "guULMEhrjYtT",
        "colab": {
          "base_uri": "https://localhost:8080/"
        },
        "outputId": "3813a965-8257-4296-d00b-68f0ccd4bfdb"
      },
      "source": [
        "# sorted() Function\n",
        "print(sorted(favorite_tv_shows))"
      ],
      "execution_count": null,
      "outputs": [
        {
          "output_type": "stream",
          "text": [
            "['Dawson Creek', 'Friends', 'Office', 'This is us', 'You']\n"
          ],
          "name": "stdout"
        }
      ]
    },
    {
      "cell_type": "code",
      "metadata": {
        "colab": {
          "base_uri": "https://localhost:8080/"
        },
        "id": "fEXYly6suUO_",
        "outputId": "8f8d5b1c-11d7-454f-8802-272041934afb"
      },
      "source": [
        "# sort() Method\n",
        "favorite_tv_shows.sort()\n",
        "print(favorite_tv_shows)"
      ],
      "execution_count": null,
      "outputs": [
        {
          "output_type": "stream",
          "text": [
            "['Dawson Creek', 'Friends', 'Office', 'This is us', 'You']\n"
          ],
          "name": "stdout"
        }
      ]
    },
    {
      "cell_type": "markdown",
      "metadata": {
        "id": "wTdOXMN-22wM"
      },
      "source": [
        "* The difference between the function sorted() and sort() is that sort() function modifies the list it is called on, while the sorted() function will create a copy of the list called on and will sort that copy and not the original list. So, it will return the sorted list of the copy version. The sort() function, however, sorts the original list and does not return anything back, it just modifies the original list. "
      ]
    },
    {
      "cell_type": "code",
      "metadata": {
        "id": "pltxfnh3iJLW",
        "colab": {
          "base_uri": "https://localhost:8080/"
        },
        "outputId": "c2426bc0-84ea-4e2f-a744-485805f3d104"
      },
      "source": [
        "# Print out your original list.\n",
        "favorite_tv_shows = ['This is us', 'Dawson Creek', 'You', 'Friends', 'Office']\n",
        "print(favorite_tv_shows)"
      ],
      "execution_count": null,
      "outputs": [
        {
          "output_type": "stream",
          "text": [
            "['This is us', 'Dawson Creek', 'You', 'Friends', 'Office']\n"
          ],
          "name": "stdout"
        }
      ]
    },
    {
      "cell_type": "markdown",
      "metadata": {
        "id": "Ka84RGy4jmLT"
      },
      "source": [
        "## 5.\tUsed sorted() to print your list in reverse alphabetical order."
      ]
    },
    {
      "cell_type": "code",
      "metadata": {
        "id": "34IFFtK4jrg4",
        "colab": {
          "base_uri": "https://localhost:8080/"
        },
        "outputId": "947f05b6-c6e1-4e5a-d66a-762f39bb59a9"
      },
      "source": [
        "# Used sorted() to print your list in reverse alphabetical order.\n",
        "favorite_tv_shows.sort(reverse=True)\n",
        "print(favorite_tv_shows)"
      ],
      "execution_count": null,
      "outputs": [
        {
          "output_type": "stream",
          "text": [
            "['You', 'This is us', 'Office', 'Friends', 'Dawson Creek']\n"
          ],
          "name": "stdout"
        }
      ]
    },
    {
      "cell_type": "markdown",
      "metadata": {
        "id": "ZKHwdMnLliFy"
      },
      "source": [
        "## 6.\tCreate a message indicating how many favorite TV shows you have – use the len() function."
      ]
    },
    {
      "cell_type": "code",
      "metadata": {
        "id": "eXUDZfLOllTT",
        "colab": {
          "base_uri": "https://localhost:8080/"
        },
        "outputId": "8f0f51cc-7425-4159-c20b-0515da6d463d"
      },
      "source": [
        "# Create a message indicating how many favorite TV shows you have – use the len() function.\n",
        "num_tv_shows = len(favorite_tv_shows)\n",
        "txt = \"I have {} favorite tv shows.\"\n",
        "print(txt.format(num_tv_shows))"
      ],
      "execution_count": null,
      "outputs": [
        {
          "output_type": "stream",
          "text": [
            "I have 5 favorite tv shows.\n"
          ],
          "name": "stdout"
        }
      ]
    }
  ]
}