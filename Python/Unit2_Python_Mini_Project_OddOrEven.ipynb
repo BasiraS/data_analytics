{
  "nbformat": 4,
  "nbformat_minor": 0,
  "metadata": {
    "colab": {
      "name": "Unit2_Python_Mini_Project_OddOrEven.ipynb",
      "provenance": [],
      "collapsed_sections": [],
      "authorship_tag": "ABX9TyOfj/6AZdfgjh6cbLiDmbop",
      "include_colab_link": true
    },
    "kernelspec": {
      "name": "python3",
      "display_name": "Python 3"
    }
  },
  "cells": [
    {
      "cell_type": "markdown",
      "metadata": {
        "id": "view-in-github",
        "colab_type": "text"
      },
      "source": [
        "<a href=\"https://colab.research.google.com/github/BasiraS/data_analytics_2/blob/main/Python/Unit2_Python_Mini_Project_OddOrEven.ipynb\" target=\"_parent\"><img src=\"https://colab.research.google.com/assets/colab-badge.svg\" alt=\"Open In Colab\"/></a>"
      ]
    },
    {
      "cell_type": "markdown",
      "metadata": {
        "id": "XtFqj1GCDUyz"
      },
      "source": [
        "# Name: Basira Shirzad\n",
        "\n",
        "# Date: 01-08-2021"
      ]
    },
    {
      "cell_type": "markdown",
      "metadata": {
        "id": "PEx5lmFnN-jL"
      },
      "source": [
        "**Python Project – Odd or Even**\n",
        "\n",
        "Ask the user for a number. Depending on whether the number is even or odd, print out an appropriate message to the user. Hint: how does an even / odd number react differently when divided by 2?\n",
        "\n",
        "Bonus:\n",
        "\n",
        "\n",
        "*   If the number is a multiple of 4, print out a different message.\n",
        "*   Ask the user for two numbers: one number to check (call it num) and one number to divide by (check). If check divides evenly into num, tell that to the user. If not, print a different appropriate message.\n",
        "*   Write a custom function for finding whether the number is even or odd and call it in your main program code.\n",
        "\n"
      ]
    },
    {
      "cell_type": "code",
      "metadata": {
        "colab": {
          "base_uri": "https://localhost:8080/"
        },
        "id": "zEUZYvI0OScX",
        "outputId": "dd19d46c-4824-464d-e985-ff150dd9f982"
      },
      "source": [
        "# Odd or Even Function\n",
        "def odd_or_even():\n",
        "  num = int(input(\"Enter number: \"))\n",
        "  if num % 2 == 0:\n",
        "    text = \"{} is a even number\\n\"\n",
        "    print(text.format(num))\n",
        "  else:\n",
        "    text = \"{} is an odd number\\n\"\n",
        "    print(text.format(num))\n",
        "\n",
        "odd_or_even()\n",
        "\n",
        "# Odd or Even Function, with checking for multiple of 4\n",
        "def multipleOf4_or_odd_or_even():\n",
        "  num = int(input(\"Enter number: \"))\n",
        "  if num % 4 == 0:\n",
        "    text = \"{} is a multiple of 4\\n\"\n",
        "    print(text.format(num))\n",
        "  elif num % 2 == 0:\n",
        "    text = \"{} is a even number\\n\"\n",
        "    print(text.format(num))\n",
        "  else:\n",
        "    text = \"{} is an odd number\\n\"\n",
        "    print(text.format(num))\n",
        "\n",
        "multipleOf4_or_odd_or_even()\n",
        "\n",
        "# Odd or Even Function, with checking if divisible by second number\n",
        "def divisible_or_odd_or_even():\n",
        "  num1 = int(input(\"Enter num1: \"))\n",
        "  num2 = int(input(\"Enter num2: \"))\n",
        "  if num1 % num2 == 0:\n",
        "    text = \"{} is divisible by {}\\n\"\n",
        "    print(text.format(num1, num2))\n",
        "  elif num1 % 2 == 0:\n",
        "    text = \"{} is a even number\\n\"\n",
        "    print(text.format(num1))\n",
        "  else:\n",
        "    text = \"{} is an odd number\\n\"\n",
        "    print(text.format(num1))\n",
        "\n",
        "divisible_or_odd_or_even()"
      ],
      "execution_count": null,
      "outputs": [
        {
          "output_type": "stream",
          "text": [
            "Enter number: 121\n",
            "121 is an odd number\n",
            "\n",
            "Enter number: 48\n",
            "48 is a multiple of 4\n",
            "\n",
            "Enter num1: 36\n",
            "Enter num2: 6\n",
            "36 is divisible by 6\n",
            "\n"
          ],
          "name": "stdout"
        }
      ]
    }
  ]
}