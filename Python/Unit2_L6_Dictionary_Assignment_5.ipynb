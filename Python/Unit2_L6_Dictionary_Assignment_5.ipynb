{
  "nbformat": 4,
  "nbformat_minor": 0,
  "metadata": {
    "colab": {
      "name": "Unit2_L6_Dictionary_Assignment_5.ipynb",
      "provenance": [],
      "collapsed_sections": [],
      "include_colab_link": true
    },
    "kernelspec": {
      "name": "python3",
      "display_name": "Python 3"
    }
  },
  "cells": [
    {
      "cell_type": "markdown",
      "metadata": {
        "id": "view-in-github",
        "colab_type": "text"
      },
      "source": [
        "<a href=\"https://colab.research.google.com/github/BasiraS/data_analytics_2/blob/main/Python/Unit2_L6_Dictionary_Assignment_5.ipynb\" target=\"_parent\"><img src=\"https://colab.research.google.com/assets/colab-badge.svg\" alt=\"Open In Colab\"/></a>"
      ]
    },
    {
      "cell_type": "markdown",
      "metadata": {
        "id": "5U8-SnqI1P_S"
      },
      "source": [
        "# Name: Basira Shirzad\n",
        "\n",
        "# Date: 01-08-2021"
      ]
    },
    {
      "cell_type": "markdown",
      "metadata": {
        "id": "Vgs8Kp4TidFQ"
      },
      "source": [
        "# Intrdouction to Python - Dictionary - Assignment #5 "
      ]
    },
    {
      "cell_type": "markdown",
      "metadata": {
        "id": "_Hq7Ny79iwgD"
      },
      "source": [
        "## 1.\tCreate a simple dictionary that stores 2 variables, for example: first and last name."
      ]
    },
    {
      "cell_type": "code",
      "metadata": {
        "id": "lotvpVpvlKsR",
        "colab": {
          "base_uri": "https://localhost:8080/"
        },
        "outputId": "c21f1286-5247-4381-9e12-8fa0c16b6ed8"
      },
      "source": [
        "# Create a simple dictionary that stores 2 variables, for example: first and last name\n",
        "full_name = {\"first_name\": \"Samantha\", \"last_name\": \"Bin\"}\n",
        "print(full_name)"
      ],
      "execution_count": null,
      "outputs": [
        {
          "output_type": "stream",
          "text": [
            "{'first_name': 'Samantha', 'last_name': 'Bin'}\n"
          ],
          "name": "stdout"
        }
      ]
    },
    {
      "cell_type": "markdown",
      "metadata": {
        "id": "io_27RSlizno"
      },
      "source": [
        "## 2.\tPrint out those variables stored in your previous dictionary. "
      ]
    },
    {
      "cell_type": "code",
      "metadata": {
        "id": "Dh1o5cAylSHB",
        "colab": {
          "base_uri": "https://localhost:8080/"
        },
        "outputId": "28bc56c0-e5ab-4340-ce98-36db1320a51a"
      },
      "source": [
        "# Print out those variables stored in your previous dictionary\n",
        "for key, value in full_name.items():\n",
        "  print(key + \": \" + value)"
      ],
      "execution_count": null,
      "outputs": [
        {
          "output_type": "stream",
          "text": [
            "first_name: Samantha\n",
            "last_name: Bin\n"
          ],
          "name": "stdout"
        }
      ]
    },
    {
      "cell_type": "markdown",
      "metadata": {
        "id": "DAW8m8IQjRyR"
      },
      "source": [
        "## 3.\tAdd a message to those variables on printing: for example: “Hello, firstname lastname!”"
      ]
    },
    {
      "cell_type": "code",
      "metadata": {
        "id": "guULMEhrjYtT",
        "colab": {
          "base_uri": "https://localhost:8080/"
        },
        "outputId": "c1eea49e-af8c-4c06-8b76-f4a60c11f3ea"
      },
      "source": [
        "# Add a message to those variables on printing: for example: “Hello, firstname lastname!”\n",
        "print(\"Hello, \" + full_name['first_name'] + \" \" + full_name['last_name'] + \"!\")"
      ],
      "execution_count": null,
      "outputs": [
        {
          "output_type": "stream",
          "text": [
            "Hello, Samantha Bin!\n"
          ],
          "name": "stdout"
        }
      ]
    },
    {
      "cell_type": "markdown",
      "metadata": {
        "id": "dpa_YOt4jXyo"
      },
      "source": [
        "## 4.\tCreate a dictionary that holds 2 key: value pairs:\r\n",
        "\r\n",
        "a.\tLook through your dictionary and print each pair,\r\n"
      ]
    },
    {
      "cell_type": "code",
      "metadata": {
        "id": "pltxfnh3iJLW",
        "colab": {
          "base_uri": "https://localhost:8080/"
        },
        "outputId": "7ce6fbc7-68a2-4938-850d-1360a7f3de60"
      },
      "source": [
        "# Create a dictionary that holds 2 key: value pairs: Look through your dictionary and print each pair\n",
        "student_school = {\"Max Weil\": \"Queens College\", \"John Bell\": \"Hunter College\"}\n",
        "for key, value in student_school.items():\n",
        "  print(key + \": \" + value)"
      ],
      "execution_count": null,
      "outputs": [
        {
          "output_type": "stream",
          "text": [
            "Max Weil: Queens College\n",
            "John Bell: Hunter College\n"
          ],
          "name": "stdout"
        }
      ]
    },
    {
      "cell_type": "markdown",
      "metadata": {
        "id": "zmZZQu612B12"
      },
      "source": [
        "## 5. Create a nested dictionary containing three dictionaries – these dictionaries could be anything (favorite pets, travel locations, etc.)\n",
        "\n",
        "a.\tLoop through the dictionaries and print a message for each."
      ]
    },
    {
      "cell_type": "code",
      "metadata": {
        "colab": {
          "base_uri": "https://localhost:8080/"
        },
        "id": "jpVoOQek2Ptz",
        "outputId": "06c7a70d-fde2-4e4b-bf19-86706c161721"
      },
      "source": [
        "# Create a nested dictionary containing three dictionaries\n",
        "person_list = {1: {'name': 'John', 'age': '27', 'sex': 'Male'},\n",
        "          2: {'name': 'Marie', 'age': '22', 'sex': 'Female'}, \n",
        "          3: {'name': 'Becky', 'age': '25', 'sex': 'Female'}}\n",
        "print(person_list)"
      ],
      "execution_count": null,
      "outputs": [
        {
          "output_type": "stream",
          "text": [
            "{1: {'name': 'John', 'age': '27', 'sex': 'Male'}, 2: {'name': 'Marie', 'age': '22', 'sex': 'Female'}, 3: {'name': 'Becky', 'age': '25', 'sex': 'Female'}}\n"
          ],
          "name": "stdout"
        }
      ]
    },
    {
      "cell_type": "code",
      "metadata": {
        "id": "490aEBLM2THG",
        "colab": {
          "base_uri": "https://localhost:8080/"
        },
        "outputId": "5b5dc0fc-628b-4190-bd0b-b9f90bca8364"
      },
      "source": [
        "# Loop through the dictionaries and print a message for each.\n",
        "for person, person_info in person_list.items():\n",
        "  print(person_info[\"name\"], \"is a\", person_info[\"age\"], \"year old\", person_info[\"sex\"] + \".\")"
      ],
      "execution_count": null,
      "outputs": [
        {
          "output_type": "stream",
          "text": [
            "John is a 27 year old Male.\n",
            "Marie is a 22 year old Female.\n",
            "Becky is a 25 year old Female.\n"
          ],
          "name": "stdout"
        }
      ]
    }
  ]
}