{
  "nbformat": 4,
  "nbformat_minor": 0,
  "metadata": {
    "colab": {
      "name": "Unit3_L2_Python_Advanced_Pandas_DataWrangling_Assignment.ipynb",
      "provenance": [],
      "collapsed_sections": [],
      "include_colab_link": true
    },
    "kernelspec": {
      "name": "python3",
      "display_name": "Python 3"
    }
  },
  "cells": [
    {
      "cell_type": "markdown",
      "metadata": {
        "id": "view-in-github",
        "colab_type": "text"
      },
      "source": [
        "<a href=\"https://colab.research.google.com/github/BasiraS/data_analytics_2/blob/main/Python/Unit3_L2_Python_Advanced_Pandas_DataWrangling_Assignment.ipynb\" target=\"_parent\"><img src=\"https://colab.research.google.com/assets/colab-badge.svg\" alt=\"Open In Colab\"/></a>"
      ]
    },
    {
      "cell_type": "markdown",
      "metadata": {
        "id": "to0vOWVOdFAR"
      },
      "source": [
        "#Name: Basira Shirzad\n",
        "\n",
        "#Date: 01-12-2021"
      ]
    },
    {
      "cell_type": "markdown",
      "metadata": {
        "id": "M9lK1TbaRC11"
      },
      "source": [
        "# Assignment 1 : Python Data Analysis using salaries dataset"
      ]
    },
    {
      "cell_type": "markdown",
      "metadata": {
        "id": "CHpOD5OcaO9j"
      },
      "source": [
        "# Data Exploration:  This should include summary statistics, means, medians, quartiles, or any other relevant information about the data set. "
      ]
    },
    {
      "cell_type": "code",
      "metadata": {
        "id": "NB7kwRqMaFIA"
      },
      "source": [
        "import pandas as pd \n",
        "import numpy as np\n",
        "import matplotlib.pyplot as plt\n",
        "%matplotlib inline"
      ],
      "execution_count": 96,
      "outputs": []
    },
    {
      "cell_type": "code",
      "metadata": {
        "id": "SBTN0yjtbEBP"
      },
      "source": [
        "df = pd.read_csv('https://raw.githubusercontent.com/CunyLaguardiaDataAnalytics/datasets/master/Salaries.csv')"
      ],
      "execution_count": 97,
      "outputs": []
    },
    {
      "cell_type": "code",
      "metadata": {
        "id": "eOTZmRkCbyBY",
        "colab": {
          "base_uri": "https://localhost:8080/"
        },
        "outputId": "faa42fd3-d7a8-4cd5-f111-bef0e1365484"
      },
      "source": [
        "type(df)"
      ],
      "execution_count": 98,
      "outputs": [
        {
          "output_type": "execute_result",
          "data": {
            "text/plain": [
              "pandas.core.frame.DataFrame"
            ]
          },
          "metadata": {
            "tags": []
          },
          "execution_count": 98
        }
      ]
    },
    {
      "cell_type": "code",
      "metadata": {
        "id": "A4UW5eOccATX",
        "colab": {
          "base_uri": "https://localhost:8080/"
        },
        "outputId": "62ce46fa-2ef2-45fe-bb30-12bec299fb55"
      },
      "source": [
        "# 397 rows = 397 employees\n",
        "df.shape"
      ],
      "execution_count": 99,
      "outputs": [
        {
          "output_type": "execute_result",
          "data": {
            "text/plain": [
              "(397, 7)"
            ]
          },
          "metadata": {
            "tags": []
          },
          "execution_count": 99
        }
      ]
    },
    {
      "cell_type": "code",
      "metadata": {
        "id": "IERZRhoJbYxC",
        "colab": {
          "base_uri": "https://localhost:8080/",
          "height": 204
        },
        "outputId": "db28efb1-afca-437e-dc8c-f5955027f7f9"
      },
      "source": [
        "df.head()"
      ],
      "execution_count": 100,
      "outputs": [
        {
          "output_type": "execute_result",
          "data": {
            "text/html": [
              "<div>\n",
              "<style scoped>\n",
              "    .dataframe tbody tr th:only-of-type {\n",
              "        vertical-align: middle;\n",
              "    }\n",
              "\n",
              "    .dataframe tbody tr th {\n",
              "        vertical-align: top;\n",
              "    }\n",
              "\n",
              "    .dataframe thead th {\n",
              "        text-align: right;\n",
              "    }\n",
              "</style>\n",
              "<table border=\"1\" class=\"dataframe\">\n",
              "  <thead>\n",
              "    <tr style=\"text-align: right;\">\n",
              "      <th></th>\n",
              "      <th>Unnamed: 0</th>\n",
              "      <th>rank</th>\n",
              "      <th>discipline</th>\n",
              "      <th>yrs.since.phd</th>\n",
              "      <th>yrs.service</th>\n",
              "      <th>sex</th>\n",
              "      <th>salary</th>\n",
              "    </tr>\n",
              "  </thead>\n",
              "  <tbody>\n",
              "    <tr>\n",
              "      <th>0</th>\n",
              "      <td>1</td>\n",
              "      <td>Prof</td>\n",
              "      <td>B</td>\n",
              "      <td>19</td>\n",
              "      <td>18</td>\n",
              "      <td>Male</td>\n",
              "      <td>139750</td>\n",
              "    </tr>\n",
              "    <tr>\n",
              "      <th>1</th>\n",
              "      <td>2</td>\n",
              "      <td>Prof</td>\n",
              "      <td>B</td>\n",
              "      <td>20</td>\n",
              "      <td>16</td>\n",
              "      <td>Male</td>\n",
              "      <td>173200</td>\n",
              "    </tr>\n",
              "    <tr>\n",
              "      <th>2</th>\n",
              "      <td>3</td>\n",
              "      <td>AsstProf</td>\n",
              "      <td>B</td>\n",
              "      <td>4</td>\n",
              "      <td>3</td>\n",
              "      <td>Male</td>\n",
              "      <td>79750</td>\n",
              "    </tr>\n",
              "    <tr>\n",
              "      <th>3</th>\n",
              "      <td>4</td>\n",
              "      <td>Prof</td>\n",
              "      <td>B</td>\n",
              "      <td>45</td>\n",
              "      <td>39</td>\n",
              "      <td>Male</td>\n",
              "      <td>115000</td>\n",
              "    </tr>\n",
              "    <tr>\n",
              "      <th>4</th>\n",
              "      <td>5</td>\n",
              "      <td>Prof</td>\n",
              "      <td>B</td>\n",
              "      <td>40</td>\n",
              "      <td>41</td>\n",
              "      <td>Male</td>\n",
              "      <td>141500</td>\n",
              "    </tr>\n",
              "  </tbody>\n",
              "</table>\n",
              "</div>"
            ],
            "text/plain": [
              "   Unnamed: 0      rank discipline  yrs.since.phd  yrs.service   sex  salary\n",
              "0           1      Prof          B             19           18  Male  139750\n",
              "1           2      Prof          B             20           16  Male  173200\n",
              "2           3  AsstProf          B              4            3  Male   79750\n",
              "3           4      Prof          B             45           39  Male  115000\n",
              "4           5      Prof          B             40           41  Male  141500"
            ]
          },
          "metadata": {
            "tags": []
          },
          "execution_count": 100
        }
      ]
    },
    {
      "cell_type": "code",
      "metadata": {
        "id": "va7JVaVkbgf5",
        "colab": {
          "base_uri": "https://localhost:8080/",
          "height": 204
        },
        "outputId": "c36d230a-ecb5-436c-86ab-60124bfeed36"
      },
      "source": [
        "df.tail()"
      ],
      "execution_count": 101,
      "outputs": [
        {
          "output_type": "execute_result",
          "data": {
            "text/html": [
              "<div>\n",
              "<style scoped>\n",
              "    .dataframe tbody tr th:only-of-type {\n",
              "        vertical-align: middle;\n",
              "    }\n",
              "\n",
              "    .dataframe tbody tr th {\n",
              "        vertical-align: top;\n",
              "    }\n",
              "\n",
              "    .dataframe thead th {\n",
              "        text-align: right;\n",
              "    }\n",
              "</style>\n",
              "<table border=\"1\" class=\"dataframe\">\n",
              "  <thead>\n",
              "    <tr style=\"text-align: right;\">\n",
              "      <th></th>\n",
              "      <th>Unnamed: 0</th>\n",
              "      <th>rank</th>\n",
              "      <th>discipline</th>\n",
              "      <th>yrs.since.phd</th>\n",
              "      <th>yrs.service</th>\n",
              "      <th>sex</th>\n",
              "      <th>salary</th>\n",
              "    </tr>\n",
              "  </thead>\n",
              "  <tbody>\n",
              "    <tr>\n",
              "      <th>392</th>\n",
              "      <td>393</td>\n",
              "      <td>Prof</td>\n",
              "      <td>A</td>\n",
              "      <td>33</td>\n",
              "      <td>30</td>\n",
              "      <td>Male</td>\n",
              "      <td>103106</td>\n",
              "    </tr>\n",
              "    <tr>\n",
              "      <th>393</th>\n",
              "      <td>394</td>\n",
              "      <td>Prof</td>\n",
              "      <td>A</td>\n",
              "      <td>31</td>\n",
              "      <td>19</td>\n",
              "      <td>Male</td>\n",
              "      <td>150564</td>\n",
              "    </tr>\n",
              "    <tr>\n",
              "      <th>394</th>\n",
              "      <td>395</td>\n",
              "      <td>Prof</td>\n",
              "      <td>A</td>\n",
              "      <td>42</td>\n",
              "      <td>25</td>\n",
              "      <td>Male</td>\n",
              "      <td>101738</td>\n",
              "    </tr>\n",
              "    <tr>\n",
              "      <th>395</th>\n",
              "      <td>396</td>\n",
              "      <td>Prof</td>\n",
              "      <td>A</td>\n",
              "      <td>25</td>\n",
              "      <td>15</td>\n",
              "      <td>Male</td>\n",
              "      <td>95329</td>\n",
              "    </tr>\n",
              "    <tr>\n",
              "      <th>396</th>\n",
              "      <td>397</td>\n",
              "      <td>AsstProf</td>\n",
              "      <td>A</td>\n",
              "      <td>8</td>\n",
              "      <td>4</td>\n",
              "      <td>Male</td>\n",
              "      <td>81035</td>\n",
              "    </tr>\n",
              "  </tbody>\n",
              "</table>\n",
              "</div>"
            ],
            "text/plain": [
              "     Unnamed: 0      rank discipline  yrs.since.phd  yrs.service   sex  salary\n",
              "392         393      Prof          A             33           30  Male  103106\n",
              "393         394      Prof          A             31           19  Male  150564\n",
              "394         395      Prof          A             42           25  Male  101738\n",
              "395         396      Prof          A             25           15  Male   95329\n",
              "396         397  AsstProf          A              8            4  Male   81035"
            ]
          },
          "metadata": {
            "tags": []
          },
          "execution_count": 101
        }
      ]
    },
    {
      "cell_type": "code",
      "metadata": {
        "id": "nNjdIb0YbjBy",
        "colab": {
          "base_uri": "https://localhost:8080/",
          "height": 297
        },
        "outputId": "3f437448-b89f-4b83-cd76-4b9506314b65"
      },
      "source": [
        "df.describe()"
      ],
      "execution_count": 102,
      "outputs": [
        {
          "output_type": "execute_result",
          "data": {
            "text/html": [
              "<div>\n",
              "<style scoped>\n",
              "    .dataframe tbody tr th:only-of-type {\n",
              "        vertical-align: middle;\n",
              "    }\n",
              "\n",
              "    .dataframe tbody tr th {\n",
              "        vertical-align: top;\n",
              "    }\n",
              "\n",
              "    .dataframe thead th {\n",
              "        text-align: right;\n",
              "    }\n",
              "</style>\n",
              "<table border=\"1\" class=\"dataframe\">\n",
              "  <thead>\n",
              "    <tr style=\"text-align: right;\">\n",
              "      <th></th>\n",
              "      <th>Unnamed: 0</th>\n",
              "      <th>yrs.since.phd</th>\n",
              "      <th>yrs.service</th>\n",
              "      <th>salary</th>\n",
              "    </tr>\n",
              "  </thead>\n",
              "  <tbody>\n",
              "    <tr>\n",
              "      <th>count</th>\n",
              "      <td>397.000000</td>\n",
              "      <td>397.000000</td>\n",
              "      <td>397.000000</td>\n",
              "      <td>397.000000</td>\n",
              "    </tr>\n",
              "    <tr>\n",
              "      <th>mean</th>\n",
              "      <td>199.000000</td>\n",
              "      <td>22.314861</td>\n",
              "      <td>17.614610</td>\n",
              "      <td>113706.458438</td>\n",
              "    </tr>\n",
              "    <tr>\n",
              "      <th>std</th>\n",
              "      <td>114.748275</td>\n",
              "      <td>12.887003</td>\n",
              "      <td>13.006024</td>\n",
              "      <td>30289.038695</td>\n",
              "    </tr>\n",
              "    <tr>\n",
              "      <th>min</th>\n",
              "      <td>1.000000</td>\n",
              "      <td>1.000000</td>\n",
              "      <td>0.000000</td>\n",
              "      <td>57800.000000</td>\n",
              "    </tr>\n",
              "    <tr>\n",
              "      <th>25%</th>\n",
              "      <td>100.000000</td>\n",
              "      <td>12.000000</td>\n",
              "      <td>7.000000</td>\n",
              "      <td>91000.000000</td>\n",
              "    </tr>\n",
              "    <tr>\n",
              "      <th>50%</th>\n",
              "      <td>199.000000</td>\n",
              "      <td>21.000000</td>\n",
              "      <td>16.000000</td>\n",
              "      <td>107300.000000</td>\n",
              "    </tr>\n",
              "    <tr>\n",
              "      <th>75%</th>\n",
              "      <td>298.000000</td>\n",
              "      <td>32.000000</td>\n",
              "      <td>27.000000</td>\n",
              "      <td>134185.000000</td>\n",
              "    </tr>\n",
              "    <tr>\n",
              "      <th>max</th>\n",
              "      <td>397.000000</td>\n",
              "      <td>56.000000</td>\n",
              "      <td>60.000000</td>\n",
              "      <td>231545.000000</td>\n",
              "    </tr>\n",
              "  </tbody>\n",
              "</table>\n",
              "</div>"
            ],
            "text/plain": [
              "       Unnamed: 0  yrs.since.phd  yrs.service         salary\n",
              "count  397.000000     397.000000   397.000000     397.000000\n",
              "mean   199.000000      22.314861    17.614610  113706.458438\n",
              "std    114.748275      12.887003    13.006024   30289.038695\n",
              "min      1.000000       1.000000     0.000000   57800.000000\n",
              "25%    100.000000      12.000000     7.000000   91000.000000\n",
              "50%    199.000000      21.000000    16.000000  107300.000000\n",
              "75%    298.000000      32.000000    27.000000  134185.000000\n",
              "max    397.000000      56.000000    60.000000  231545.000000"
            ]
          },
          "metadata": {
            "tags": []
          },
          "execution_count": 102
        }
      ]
    },
    {
      "cell_type": "markdown",
      "metadata": {
        "id": "oOu2hmOQaUAG"
      },
      "source": [
        "# Mean/median of all salaries"
      ]
    },
    {
      "cell_type": "code",
      "metadata": {
        "id": "wgaarFV3cVM9",
        "colab": {
          "base_uri": "https://localhost:8080/"
        },
        "outputId": "2f108942-24d4-4260-d38e-bdb403cfc3a4"
      },
      "source": [
        "# Mean of all salaries\n",
        "df['salary'].mean()"
      ],
      "execution_count": 103,
      "outputs": [
        {
          "output_type": "execute_result",
          "data": {
            "text/plain": [
              "113706.45843828715"
            ]
          },
          "metadata": {
            "tags": []
          },
          "execution_count": 103
        }
      ]
    },
    {
      "cell_type": "code",
      "metadata": {
        "id": "1qQDqlPlcae3",
        "colab": {
          "base_uri": "https://localhost:8080/"
        },
        "outputId": "ad2e2948-6e93-4bf1-f029-bbf52c0af8f8"
      },
      "source": [
        "# Median of all salaries\n",
        "df['salary'].median()"
      ],
      "execution_count": 104,
      "outputs": [
        {
          "output_type": "execute_result",
          "data": {
            "text/plain": [
              "107300.0"
            ]
          },
          "metadata": {
            "tags": []
          },
          "execution_count": 104
        }
      ]
    },
    {
      "cell_type": "markdown",
      "metadata": {
        "id": "yCy0KrhbaV5n"
      },
      "source": [
        "# Median salary between gender and/or rank(title) Etc...\n"
      ]
    },
    {
      "cell_type": "markdown",
      "metadata": {
        "id": "pBNcIW03WmS2"
      },
      "source": [
        "Making a new Data Frame that only has the columns 'sex' and 'salary'"
      ]
    },
    {
      "cell_type": "code",
      "metadata": {
        "id": "jWAVicJXc-lk",
        "colab": {
          "base_uri": "https://localhost:8080/",
          "height": 419
        },
        "outputId": "438308e4-69af-42d6-8bf9-e808b08bcb93"
      },
      "source": [
        "# New Data Frame of only columns: 'sex' and 'salary'\n",
        "new_df = df[['sex', 'salary']]\n",
        "new_df"
      ],
      "execution_count": 105,
      "outputs": [
        {
          "output_type": "execute_result",
          "data": {
            "text/html": [
              "<div>\n",
              "<style scoped>\n",
              "    .dataframe tbody tr th:only-of-type {\n",
              "        vertical-align: middle;\n",
              "    }\n",
              "\n",
              "    .dataframe tbody tr th {\n",
              "        vertical-align: top;\n",
              "    }\n",
              "\n",
              "    .dataframe thead th {\n",
              "        text-align: right;\n",
              "    }\n",
              "</style>\n",
              "<table border=\"1\" class=\"dataframe\">\n",
              "  <thead>\n",
              "    <tr style=\"text-align: right;\">\n",
              "      <th></th>\n",
              "      <th>sex</th>\n",
              "      <th>salary</th>\n",
              "    </tr>\n",
              "  </thead>\n",
              "  <tbody>\n",
              "    <tr>\n",
              "      <th>0</th>\n",
              "      <td>Male</td>\n",
              "      <td>139750</td>\n",
              "    </tr>\n",
              "    <tr>\n",
              "      <th>1</th>\n",
              "      <td>Male</td>\n",
              "      <td>173200</td>\n",
              "    </tr>\n",
              "    <tr>\n",
              "      <th>2</th>\n",
              "      <td>Male</td>\n",
              "      <td>79750</td>\n",
              "    </tr>\n",
              "    <tr>\n",
              "      <th>3</th>\n",
              "      <td>Male</td>\n",
              "      <td>115000</td>\n",
              "    </tr>\n",
              "    <tr>\n",
              "      <th>4</th>\n",
              "      <td>Male</td>\n",
              "      <td>141500</td>\n",
              "    </tr>\n",
              "    <tr>\n",
              "      <th>...</th>\n",
              "      <td>...</td>\n",
              "      <td>...</td>\n",
              "    </tr>\n",
              "    <tr>\n",
              "      <th>392</th>\n",
              "      <td>Male</td>\n",
              "      <td>103106</td>\n",
              "    </tr>\n",
              "    <tr>\n",
              "      <th>393</th>\n",
              "      <td>Male</td>\n",
              "      <td>150564</td>\n",
              "    </tr>\n",
              "    <tr>\n",
              "      <th>394</th>\n",
              "      <td>Male</td>\n",
              "      <td>101738</td>\n",
              "    </tr>\n",
              "    <tr>\n",
              "      <th>395</th>\n",
              "      <td>Male</td>\n",
              "      <td>95329</td>\n",
              "    </tr>\n",
              "    <tr>\n",
              "      <th>396</th>\n",
              "      <td>Male</td>\n",
              "      <td>81035</td>\n",
              "    </tr>\n",
              "  </tbody>\n",
              "</table>\n",
              "<p>397 rows × 2 columns</p>\n",
              "</div>"
            ],
            "text/plain": [
              "      sex  salary\n",
              "0    Male  139750\n",
              "1    Male  173200\n",
              "2    Male   79750\n",
              "3    Male  115000\n",
              "4    Male  141500\n",
              "..    ...     ...\n",
              "392  Male  103106\n",
              "393  Male  150564\n",
              "394  Male  101738\n",
              "395  Male   95329\n",
              "396  Male   81035\n",
              "\n",
              "[397 rows x 2 columns]"
            ]
          },
          "metadata": {
            "tags": []
          },
          "execution_count": 105
        }
      ]
    },
    {
      "cell_type": "markdown",
      "metadata": {
        "id": "j6FRmL60Wxsl"
      },
      "source": [
        "Finding the Median salary"
      ]
    },
    {
      "cell_type": "code",
      "metadata": {
        "id": "ky6vVVnRdlnA",
        "colab": {
          "base_uri": "https://localhost:8080/",
          "height": 142
        },
        "outputId": "3c148f8b-8b6f-4899-a1d6-432cd3e1a739"
      },
      "source": [
        "# Median Salary of both Male and Female\n",
        "new_df.groupby('sex').median()"
      ],
      "execution_count": 106,
      "outputs": [
        {
          "output_type": "execute_result",
          "data": {
            "text/html": [
              "<div>\n",
              "<style scoped>\n",
              "    .dataframe tbody tr th:only-of-type {\n",
              "        vertical-align: middle;\n",
              "    }\n",
              "\n",
              "    .dataframe tbody tr th {\n",
              "        vertical-align: top;\n",
              "    }\n",
              "\n",
              "    .dataframe thead th {\n",
              "        text-align: right;\n",
              "    }\n",
              "</style>\n",
              "<table border=\"1\" class=\"dataframe\">\n",
              "  <thead>\n",
              "    <tr style=\"text-align: right;\">\n",
              "      <th></th>\n",
              "      <th>salary</th>\n",
              "    </tr>\n",
              "    <tr>\n",
              "      <th>sex</th>\n",
              "      <th></th>\n",
              "    </tr>\n",
              "  </thead>\n",
              "  <tbody>\n",
              "    <tr>\n",
              "      <th>Female</th>\n",
              "      <td>103750</td>\n",
              "    </tr>\n",
              "    <tr>\n",
              "      <th>Male</th>\n",
              "      <td>108043</td>\n",
              "    </tr>\n",
              "  </tbody>\n",
              "</table>\n",
              "</div>"
            ],
            "text/plain": [
              "        salary\n",
              "sex           \n",
              "Female  103750\n",
              "Male    108043"
            ]
          },
          "metadata": {
            "tags": []
          },
          "execution_count": 106
        }
      ]
    },
    {
      "cell_type": "markdown",
      "metadata": {
        "id": "Ob4zL1f96dpU"
      },
      "source": [
        "Finding the Median salary for all males"
      ]
    },
    {
      "cell_type": "code",
      "metadata": {
        "id": "yqVT-hX78_qk",
        "colab": {
          "base_uri": "https://localhost:8080/"
        },
        "outputId": "26af17d6-5ad8-4539-bda7-be7fabe6b4e8"
      },
      "source": [
        "# Median Salary of Male\n",
        "new_df[new_df['sex'] == 'Male'].median()"
      ],
      "execution_count": 107,
      "outputs": [
        {
          "output_type": "execute_result",
          "data": {
            "text/plain": [
              "salary    108043.0\n",
              "dtype: float64"
            ]
          },
          "metadata": {
            "tags": []
          },
          "execution_count": 107
        }
      ]
    },
    {
      "cell_type": "markdown",
      "metadata": {
        "id": "LeJTjR7IXAfs"
      },
      "source": [
        "Finding the Median salary for all females"
      ]
    },
    {
      "cell_type": "code",
      "metadata": {
        "id": "1oUJYrOP9Fub",
        "colab": {
          "base_uri": "https://localhost:8080/"
        },
        "outputId": "27981614-3d7a-4e8b-f1bc-aa27363113ad"
      },
      "source": [
        "# Median Salary of Female \n",
        "new_df[new_df['sex'] == 'Female'].median()"
      ],
      "execution_count": 108,
      "outputs": [
        {
          "output_type": "execute_result",
          "data": {
            "text/plain": [
              "salary    103750.0\n",
              "dtype: float64"
            ]
          },
          "metadata": {
            "tags": []
          },
          "execution_count": 108
        }
      ]
    },
    {
      "cell_type": "markdown",
      "metadata": {
        "id": "5Tw_igCfXWmB"
      },
      "source": [
        "Comparing the Mean salary of Males and Females"
      ]
    },
    {
      "cell_type": "code",
      "metadata": {
        "id": "R7TV0xtE9Ll8",
        "colab": {
          "base_uri": "https://localhost:8080/",
          "height": 142
        },
        "outputId": "09543271-1185-4ee8-c79d-a62177252cd4"
      },
      "source": [
        "# Mean salary of Males and Females\n",
        "new_df.groupby('sex').mean()"
      ],
      "execution_count": 109,
      "outputs": [
        {
          "output_type": "execute_result",
          "data": {
            "text/html": [
              "<div>\n",
              "<style scoped>\n",
              "    .dataframe tbody tr th:only-of-type {\n",
              "        vertical-align: middle;\n",
              "    }\n",
              "\n",
              "    .dataframe tbody tr th {\n",
              "        vertical-align: top;\n",
              "    }\n",
              "\n",
              "    .dataframe thead th {\n",
              "        text-align: right;\n",
              "    }\n",
              "</style>\n",
              "<table border=\"1\" class=\"dataframe\">\n",
              "  <thead>\n",
              "    <tr style=\"text-align: right;\">\n",
              "      <th></th>\n",
              "      <th>salary</th>\n",
              "    </tr>\n",
              "    <tr>\n",
              "      <th>sex</th>\n",
              "      <th></th>\n",
              "    </tr>\n",
              "  </thead>\n",
              "  <tbody>\n",
              "    <tr>\n",
              "      <th>Female</th>\n",
              "      <td>101002.410256</td>\n",
              "    </tr>\n",
              "    <tr>\n",
              "      <th>Male</th>\n",
              "      <td>115090.418994</td>\n",
              "    </tr>\n",
              "  </tbody>\n",
              "</table>\n",
              "</div>"
            ],
            "text/plain": [
              "               salary\n",
              "sex                  \n",
              "Female  101002.410256\n",
              "Male    115090.418994"
            ]
          },
          "metadata": {
            "tags": []
          },
          "execution_count": 109
        }
      ]
    },
    {
      "cell_type": "code",
      "metadata": {
        "id": "aPyxwdS69LpN",
        "colab": {
          "base_uri": "https://localhost:8080/"
        },
        "outputId": "ef9637e6-f69c-458b-e122-bd00f9fab4c3"
      },
      "source": [
        "# Mean Salary of Males\n",
        "male_mean_salary = new_df[new_df['sex'] == 'Male'].mean()\n",
        "male_mean_salary"
      ],
      "execution_count": 110,
      "outputs": [
        {
          "output_type": "execute_result",
          "data": {
            "text/plain": [
              "salary    115090.418994\n",
              "dtype: float64"
            ]
          },
          "metadata": {
            "tags": []
          },
          "execution_count": 110
        }
      ]
    },
    {
      "cell_type": "code",
      "metadata": {
        "colab": {
          "base_uri": "https://localhost:8080/"
        },
        "id": "ukCtGLsj7Au2",
        "outputId": "4b223c8a-c043-4c2e-fed1-de1f9f3f48df"
      },
      "source": [
        "# Mean Salary of Males\n",
        "female_mean_salary = new_df[new_df['sex'] == 'Female'].mean()\n",
        "female_mean_salary"
      ],
      "execution_count": 111,
      "outputs": [
        {
          "output_type": "execute_result",
          "data": {
            "text/plain": [
              "salary    101002.410256\n",
              "dtype: float64"
            ]
          },
          "metadata": {
            "tags": []
          },
          "execution_count": 111
        }
      ]
    },
    {
      "cell_type": "code",
      "metadata": {
        "id": "xOWSRisa9LyG",
        "colab": {
          "base_uri": "https://localhost:8080/"
        },
        "outputId": "d1942274-f6d5-47d4-939b-3eef8c002418"
      },
      "source": [
        "# The difference between mean salaries of male and female\r\n",
        "male_mean_salary - female_mean_salary"
      ],
      "execution_count": 112,
      "outputs": [
        {
          "output_type": "execute_result",
          "data": {
            "text/plain": [
              "salary    14088.008738\n",
              "dtype: float64"
            ]
          },
          "metadata": {
            "tags": []
          },
          "execution_count": 112
        }
      ]
    },
    {
      "cell_type": "markdown",
      "metadata": {
        "id": "fufsyykZafDa"
      },
      "source": [
        "# Data Wrangling – perform some basic transformations on the data"
      ]
    },
    {
      "cell_type": "markdown",
      "metadata": {
        "id": "KWpSuxybUGWK"
      },
      "source": [
        "People who have 20 years of experience (Total: 157), (Mean Salary: 122,520.66)"
      ]
    },
    {
      "cell_type": "code",
      "metadata": {
        "id": "n5sdVrDN9S7u",
        "colab": {
          "base_uri": "https://localhost:8080/"
        },
        "outputId": "20dc4125-80e6-44f2-eaa8-e9dbeafe912c"
      },
      "source": [
        "# Number of people who have 20 years of experience\n",
        "df[df['yrs.service'] == 20]['yrs.service'].count()"
      ],
      "execution_count": 113,
      "outputs": [
        {
          "output_type": "execute_result",
          "data": {
            "text/plain": [
              "10"
            ]
          },
          "metadata": {
            "tags": []
          },
          "execution_count": 113
        }
      ]
    },
    {
      "cell_type": "code",
      "metadata": {
        "id": "33ZLAyp69Ucw",
        "colab": {
          "base_uri": "https://localhost:8080/"
        },
        "outputId": "13818ea4-e1eb-4c3c-b768-ec8ac82df043"
      },
      "source": [
        "# Mean Salary of people who have 20 years of experience\n",
        "df[df['yrs.service'] == 20]['salary'].mean()"
      ],
      "execution_count": 114,
      "outputs": [
        {
          "output_type": "execute_result",
          "data": {
            "text/plain": [
              "128647.3"
            ]
          },
          "metadata": {
            "tags": []
          },
          "execution_count": 114
        }
      ]
    },
    {
      "cell_type": "markdown",
      "metadata": {
        "id": "rnhjMu7qX7ao"
      },
      "source": [
        "Comparing the salaries of people who have 20+ years of experience vs less than 20 years of experience"
      ]
    },
    {
      "cell_type": "code",
      "metadata": {
        "id": "VLBmpIXc9gKh",
        "colab": {
          "base_uri": "https://localhost:8080/"
        },
        "outputId": "42d1bd60-14ce-4748-e024-de1a4bcc0552"
      },
      "source": [
        "# Number of people who have 20+ years of experience\n",
        "df[df['yrs.service'] >= 20]['yrs.service'].count()"
      ],
      "execution_count": 115,
      "outputs": [
        {
          "output_type": "execute_result",
          "data": {
            "text/plain": [
              "157"
            ]
          },
          "metadata": {
            "tags": []
          },
          "execution_count": 115
        }
      ]
    },
    {
      "cell_type": "code",
      "metadata": {
        "id": "r5u5KyDe9gMn",
        "colab": {
          "base_uri": "https://localhost:8080/"
        },
        "outputId": "cbf54cc3-673d-4b67-f505-eaee121eec8b"
      },
      "source": [
        "# Mean Salary of people who have 20+ years of experience\n",
        "mean_salary_20PlusYears = df[df['yrs.service'] >= 20]['salary'].mean()\n",
        "mean_salary_20PlusYears"
      ],
      "execution_count": 116,
      "outputs": [
        {
          "output_type": "execute_result",
          "data": {
            "text/plain": [
              "122520.65605095541"
            ]
          },
          "metadata": {
            "tags": []
          },
          "execution_count": 116
        }
      ]
    },
    {
      "cell_type": "code",
      "metadata": {
        "id": "vcohgqM09gP_",
        "colab": {
          "base_uri": "https://localhost:8080/"
        },
        "outputId": "951ee1b3-1247-4cc4-d2a7-bc77082fbd93"
      },
      "source": [
        "# Number of people who have less than 20 years of experience\n",
        "df[df['yrs.service'] < 20]['yrs.service'].count()"
      ],
      "execution_count": 117,
      "outputs": [
        {
          "output_type": "execute_result",
          "data": {
            "text/plain": [
              "240"
            ]
          },
          "metadata": {
            "tags": []
          },
          "execution_count": 117
        }
      ]
    },
    {
      "cell_type": "code",
      "metadata": {
        "colab": {
          "base_uri": "https://localhost:8080/"
        },
        "id": "3P_jtbGs_CHy",
        "outputId": "b59b3716-50c8-4925-e824-3cbb95c449fb"
      },
      "source": [
        "# Mean Salary of people who have less than 20 years of experience\n",
        "mean_salary_LessThan20Years = df[df['yrs.service'] < 20]['salary'].mean()\n",
        "mean_salary_LessThan20Years"
      ],
      "execution_count": 118,
      "outputs": [
        {
          "output_type": "execute_result",
          "data": {
            "text/plain": [
              "107940.50416666667"
            ]
          },
          "metadata": {
            "tags": []
          },
          "execution_count": 118
        }
      ]
    },
    {
      "cell_type": "code",
      "metadata": {
        "colab": {
          "base_uri": "https://localhost:8080/"
        },
        "id": "tkdfuMLH_M9a",
        "outputId": "c335d7e3-690d-4dd9-be13-bf66ee27e2e4"
      },
      "source": [
        "# Difference of 20+ years of experience and less than 20 years of experience\n",
        "mean_salary_20PlusYears - mean_salary_LessThan20Years"
      ],
      "execution_count": 119,
      "outputs": [
        {
          "output_type": "execute_result",
          "data": {
            "text/plain": [
              "14580.151884288745"
            ]
          },
          "metadata": {
            "tags": []
          },
          "execution_count": 119
        }
      ]
    },
    {
      "cell_type": "markdown",
      "metadata": {
        "id": "54eM4tj4V66j"
      },
      "source": [
        "People who have salary of greater than or equal to 200,000"
      ]
    },
    {
      "cell_type": "code",
      "metadata": {
        "id": "pGOB4eEY9nwG",
        "colab": {
          "base_uri": "https://localhost:8080/",
          "height": 142
        },
        "outputId": "3e513edb-d18a-47aa-a539-2b0baec62b42"
      },
      "source": [
        "# People who have a salary greater than or equal to 200,000\n",
        "df[df['salary'] >= 200000]"
      ],
      "execution_count": 120,
      "outputs": [
        {
          "output_type": "execute_result",
          "data": {
            "text/html": [
              "<div>\n",
              "<style scoped>\n",
              "    .dataframe tbody tr th:only-of-type {\n",
              "        vertical-align: middle;\n",
              "    }\n",
              "\n",
              "    .dataframe tbody tr th {\n",
              "        vertical-align: top;\n",
              "    }\n",
              "\n",
              "    .dataframe thead th {\n",
              "        text-align: right;\n",
              "    }\n",
              "</style>\n",
              "<table border=\"1\" class=\"dataframe\">\n",
              "  <thead>\n",
              "    <tr style=\"text-align: right;\">\n",
              "      <th></th>\n",
              "      <th>Unnamed: 0</th>\n",
              "      <th>rank</th>\n",
              "      <th>discipline</th>\n",
              "      <th>yrs.since.phd</th>\n",
              "      <th>yrs.service</th>\n",
              "      <th>sex</th>\n",
              "      <th>salary</th>\n",
              "    </tr>\n",
              "  </thead>\n",
              "  <tbody>\n",
              "    <tr>\n",
              "      <th>43</th>\n",
              "      <td>44</td>\n",
              "      <td>Prof</td>\n",
              "      <td>B</td>\n",
              "      <td>38</td>\n",
              "      <td>38</td>\n",
              "      <td>Male</td>\n",
              "      <td>231545</td>\n",
              "    </tr>\n",
              "    <tr>\n",
              "      <th>249</th>\n",
              "      <td>250</td>\n",
              "      <td>Prof</td>\n",
              "      <td>A</td>\n",
              "      <td>29</td>\n",
              "      <td>7</td>\n",
              "      <td>Male</td>\n",
              "      <td>204000</td>\n",
              "    </tr>\n",
              "    <tr>\n",
              "      <th>364</th>\n",
              "      <td>365</td>\n",
              "      <td>Prof</td>\n",
              "      <td>A</td>\n",
              "      <td>43</td>\n",
              "      <td>43</td>\n",
              "      <td>Male</td>\n",
              "      <td>205500</td>\n",
              "    </tr>\n",
              "  </tbody>\n",
              "</table>\n",
              "</div>"
            ],
            "text/plain": [
              "     Unnamed: 0  rank discipline  yrs.since.phd  yrs.service   sex  salary\n",
              "43           44  Prof          B             38           38  Male  231545\n",
              "249         250  Prof          A             29            7  Male  204000\n",
              "364         365  Prof          A             43           43  Male  205500"
            ]
          },
          "metadata": {
            "tags": []
          },
          "execution_count": 120
        }
      ]
    },
    {
      "cell_type": "code",
      "metadata": {
        "id": "K1vHeaSS9nzB",
        "colab": {
          "base_uri": "https://localhost:8080/"
        },
        "outputId": "2dcffa6b-a60f-45cf-ee10-eb6844c42ada"
      },
      "source": [
        "# Number of people who have a salary greater than or equal to 200,000\n",
        "df[df['salary'] >= 200000]['salary'].count()"
      ],
      "execution_count": 121,
      "outputs": [
        {
          "output_type": "execute_result",
          "data": {
            "text/plain": [
              "3"
            ]
          },
          "metadata": {
            "tags": []
          },
          "execution_count": 121
        }
      ]
    },
    {
      "cell_type": "markdown",
      "metadata": {
        "id": "8zwXwZF0ZbPG"
      },
      "source": [
        "Findings:\n",
        "* There are 10 people who have 20 years of experience and an average salary of 128,647. \n",
        "* There are 157 people who have 20 plus years of experience and an average salary of 122,520.\n",
        "* There are 240 people who have less than 20 years of experience and an average salary of 107,940. \n",
        "* There are 3 people with a salary of greater than or equal to 200,000.\n"
      ]
    },
    {
      "cell_type": "markdown",
      "metadata": {
        "id": "Omuf-X37agBG"
      },
      "source": [
        "# Rename values, subset columns, etc"
      ]
    },
    {
      "cell_type": "code",
      "metadata": {
        "id": "6DzowXPt9vM3",
        "colab": {
          "base_uri": "https://localhost:8080/",
          "height": 419
        },
        "outputId": "41e420fc-122d-463b-94bf-d21377b60604"
      },
      "source": [
        "df.rename(columns={'Unnamed: 0': 'Person #', 'rank': 'Title', 'discipline': 'Track', 'yrs.since.phd': 'YrsOfExperienceSincePhd', 'yrs.service': 'YrsOfService', 'sex': 'Gender', 'salary': 'Salary'})"
      ],
      "execution_count": 122,
      "outputs": [
        {
          "output_type": "execute_result",
          "data": {
            "text/html": [
              "<div>\n",
              "<style scoped>\n",
              "    .dataframe tbody tr th:only-of-type {\n",
              "        vertical-align: middle;\n",
              "    }\n",
              "\n",
              "    .dataframe tbody tr th {\n",
              "        vertical-align: top;\n",
              "    }\n",
              "\n",
              "    .dataframe thead th {\n",
              "        text-align: right;\n",
              "    }\n",
              "</style>\n",
              "<table border=\"1\" class=\"dataframe\">\n",
              "  <thead>\n",
              "    <tr style=\"text-align: right;\">\n",
              "      <th></th>\n",
              "      <th>Person #</th>\n",
              "      <th>Title</th>\n",
              "      <th>Track</th>\n",
              "      <th>YrsOfExperienceSincePhd</th>\n",
              "      <th>YrsOfService</th>\n",
              "      <th>Gender</th>\n",
              "      <th>Salary</th>\n",
              "    </tr>\n",
              "  </thead>\n",
              "  <tbody>\n",
              "    <tr>\n",
              "      <th>0</th>\n",
              "      <td>1</td>\n",
              "      <td>Prof</td>\n",
              "      <td>B</td>\n",
              "      <td>19</td>\n",
              "      <td>18</td>\n",
              "      <td>Male</td>\n",
              "      <td>139750</td>\n",
              "    </tr>\n",
              "    <tr>\n",
              "      <th>1</th>\n",
              "      <td>2</td>\n",
              "      <td>Prof</td>\n",
              "      <td>B</td>\n",
              "      <td>20</td>\n",
              "      <td>16</td>\n",
              "      <td>Male</td>\n",
              "      <td>173200</td>\n",
              "    </tr>\n",
              "    <tr>\n",
              "      <th>2</th>\n",
              "      <td>3</td>\n",
              "      <td>AsstProf</td>\n",
              "      <td>B</td>\n",
              "      <td>4</td>\n",
              "      <td>3</td>\n",
              "      <td>Male</td>\n",
              "      <td>79750</td>\n",
              "    </tr>\n",
              "    <tr>\n",
              "      <th>3</th>\n",
              "      <td>4</td>\n",
              "      <td>Prof</td>\n",
              "      <td>B</td>\n",
              "      <td>45</td>\n",
              "      <td>39</td>\n",
              "      <td>Male</td>\n",
              "      <td>115000</td>\n",
              "    </tr>\n",
              "    <tr>\n",
              "      <th>4</th>\n",
              "      <td>5</td>\n",
              "      <td>Prof</td>\n",
              "      <td>B</td>\n",
              "      <td>40</td>\n",
              "      <td>41</td>\n",
              "      <td>Male</td>\n",
              "      <td>141500</td>\n",
              "    </tr>\n",
              "    <tr>\n",
              "      <th>...</th>\n",
              "      <td>...</td>\n",
              "      <td>...</td>\n",
              "      <td>...</td>\n",
              "      <td>...</td>\n",
              "      <td>...</td>\n",
              "      <td>...</td>\n",
              "      <td>...</td>\n",
              "    </tr>\n",
              "    <tr>\n",
              "      <th>392</th>\n",
              "      <td>393</td>\n",
              "      <td>Prof</td>\n",
              "      <td>A</td>\n",
              "      <td>33</td>\n",
              "      <td>30</td>\n",
              "      <td>Male</td>\n",
              "      <td>103106</td>\n",
              "    </tr>\n",
              "    <tr>\n",
              "      <th>393</th>\n",
              "      <td>394</td>\n",
              "      <td>Prof</td>\n",
              "      <td>A</td>\n",
              "      <td>31</td>\n",
              "      <td>19</td>\n",
              "      <td>Male</td>\n",
              "      <td>150564</td>\n",
              "    </tr>\n",
              "    <tr>\n",
              "      <th>394</th>\n",
              "      <td>395</td>\n",
              "      <td>Prof</td>\n",
              "      <td>A</td>\n",
              "      <td>42</td>\n",
              "      <td>25</td>\n",
              "      <td>Male</td>\n",
              "      <td>101738</td>\n",
              "    </tr>\n",
              "    <tr>\n",
              "      <th>395</th>\n",
              "      <td>396</td>\n",
              "      <td>Prof</td>\n",
              "      <td>A</td>\n",
              "      <td>25</td>\n",
              "      <td>15</td>\n",
              "      <td>Male</td>\n",
              "      <td>95329</td>\n",
              "    </tr>\n",
              "    <tr>\n",
              "      <th>396</th>\n",
              "      <td>397</td>\n",
              "      <td>AsstProf</td>\n",
              "      <td>A</td>\n",
              "      <td>8</td>\n",
              "      <td>4</td>\n",
              "      <td>Male</td>\n",
              "      <td>81035</td>\n",
              "    </tr>\n",
              "  </tbody>\n",
              "</table>\n",
              "<p>397 rows × 7 columns</p>\n",
              "</div>"
            ],
            "text/plain": [
              "     Person #     Title Track  ...  YrsOfService  Gender  Salary\n",
              "0           1      Prof     B  ...            18    Male  139750\n",
              "1           2      Prof     B  ...            16    Male  173200\n",
              "2           3  AsstProf     B  ...             3    Male   79750\n",
              "3           4      Prof     B  ...            39    Male  115000\n",
              "4           5      Prof     B  ...            41    Male  141500\n",
              "..        ...       ...   ...  ...           ...     ...     ...\n",
              "392       393      Prof     A  ...            30    Male  103106\n",
              "393       394      Prof     A  ...            19    Male  150564\n",
              "394       395      Prof     A  ...            25    Male  101738\n",
              "395       396      Prof     A  ...            15    Male   95329\n",
              "396       397  AsstProf     A  ...             4    Male   81035\n",
              "\n",
              "[397 rows x 7 columns]"
            ]
          },
          "metadata": {
            "tags": []
          },
          "execution_count": 122
        }
      ]
    },
    {
      "cell_type": "markdown",
      "metadata": {
        "id": "aExLKbRRaiAv"
      },
      "source": [
        "# Create some simple visualizations showing some simple statistics"
      ]
    },
    {
      "cell_type": "code",
      "metadata": {
        "id": "JX_P5QHV92Ji",
        "colab": {
          "base_uri": "https://localhost:8080/",
          "height": 319
        },
        "outputId": "f7749abd-a66e-4829-da73-74140cc20275"
      },
      "source": [
        "# Number of people with a certain type of salary\n",
        "new_df.hist()\n",
        "plt.xlabel('\\nSalary\\n')\n",
        "plt.ylabel('\\nNumber of People\\n')\n",
        "plt.show()"
      ],
      "execution_count": 123,
      "outputs": [
        {
          "output_type": "display_data",
          "data": {
            "image/png": "[encoded data removed]",
            "text/plain": [
              "<Figure size 432x288 with 1 Axes>"
            ]
          },
          "metadata": {
            "tags": [],
            "needs_background": "light"
          }
        }
      ]
    },
    {
      "cell_type": "code",
      "metadata": {
        "colab": {
          "base_uri": "https://localhost:8080/",
          "height": 343
        },
        "id": "xMJbubM4Z4JV",
        "outputId": "153bf095-c102-4ffe-e70e-748b941177e5"
      },
      "source": [
        "# Comparison between Male and Female Employees Average Salary\n",
        "df.groupby(['sex'])['salary'].mean().plot(kind='bar', figsize=(8,4), fontsize=13)\n",
        "plt.xlabel('\\nSex\\n')\n",
        "plt.ylabel('\\nSalary Average\\n')\n",
        "plt.show()"
      ],
      "execution_count": 124,
      "outputs": [
        {
          "output_type": "display_data",
          "data": {
            "image/png": "[encoded data removed]",
            "text/plain": [
              "<Figure size 576x288 with 1 Axes>"
            ]
          },
          "metadata": {
            "tags": [],
            "needs_background": "light"
          }
        }
      ]
    },
    {
      "cell_type": "code",
      "metadata": {
        "colab": {
          "base_uri": "https://localhost:8080/",
          "height": 340
        },
        "id": "a6Fa0tr5inaf",
        "outputId": "421a1ba2-e9af-4e94-9088-a4ce889a1411"
      },
      "source": [
        "# Comparison between Male and Female Employees Median Salary\n",
        "df.groupby(['sex'])['salary'].median().plot(kind='bar', figsize=(8,4), fontsize=13)\n",
        "plt.xlabel('\\nSex\\n')\n",
        "plt.ylabel('\\nMedian Salary\\n')\n",
        "plt.show()"
      ],
      "execution_count": 125,
      "outputs": [
        {
          "output_type": "display_data",
          "data": {
            "image/png": "[encoded data removed]",
            "text/plain": [
              "<Figure size 576x288 with 1 Axes>"
            ]
          },
          "metadata": {
            "tags": [],
            "needs_background": "light"
          }
        }
      ]
    },
    {
      "cell_type": "code",
      "metadata": {
        "id": "S_Bu49tD92ON",
        "colab": {
          "base_uri": "https://localhost:8080/",
          "height": 303
        },
        "outputId": "1b204abf-8135-4b6b-89d3-92c30118909d"
      },
      "source": [
        "# Correlation between years of experience and salary \n",
        "df.plot(kind='scatter', x = 'yrs.service', y = 'salary')\n",
        "plt.xlabel('\\nYears of Service\\n')\n",
        "plt.ylabel('\\nSalary\\n')\n",
        "plt.show()"
      ],
      "execution_count": 126,
      "outputs": [
        {
          "output_type": "display_data",
          "data": {
            "image/png": "[encoded data removed]",
            "text/plain": [
              "<Figure size 432x288 with 1 Axes>"
            ]
          },
          "metadata": {
            "tags": [],
            "needs_background": "light"
          }
        }
      ]
    },
    {
      "cell_type": "code",
      "metadata": {
        "colab": {
          "base_uri": "https://localhost:8080/",
          "height": 340
        },
        "id": "Het3VHNUivtr",
        "outputId": "bd6b3236-afa3-45f6-da12-08e6aa8d078a"
      },
      "source": [
        "# Comparison between Male and Female Employees Median Salary\n",
        "df.groupby(['sex'])['yrs.service'].mean().plot(kind='bar', figsize=(8,4), fontsize=13)\n",
        "plt.xlabel('\\nSex\\n')\n",
        "plt.ylabel('\\nAverage Years of Service\\n')\n",
        "plt.show()"
      ],
      "execution_count": 127,
      "outputs": [
        {
          "output_type": "display_data",
          "data": {
            "image/png": "[encoded data removed]",
            "text/plain": [
              "<Figure size 576x288 with 1 Axes>"
            ]
          },
          "metadata": {
            "tags": [],
            "needs_background": "light"
          }
        }
      ]
    },
    {
      "cell_type": "markdown",
      "metadata": {
        "id": "vM_4yRvgd6h2"
      },
      "source": [
        "Your observations from the visuals: \n",
        "* Many people make an average of $100,000\n",
        "* Majority of Male make more than Female on average, but the median is around the same. \n",
        "* There seems to be some kind of correlation between the number of experience and salary, but there are many outliers. "
      ]
    },
    {
      "cell_type": "markdown",
      "metadata": {
        "id": "mZoOuCUvakSc"
      },
      "source": [
        "# Draw some conclusions based on the data.  What did you discover?"
      ]
    },
    {
      "cell_type": "markdown",
      "metadata": {
        "id": "gBp8qWEDbhKH"
      },
      "source": [
        "Based on the analysis performed above, the conclusions are as follows:\n",
        "\n",
        "Male employees tend to make more than female employees on average and male employees tend to stay at the same job for a longer period of years than females. With this result, I decided to create a scatter plot to see the correlation between years of service and salary and there was not a clear picture of that because of the many outliers in the figure. "
      ]
    }
  ]
}
