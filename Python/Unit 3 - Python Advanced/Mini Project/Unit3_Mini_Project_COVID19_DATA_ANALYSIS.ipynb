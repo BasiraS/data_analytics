{
  "nbformat": 4,
  "nbformat_minor": 0,
  "metadata": {
    "colab": {
      "name": "Unit3_Mini_Project_COVID19_DATA_ANALYSIS.ipynb",
      "provenance": [],
      "collapsed_sections": [],
      "include_colab_link": true
    },
    "kernelspec": {
      "name": "python3",
      "display_name": "Python 3"
    }
  },
  "cells": [
    {
      "cell_type": "markdown",
      "metadata": {
        "id": "view-in-github",
        "colab_type": "text"
      },
      "source": [
        "<a href=\"https://colab.research.google.com/github/BasiraS/data_analytics_2/blob/main/Python/Unit%203%20-%20Python%20Advanced/Mini%20Project/Unit3_Mini_Project_COVID19_DATA_ANALYSIS.ipynb\" target=\"_parent\"><img src=\"https://colab.research.google.com/assets/colab-badge.svg\" alt=\"Open In Colab\"/></a>"
      ]
    },
    {
      "cell_type": "markdown",
      "metadata": {
        "id": "bDZ4etebLnO7"
      },
      "source": [
        "# Name: Basira Shirzad\n",
        "\n",
        "# Date: 01-13-2020"
      ]
    },
    {
      "cell_type": "markdown",
      "metadata": {
        "id": "9jvXpX2bbIFF"
      },
      "source": [
        "# COVID 19 Data Analysis"
      ]
    },
    {
      "cell_type": "markdown",
      "metadata": {
        "id": "RSvGZmxBa_Gk"
      },
      "source": [
        "**Description:** This script will read the latest data from the New York Times' county-level COVID-19 database at https://github.com/nytimes/covid-19-data/blob/master/us-counties.csv, filter the data for a chosen county in a chosen state, calculate the daily count of new cases and new deaths, print the most recent 28 days' worth of data for the selected county, and save the county's data for all dates to a comma-separated value (.csv) file on your computer. The printed data can be copied and pasted directly into a spreadsheet for further analysis and visualization.\r\n",
        "\r\n",
        "**Note:** For information about the data, see https://github.com/nytimes/covid-19-data.\r\n",
        "\r\n",
        "**Note:** After you have run the script one time in a given Anaconda environment, you may reduce the script's execution time by adding a `#` in front of `pip install pandas`. For example, `#pip install pandas` instead of `pip install pandas`. The `#` will tell Python to skip the code without running it."
      ]
    },
    {
      "cell_type": "markdown",
      "metadata": {
        "id": "ji_HknaobZJh"
      },
      "source": [
        "# Task 1 : Environment Set up"
      ]
    },
    {
      "cell_type": "markdown",
      "metadata": {
        "id": "q2y0bY0XbhNZ"
      },
      "source": [
        "Import all required libraries that are needed for data analysis"
      ]
    },
    {
      "cell_type": "code",
      "metadata": {
        "id": "k2f9bX3aiTDP"
      },
      "source": [
        "# Standard Libraries for visualization and data wrangling \n",
        "import pandas as pd\n",
        "import numpy as np\n",
        "import matplotlib.pyplot as plt\n",
        "from matplotlib import style"
      ],
      "execution_count": 592,
      "outputs": []
    },
    {
      "cell_type": "markdown",
      "metadata": {
        "id": "vgt8s61dbueM"
      },
      "source": [
        "# Task 2 :  Data Collection"
      ]
    },
    {
      "cell_type": "markdown",
      "metadata": {
        "id": "CEc5pqrkbxcX"
      },
      "source": [
        "Use nytimes github repository as a data source to collect the covid 19 data in real time and ingest it into colab notebook for data anlysis purpose"
      ]
    },
    {
      "cell_type": "code",
      "metadata": {
        "id": "vgw9nO9Hm_SB"
      },
      "source": [
        "# Import the COVID19 data set into a pandas dataframe\n",
        "df = pd.read_csv('https://raw.githubusercontent.com/nytimes/covid-19-data/master/us-states.csv')"
      ],
      "execution_count": 593,
      "outputs": []
    },
    {
      "cell_type": "code",
      "metadata": {
        "colab": {
          "base_uri": "https://localhost:8080/",
          "height": 406
        },
        "id": "7ydN2u36cxEk",
        "outputId": "7f622db0-8a2a-428a-8c1c-9a5f8968c13d"
      },
      "source": [
        "# Check the head of the dataframe to get a clear idea of all the columns in the dataframe\n",
        "df"
      ],
      "execution_count": 594,
      "outputs": [
        {
          "output_type": "execute_result",
          "data": {
            "text/html": [
              "<div>\n",
              "<style scoped>\n",
              "    .dataframe tbody tr th:only-of-type {\n",
              "        vertical-align: middle;\n",
              "    }\n",
              "\n",
              "    .dataframe tbody tr th {\n",
              "        vertical-align: top;\n",
              "    }\n",
              "\n",
              "    .dataframe thead th {\n",
              "        text-align: right;\n",
              "    }\n",
              "</style>\n",
              "<table border=\"1\" class=\"dataframe\">\n",
              "  <thead>\n",
              "    <tr style=\"text-align: right;\">\n",
              "      <th></th>\n",
              "      <th>date</th>\n",
              "      <th>state</th>\n",
              "      <th>fips</th>\n",
              "      <th>cases</th>\n",
              "      <th>deaths</th>\n",
              "    </tr>\n",
              "  </thead>\n",
              "  <tbody>\n",
              "    <tr>\n",
              "      <th>0</th>\n",
              "      <td>2020-01-21</td>\n",
              "      <td>Washington</td>\n",
              "      <td>53</td>\n",
              "      <td>1</td>\n",
              "      <td>0</td>\n",
              "    </tr>\n",
              "    <tr>\n",
              "      <th>1</th>\n",
              "      <td>2020-01-22</td>\n",
              "      <td>Washington</td>\n",
              "      <td>53</td>\n",
              "      <td>1</td>\n",
              "      <td>0</td>\n",
              "    </tr>\n",
              "    <tr>\n",
              "      <th>2</th>\n",
              "      <td>2020-01-23</td>\n",
              "      <td>Washington</td>\n",
              "      <td>53</td>\n",
              "      <td>1</td>\n",
              "      <td>0</td>\n",
              "    </tr>\n",
              "    <tr>\n",
              "      <th>3</th>\n",
              "      <td>2020-01-24</td>\n",
              "      <td>Illinois</td>\n",
              "      <td>17</td>\n",
              "      <td>1</td>\n",
              "      <td>0</td>\n",
              "    </tr>\n",
              "    <tr>\n",
              "      <th>4</th>\n",
              "      <td>2020-01-24</td>\n",
              "      <td>Washington</td>\n",
              "      <td>53</td>\n",
              "      <td>1</td>\n",
              "      <td>0</td>\n",
              "    </tr>\n",
              "    <tr>\n",
              "      <th>...</th>\n",
              "      <td>...</td>\n",
              "      <td>...</td>\n",
              "      <td>...</td>\n",
              "      <td>...</td>\n",
              "      <td>...</td>\n",
              "    </tr>\n",
              "    <tr>\n",
              "      <th>17609</th>\n",
              "      <td>2021-01-16</td>\n",
              "      <td>Virginia</td>\n",
              "      <td>51</td>\n",
              "      <td>429391</td>\n",
              "      <td>5706</td>\n",
              "    </tr>\n",
              "    <tr>\n",
              "      <th>17610</th>\n",
              "      <td>2021-01-16</td>\n",
              "      <td>Washington</td>\n",
              "      <td>53</td>\n",
              "      <td>290896</td>\n",
              "      <td>3971</td>\n",
              "    </tr>\n",
              "    <tr>\n",
              "      <th>17611</th>\n",
              "      <td>2021-01-16</td>\n",
              "      <td>West Virginia</td>\n",
              "      <td>54</td>\n",
              "      <td>108124</td>\n",
              "      <td>1761</td>\n",
              "    </tr>\n",
              "    <tr>\n",
              "      <th>17612</th>\n",
              "      <td>2021-01-16</td>\n",
              "      <td>Wisconsin</td>\n",
              "      <td>55</td>\n",
              "      <td>566275</td>\n",
              "      <td>5906</td>\n",
              "    </tr>\n",
              "    <tr>\n",
              "      <th>17613</th>\n",
              "      <td>2021-01-16</td>\n",
              "      <td>Wyoming</td>\n",
              "      <td>56</td>\n",
              "      <td>49068</td>\n",
              "      <td>522</td>\n",
              "    </tr>\n",
              "  </tbody>\n",
              "</table>\n",
              "<p>17614 rows × 5 columns</p>\n",
              "</div>"
            ],
            "text/plain": [
              "             date          state  fips   cases  deaths\n",
              "0      2020-01-21     Washington    53       1       0\n",
              "1      2020-01-22     Washington    53       1       0\n",
              "2      2020-01-23     Washington    53       1       0\n",
              "3      2020-01-24       Illinois    17       1       0\n",
              "4      2020-01-24     Washington    53       1       0\n",
              "...           ...            ...   ...     ...     ...\n",
              "17609  2021-01-16       Virginia    51  429391    5706\n",
              "17610  2021-01-16     Washington    53  290896    3971\n",
              "17611  2021-01-16  West Virginia    54  108124    1761\n",
              "17612  2021-01-16      Wisconsin    55  566275    5906\n",
              "17613  2021-01-16        Wyoming    56   49068     522\n",
              "\n",
              "[17614 rows x 5 columns]"
            ]
          },
          "metadata": {
            "tags": []
          },
          "execution_count": 594
        }
      ]
    },
    {
      "cell_type": "code",
      "metadata": {
        "id": "ap0owuu30bLe",
        "colab": {
          "base_uri": "https://localhost:8080/"
        },
        "outputId": "d0fbce08-d01f-4ac5-fd0f-84932a3f3017"
      },
      "source": [
        "# Rows and Columns of the DataFrame\n",
        "df.shape"
      ],
      "execution_count": 595,
      "outputs": [
        {
          "output_type": "execute_result",
          "data": {
            "text/plain": [
              "(17614, 5)"
            ]
          },
          "metadata": {
            "tags": []
          },
          "execution_count": 595
        }
      ]
    },
    {
      "cell_type": "code",
      "metadata": {
        "id": "zZdaTiUk0fqE",
        "colab": {
          "base_uri": "https://localhost:8080/"
        },
        "outputId": "1e2f109d-6388-4e09-8ddb-a09124064c2d"
      },
      "source": [
        "# List of Columns in the DataFrame\n",
        "df.columns"
      ],
      "execution_count": 596,
      "outputs": [
        {
          "output_type": "execute_result",
          "data": {
            "text/plain": [
              "Index(['date', 'state', 'fips', 'cases', 'deaths'], dtype='object')"
            ]
          },
          "metadata": {
            "tags": []
          },
          "execution_count": 596
        }
      ]
    },
    {
      "cell_type": "code",
      "metadata": {
        "colab": {
          "base_uri": "https://localhost:8080/"
        },
        "id": "vwaCyFeCIsS6",
        "outputId": "821078fb-823f-4576-f9f5-76d973623cdc"
      },
      "source": [
        "# Data type of the columns in the DataFrame\n",
        "df.dtypes"
      ],
      "execution_count": 597,
      "outputs": [
        {
          "output_type": "execute_result",
          "data": {
            "text/plain": [
              "date      object\n",
              "state     object\n",
              "fips       int64\n",
              "cases      int64\n",
              "deaths     int64\n",
              "dtype: object"
            ]
          },
          "metadata": {
            "tags": []
          },
          "execution_count": 597
        }
      ]
    },
    {
      "cell_type": "markdown",
      "metadata": {
        "id": "dXToiyPccf4h"
      },
      "source": [
        "# Task 3 : Data Wrangling and EDA (Exploratory Data Analysis)"
      ]
    },
    {
      "cell_type": "markdown",
      "metadata": {
        "id": "XrywUhma1LD6"
      },
      "source": [
        "Enriching the data frame by adding columns that include data on new covid 19 cases and deaths on daily basis (new cases added everyday)\n"
      ]
    },
    {
      "cell_type": "code",
      "metadata": {
        "colab": {
          "base_uri": "https://localhost:8080/",
          "height": 406
        },
        "id": "HZpz_rutgQr3",
        "outputId": "467aa096-06cc-4923-9127-f8eb8fefb753"
      },
      "source": [
        "# Sort the data frame by state and date \n",
        "df = df.sort_values(['state', 'date'])\n",
        "df"
      ],
      "execution_count": 598,
      "outputs": [
        {
          "output_type": "execute_result",
          "data": {
            "text/html": [
              "<div>\n",
              "<style scoped>\n",
              "    .dataframe tbody tr th:only-of-type {\n",
              "        vertical-align: middle;\n",
              "    }\n",
              "\n",
              "    .dataframe tbody tr th {\n",
              "        vertical-align: top;\n",
              "    }\n",
              "\n",
              "    .dataframe thead th {\n",
              "        text-align: right;\n",
              "    }\n",
              "</style>\n",
              "<table border=\"1\" class=\"dataframe\">\n",
              "  <thead>\n",
              "    <tr style=\"text-align: right;\">\n",
              "      <th></th>\n",
              "      <th>date</th>\n",
              "      <th>state</th>\n",
              "      <th>fips</th>\n",
              "      <th>cases</th>\n",
              "      <th>deaths</th>\n",
              "    </tr>\n",
              "  </thead>\n",
              "  <tbody>\n",
              "    <tr>\n",
              "      <th>586</th>\n",
              "      <td>2020-03-13</td>\n",
              "      <td>Alabama</td>\n",
              "      <td>1</td>\n",
              "      <td>6</td>\n",
              "      <td>0</td>\n",
              "    </tr>\n",
              "    <tr>\n",
              "      <th>637</th>\n",
              "      <td>2020-03-14</td>\n",
              "      <td>Alabama</td>\n",
              "      <td>1</td>\n",
              "      <td>12</td>\n",
              "      <td>0</td>\n",
              "    </tr>\n",
              "    <tr>\n",
              "      <th>689</th>\n",
              "      <td>2020-03-15</td>\n",
              "      <td>Alabama</td>\n",
              "      <td>1</td>\n",
              "      <td>23</td>\n",
              "      <td>0</td>\n",
              "    </tr>\n",
              "    <tr>\n",
              "      <th>742</th>\n",
              "      <td>2020-03-16</td>\n",
              "      <td>Alabama</td>\n",
              "      <td>1</td>\n",
              "      <td>29</td>\n",
              "      <td>0</td>\n",
              "    </tr>\n",
              "    <tr>\n",
              "      <th>795</th>\n",
              "      <td>2020-03-17</td>\n",
              "      <td>Alabama</td>\n",
              "      <td>1</td>\n",
              "      <td>39</td>\n",
              "      <td>0</td>\n",
              "    </tr>\n",
              "    <tr>\n",
              "      <th>...</th>\n",
              "      <td>...</td>\n",
              "      <td>...</td>\n",
              "      <td>...</td>\n",
              "      <td>...</td>\n",
              "      <td>...</td>\n",
              "    </tr>\n",
              "    <tr>\n",
              "      <th>17393</th>\n",
              "      <td>2021-01-12</td>\n",
              "      <td>Wyoming</td>\n",
              "      <td>56</td>\n",
              "      <td>48072</td>\n",
              "      <td>522</td>\n",
              "    </tr>\n",
              "    <tr>\n",
              "      <th>17448</th>\n",
              "      <td>2021-01-13</td>\n",
              "      <td>Wyoming</td>\n",
              "      <td>56</td>\n",
              "      <td>48289</td>\n",
              "      <td>522</td>\n",
              "    </tr>\n",
              "    <tr>\n",
              "      <th>17503</th>\n",
              "      <td>2021-01-14</td>\n",
              "      <td>Wyoming</td>\n",
              "      <td>56</td>\n",
              "      <td>48701</td>\n",
              "      <td>522</td>\n",
              "    </tr>\n",
              "    <tr>\n",
              "      <th>17558</th>\n",
              "      <td>2021-01-15</td>\n",
              "      <td>Wyoming</td>\n",
              "      <td>56</td>\n",
              "      <td>48909</td>\n",
              "      <td>522</td>\n",
              "    </tr>\n",
              "    <tr>\n",
              "      <th>17613</th>\n",
              "      <td>2021-01-16</td>\n",
              "      <td>Wyoming</td>\n",
              "      <td>56</td>\n",
              "      <td>49068</td>\n",
              "      <td>522</td>\n",
              "    </tr>\n",
              "  </tbody>\n",
              "</table>\n",
              "<p>17614 rows × 5 columns</p>\n",
              "</div>"
            ],
            "text/plain": [
              "             date    state  fips  cases  deaths\n",
              "586    2020-03-13  Alabama     1      6       0\n",
              "637    2020-03-14  Alabama     1     12       0\n",
              "689    2020-03-15  Alabama     1     23       0\n",
              "742    2020-03-16  Alabama     1     29       0\n",
              "795    2020-03-17  Alabama     1     39       0\n",
              "...           ...      ...   ...    ...     ...\n",
              "17393  2021-01-12  Wyoming    56  48072     522\n",
              "17448  2021-01-13  Wyoming    56  48289     522\n",
              "17503  2021-01-14  Wyoming    56  48701     522\n",
              "17558  2021-01-15  Wyoming    56  48909     522\n",
              "17613  2021-01-16  Wyoming    56  49068     522\n",
              "\n",
              "[17614 rows x 5 columns]"
            ]
          },
          "metadata": {
            "tags": []
          },
          "execution_count": 598
        }
      ]
    },
    {
      "cell_type": "code",
      "metadata": {
        "colab": {
          "base_uri": "https://localhost:8080/",
          "height": 406
        },
        "id": "00Wg9LvQKXXS",
        "outputId": "e656ede9-11fe-4f1e-b31b-e1bbd33cd310"
      },
      "source": [
        "# Modified DataFrame to add Month\n",
        "month = pd.DatetimeIndex(df['date']).month.map(\"{:02}\".format)\n",
        "year = pd.DatetimeIndex(df['date']).year\n",
        "\n",
        "df.insert(loc=1, column='year', value=year)\n",
        "df.insert(loc=2, column='month', value=month)\n",
        "\n",
        "year_month =  df['year'].astype(str) + '-' + df['month'].astype(str)\n",
        "df.insert(loc=3, column='year_month', value=year_month)\n",
        "\n",
        "df"
      ],
      "execution_count": 599,
      "outputs": [
        {
          "output_type": "execute_result",
          "data": {
            "text/html": [
              "<div>\n",
              "<style scoped>\n",
              "    .dataframe tbody tr th:only-of-type {\n",
              "        vertical-align: middle;\n",
              "    }\n",
              "\n",
              "    .dataframe tbody tr th {\n",
              "        vertical-align: top;\n",
              "    }\n",
              "\n",
              "    .dataframe thead th {\n",
              "        text-align: right;\n",
              "    }\n",
              "</style>\n",
              "<table border=\"1\" class=\"dataframe\">\n",
              "  <thead>\n",
              "    <tr style=\"text-align: right;\">\n",
              "      <th></th>\n",
              "      <th>date</th>\n",
              "      <th>year</th>\n",
              "      <th>month</th>\n",
              "      <th>year_month</th>\n",
              "      <th>state</th>\n",
              "      <th>fips</th>\n",
              "      <th>cases</th>\n",
              "      <th>deaths</th>\n",
              "    </tr>\n",
              "  </thead>\n",
              "  <tbody>\n",
              "    <tr>\n",
              "      <th>586</th>\n",
              "      <td>2020-03-13</td>\n",
              "      <td>2020</td>\n",
              "      <td>03</td>\n",
              "      <td>2020-03</td>\n",
              "      <td>Alabama</td>\n",
              "      <td>1</td>\n",
              "      <td>6</td>\n",
              "      <td>0</td>\n",
              "    </tr>\n",
              "    <tr>\n",
              "      <th>637</th>\n",
              "      <td>2020-03-14</td>\n",
              "      <td>2020</td>\n",
              "      <td>03</td>\n",
              "      <td>2020-03</td>\n",
              "      <td>Alabama</td>\n",
              "      <td>1</td>\n",
              "      <td>12</td>\n",
              "      <td>0</td>\n",
              "    </tr>\n",
              "    <tr>\n",
              "      <th>689</th>\n",
              "      <td>2020-03-15</td>\n",
              "      <td>2020</td>\n",
              "      <td>03</td>\n",
              "      <td>2020-03</td>\n",
              "      <td>Alabama</td>\n",
              "      <td>1</td>\n",
              "      <td>23</td>\n",
              "      <td>0</td>\n",
              "    </tr>\n",
              "    <tr>\n",
              "      <th>742</th>\n",
              "      <td>2020-03-16</td>\n",
              "      <td>2020</td>\n",
              "      <td>03</td>\n",
              "      <td>2020-03</td>\n",
              "      <td>Alabama</td>\n",
              "      <td>1</td>\n",
              "      <td>29</td>\n",
              "      <td>0</td>\n",
              "    </tr>\n",
              "    <tr>\n",
              "      <th>795</th>\n",
              "      <td>2020-03-17</td>\n",
              "      <td>2020</td>\n",
              "      <td>03</td>\n",
              "      <td>2020-03</td>\n",
              "      <td>Alabama</td>\n",
              "      <td>1</td>\n",
              "      <td>39</td>\n",
              "      <td>0</td>\n",
              "    </tr>\n",
              "    <tr>\n",
              "      <th>...</th>\n",
              "      <td>...</td>\n",
              "      <td>...</td>\n",
              "      <td>...</td>\n",
              "      <td>...</td>\n",
              "      <td>...</td>\n",
              "      <td>...</td>\n",
              "      <td>...</td>\n",
              "      <td>...</td>\n",
              "    </tr>\n",
              "    <tr>\n",
              "      <th>17393</th>\n",
              "      <td>2021-01-12</td>\n",
              "      <td>2021</td>\n",
              "      <td>01</td>\n",
              "      <td>2021-01</td>\n",
              "      <td>Wyoming</td>\n",
              "      <td>56</td>\n",
              "      <td>48072</td>\n",
              "      <td>522</td>\n",
              "    </tr>\n",
              "    <tr>\n",
              "      <th>17448</th>\n",
              "      <td>2021-01-13</td>\n",
              "      <td>2021</td>\n",
              "      <td>01</td>\n",
              "      <td>2021-01</td>\n",
              "      <td>Wyoming</td>\n",
              "      <td>56</td>\n",
              "      <td>48289</td>\n",
              "      <td>522</td>\n",
              "    </tr>\n",
              "    <tr>\n",
              "      <th>17503</th>\n",
              "      <td>2021-01-14</td>\n",
              "      <td>2021</td>\n",
              "      <td>01</td>\n",
              "      <td>2021-01</td>\n",
              "      <td>Wyoming</td>\n",
              "      <td>56</td>\n",
              "      <td>48701</td>\n",
              "      <td>522</td>\n",
              "    </tr>\n",
              "    <tr>\n",
              "      <th>17558</th>\n",
              "      <td>2021-01-15</td>\n",
              "      <td>2021</td>\n",
              "      <td>01</td>\n",
              "      <td>2021-01</td>\n",
              "      <td>Wyoming</td>\n",
              "      <td>56</td>\n",
              "      <td>48909</td>\n",
              "      <td>522</td>\n",
              "    </tr>\n",
              "    <tr>\n",
              "      <th>17613</th>\n",
              "      <td>2021-01-16</td>\n",
              "      <td>2021</td>\n",
              "      <td>01</td>\n",
              "      <td>2021-01</td>\n",
              "      <td>Wyoming</td>\n",
              "      <td>56</td>\n",
              "      <td>49068</td>\n",
              "      <td>522</td>\n",
              "    </tr>\n",
              "  </tbody>\n",
              "</table>\n",
              "<p>17614 rows × 8 columns</p>\n",
              "</div>"
            ],
            "text/plain": [
              "             date  year month year_month    state  fips  cases  deaths\n",
              "586    2020-03-13  2020    03    2020-03  Alabama     1      6       0\n",
              "637    2020-03-14  2020    03    2020-03  Alabama     1     12       0\n",
              "689    2020-03-15  2020    03    2020-03  Alabama     1     23       0\n",
              "742    2020-03-16  2020    03    2020-03  Alabama     1     29       0\n",
              "795    2020-03-17  2020    03    2020-03  Alabama     1     39       0\n",
              "...           ...   ...   ...        ...      ...   ...    ...     ...\n",
              "17393  2021-01-12  2021    01    2021-01  Wyoming    56  48072     522\n",
              "17448  2021-01-13  2021    01    2021-01  Wyoming    56  48289     522\n",
              "17503  2021-01-14  2021    01    2021-01  Wyoming    56  48701     522\n",
              "17558  2021-01-15  2021    01    2021-01  Wyoming    56  48909     522\n",
              "17613  2021-01-16  2021    01    2021-01  Wyoming    56  49068     522\n",
              "\n",
              "[17614 rows x 8 columns]"
            ]
          },
          "metadata": {
            "tags": []
          },
          "execution_count": 599
        }
      ]
    },
    {
      "cell_type": "code",
      "metadata": {
        "colab": {
          "base_uri": "https://localhost:8080/",
          "height": 406
        },
        "id": "VtIe7cbjlTON",
        "outputId": "aaa63556-b67b-45c5-df8d-3f4e0de5d079"
      },
      "source": [
        "# Calculate the number of new cases and new deaths on each day for each state \n",
        "df['new cases'] = np.where(df.state == df.state.shift(), df.cases - df.cases.shift(), df.cases)\n",
        "df['new deaths'] = np.where(df.state == df.state.shift(), df.deaths - df.deaths.shift(), df.deaths)\n",
        "df"
      ],
      "execution_count": 600,
      "outputs": [
        {
          "output_type": "execute_result",
          "data": {
            "text/html": [
              "<div>\n",
              "<style scoped>\n",
              "    .dataframe tbody tr th:only-of-type {\n",
              "        vertical-align: middle;\n",
              "    }\n",
              "\n",
              "    .dataframe tbody tr th {\n",
              "        vertical-align: top;\n",
              "    }\n",
              "\n",
              "    .dataframe thead th {\n",
              "        text-align: right;\n",
              "    }\n",
              "</style>\n",
              "<table border=\"1\" class=\"dataframe\">\n",
              "  <thead>\n",
              "    <tr style=\"text-align: right;\">\n",
              "      <th></th>\n",
              "      <th>date</th>\n",
              "      <th>year</th>\n",
              "      <th>month</th>\n",
              "      <th>year_month</th>\n",
              "      <th>state</th>\n",
              "      <th>fips</th>\n",
              "      <th>cases</th>\n",
              "      <th>deaths</th>\n",
              "      <th>new cases</th>\n",
              "      <th>new deaths</th>\n",
              "    </tr>\n",
              "  </thead>\n",
              "  <tbody>\n",
              "    <tr>\n",
              "      <th>586</th>\n",
              "      <td>2020-03-13</td>\n",
              "      <td>2020</td>\n",
              "      <td>03</td>\n",
              "      <td>2020-03</td>\n",
              "      <td>Alabama</td>\n",
              "      <td>1</td>\n",
              "      <td>6</td>\n",
              "      <td>0</td>\n",
              "      <td>6.0</td>\n",
              "      <td>0.0</td>\n",
              "    </tr>\n",
              "    <tr>\n",
              "      <th>637</th>\n",
              "      <td>2020-03-14</td>\n",
              "      <td>2020</td>\n",
              "      <td>03</td>\n",
              "      <td>2020-03</td>\n",
              "      <td>Alabama</td>\n",
              "      <td>1</td>\n",
              "      <td>12</td>\n",
              "      <td>0</td>\n",
              "      <td>6.0</td>\n",
              "      <td>0.0</td>\n",
              "    </tr>\n",
              "    <tr>\n",
              "      <th>689</th>\n",
              "      <td>2020-03-15</td>\n",
              "      <td>2020</td>\n",
              "      <td>03</td>\n",
              "      <td>2020-03</td>\n",
              "      <td>Alabama</td>\n",
              "      <td>1</td>\n",
              "      <td>23</td>\n",
              "      <td>0</td>\n",
              "      <td>11.0</td>\n",
              "      <td>0.0</td>\n",
              "    </tr>\n",
              "    <tr>\n",
              "      <th>742</th>\n",
              "      <td>2020-03-16</td>\n",
              "      <td>2020</td>\n",
              "      <td>03</td>\n",
              "      <td>2020-03</td>\n",
              "      <td>Alabama</td>\n",
              "      <td>1</td>\n",
              "      <td>29</td>\n",
              "      <td>0</td>\n",
              "      <td>6.0</td>\n",
              "      <td>0.0</td>\n",
              "    </tr>\n",
              "    <tr>\n",
              "      <th>795</th>\n",
              "      <td>2020-03-17</td>\n",
              "      <td>2020</td>\n",
              "      <td>03</td>\n",
              "      <td>2020-03</td>\n",
              "      <td>Alabama</td>\n",
              "      <td>1</td>\n",
              "      <td>39</td>\n",
              "      <td>0</td>\n",
              "      <td>10.0</td>\n",
              "      <td>0.0</td>\n",
              "    </tr>\n",
              "    <tr>\n",
              "      <th>...</th>\n",
              "      <td>...</td>\n",
              "      <td>...</td>\n",
              "      <td>...</td>\n",
              "      <td>...</td>\n",
              "      <td>...</td>\n",
              "      <td>...</td>\n",
              "      <td>...</td>\n",
              "      <td>...</td>\n",
              "      <td>...</td>\n",
              "      <td>...</td>\n",
              "    </tr>\n",
              "    <tr>\n",
              "      <th>17393</th>\n",
              "      <td>2021-01-12</td>\n",
              "      <td>2021</td>\n",
              "      <td>01</td>\n",
              "      <td>2021-01</td>\n",
              "      <td>Wyoming</td>\n",
              "      <td>56</td>\n",
              "      <td>48072</td>\n",
              "      <td>522</td>\n",
              "      <td>677.0</td>\n",
              "      <td>33.0</td>\n",
              "    </tr>\n",
              "    <tr>\n",
              "      <th>17448</th>\n",
              "      <td>2021-01-13</td>\n",
              "      <td>2021</td>\n",
              "      <td>01</td>\n",
              "      <td>2021-01</td>\n",
              "      <td>Wyoming</td>\n",
              "      <td>56</td>\n",
              "      <td>48289</td>\n",
              "      <td>522</td>\n",
              "      <td>217.0</td>\n",
              "      <td>0.0</td>\n",
              "    </tr>\n",
              "    <tr>\n",
              "      <th>17503</th>\n",
              "      <td>2021-01-14</td>\n",
              "      <td>2021</td>\n",
              "      <td>01</td>\n",
              "      <td>2021-01</td>\n",
              "      <td>Wyoming</td>\n",
              "      <td>56</td>\n",
              "      <td>48701</td>\n",
              "      <td>522</td>\n",
              "      <td>412.0</td>\n",
              "      <td>0.0</td>\n",
              "    </tr>\n",
              "    <tr>\n",
              "      <th>17558</th>\n",
              "      <td>2021-01-15</td>\n",
              "      <td>2021</td>\n",
              "      <td>01</td>\n",
              "      <td>2021-01</td>\n",
              "      <td>Wyoming</td>\n",
              "      <td>56</td>\n",
              "      <td>48909</td>\n",
              "      <td>522</td>\n",
              "      <td>208.0</td>\n",
              "      <td>0.0</td>\n",
              "    </tr>\n",
              "    <tr>\n",
              "      <th>17613</th>\n",
              "      <td>2021-01-16</td>\n",
              "      <td>2021</td>\n",
              "      <td>01</td>\n",
              "      <td>2021-01</td>\n",
              "      <td>Wyoming</td>\n",
              "      <td>56</td>\n",
              "      <td>49068</td>\n",
              "      <td>522</td>\n",
              "      <td>159.0</td>\n",
              "      <td>0.0</td>\n",
              "    </tr>\n",
              "  </tbody>\n",
              "</table>\n",
              "<p>17614 rows × 10 columns</p>\n",
              "</div>"
            ],
            "text/plain": [
              "             date  year month year_month  ...  cases  deaths  new cases  new deaths\n",
              "586    2020-03-13  2020    03    2020-03  ...      6       0        6.0         0.0\n",
              "637    2020-03-14  2020    03    2020-03  ...     12       0        6.0         0.0\n",
              "689    2020-03-15  2020    03    2020-03  ...     23       0       11.0         0.0\n",
              "742    2020-03-16  2020    03    2020-03  ...     29       0        6.0         0.0\n",
              "795    2020-03-17  2020    03    2020-03  ...     39       0       10.0         0.0\n",
              "...           ...   ...   ...        ...  ...    ...     ...        ...         ...\n",
              "17393  2021-01-12  2021    01    2021-01  ...  48072     522      677.0        33.0\n",
              "17448  2021-01-13  2021    01    2021-01  ...  48289     522      217.0         0.0\n",
              "17503  2021-01-14  2021    01    2021-01  ...  48701     522      412.0         0.0\n",
              "17558  2021-01-15  2021    01    2021-01  ...  48909     522      208.0         0.0\n",
              "17613  2021-01-16  2021    01    2021-01  ...  49068     522      159.0         0.0\n",
              "\n",
              "[17614 rows x 10 columns]"
            ]
          },
          "metadata": {
            "tags": []
          },
          "execution_count": 600
        }
      ]
    },
    {
      "cell_type": "markdown",
      "metadata": {
        "id": "ZMrG0pe6LcLv"
      },
      "source": [
        "Analyzing COVID19 cases in all states"
      ]
    },
    {
      "cell_type": "code",
      "metadata": {
        "colab": {
          "base_uri": "https://localhost:8080/",
          "height": 377
        },
        "id": "aUe1TesZrxlP",
        "outputId": "fd63f66c-ce21-4212-d282-d7415d01b593"
      },
      "source": [
        "# First 10 states to have first time COVID19 cases\n",
        "df[['state','date','cases']].groupby(['state']).min().sort_values(['date']).head(10)"
      ],
      "execution_count": 601,
      "outputs": [
        {
          "output_type": "execute_result",
          "data": {
            "text/html": [
              "<div>\n",
              "<style scoped>\n",
              "    .dataframe tbody tr th:only-of-type {\n",
              "        vertical-align: middle;\n",
              "    }\n",
              "\n",
              "    .dataframe tbody tr th {\n",
              "        vertical-align: top;\n",
              "    }\n",
              "\n",
              "    .dataframe thead th {\n",
              "        text-align: right;\n",
              "    }\n",
              "</style>\n",
              "<table border=\"1\" class=\"dataframe\">\n",
              "  <thead>\n",
              "    <tr style=\"text-align: right;\">\n",
              "      <th></th>\n",
              "      <th>date</th>\n",
              "      <th>cases</th>\n",
              "    </tr>\n",
              "    <tr>\n",
              "      <th>state</th>\n",
              "      <th></th>\n",
              "      <th></th>\n",
              "    </tr>\n",
              "  </thead>\n",
              "  <tbody>\n",
              "    <tr>\n",
              "      <th>Washington</th>\n",
              "      <td>2020-01-21</td>\n",
              "      <td>1</td>\n",
              "    </tr>\n",
              "    <tr>\n",
              "      <th>Illinois</th>\n",
              "      <td>2020-01-24</td>\n",
              "      <td>1</td>\n",
              "    </tr>\n",
              "    <tr>\n",
              "      <th>California</th>\n",
              "      <td>2020-01-25</td>\n",
              "      <td>1</td>\n",
              "    </tr>\n",
              "    <tr>\n",
              "      <th>Arizona</th>\n",
              "      <td>2020-01-26</td>\n",
              "      <td>1</td>\n",
              "    </tr>\n",
              "    <tr>\n",
              "      <th>Massachusetts</th>\n",
              "      <td>2020-02-01</td>\n",
              "      <td>1</td>\n",
              "    </tr>\n",
              "    <tr>\n",
              "      <th>Wisconsin</th>\n",
              "      <td>2020-02-05</td>\n",
              "      <td>1</td>\n",
              "    </tr>\n",
              "    <tr>\n",
              "      <th>Texas</th>\n",
              "      <td>2020-02-12</td>\n",
              "      <td>1</td>\n",
              "    </tr>\n",
              "    <tr>\n",
              "      <th>Nebraska</th>\n",
              "      <td>2020-02-17</td>\n",
              "      <td>10</td>\n",
              "    </tr>\n",
              "    <tr>\n",
              "      <th>Utah</th>\n",
              "      <td>2020-02-25</td>\n",
              "      <td>1</td>\n",
              "    </tr>\n",
              "    <tr>\n",
              "      <th>Oregon</th>\n",
              "      <td>2020-02-28</td>\n",
              "      <td>1</td>\n",
              "    </tr>\n",
              "  </tbody>\n",
              "</table>\n",
              "</div>"
            ],
            "text/plain": [
              "                     date  cases\n",
              "state                           \n",
              "Washington     2020-01-21      1\n",
              "Illinois       2020-01-24      1\n",
              "California     2020-01-25      1\n",
              "Arizona        2020-01-26      1\n",
              "Massachusetts  2020-02-01      1\n",
              "Wisconsin      2020-02-05      1\n",
              "Texas          2020-02-12      1\n",
              "Nebraska       2020-02-17     10\n",
              "Utah           2020-02-25      1\n",
              "Oregon         2020-02-28      1"
            ]
          },
          "metadata": {
            "tags": []
          },
          "execution_count": 601
        }
      ]
    },
    {
      "cell_type": "code",
      "metadata": {
        "colab": {
          "base_uri": "https://localhost:8080/",
          "height": 377
        },
        "id": "Fo_m5Z-TpHdD",
        "outputId": "7861d17c-9540-4106-d7bd-766abb89314e"
      },
      "source": [
        "# Last 10 states to have first time COVID19 cases\n",
        "df[['state','date','cases']].groupby(['state']).min().sort_values(['date']).tail(10)"
      ],
      "execution_count": 602,
      "outputs": [
        {
          "output_type": "execute_result",
          "data": {
            "text/html": [
              "<div>\n",
              "<style scoped>\n",
              "    .dataframe tbody tr th:only-of-type {\n",
              "        vertical-align: middle;\n",
              "    }\n",
              "\n",
              "    .dataframe tbody tr th {\n",
              "        vertical-align: top;\n",
              "    }\n",
              "\n",
              "    .dataframe thead th {\n",
              "        text-align: right;\n",
              "    }\n",
              "</style>\n",
              "<table border=\"1\" class=\"dataframe\">\n",
              "  <thead>\n",
              "    <tr style=\"text-align: right;\">\n",
              "      <th></th>\n",
              "      <th>date</th>\n",
              "      <th>cases</th>\n",
              "    </tr>\n",
              "    <tr>\n",
              "      <th>state</th>\n",
              "      <th></th>\n",
              "      <th></th>\n",
              "    </tr>\n",
              "  </thead>\n",
              "  <tbody>\n",
              "    <tr>\n",
              "      <th>Maine</th>\n",
              "      <td>2020-03-12</td>\n",
              "      <td>1</td>\n",
              "    </tr>\n",
              "    <tr>\n",
              "      <th>Alaska</th>\n",
              "      <td>2020-03-12</td>\n",
              "      <td>1</td>\n",
              "    </tr>\n",
              "    <tr>\n",
              "      <th>Alabama</th>\n",
              "      <td>2020-03-13</td>\n",
              "      <td>6</td>\n",
              "    </tr>\n",
              "    <tr>\n",
              "      <th>Idaho</th>\n",
              "      <td>2020-03-13</td>\n",
              "      <td>1</td>\n",
              "    </tr>\n",
              "    <tr>\n",
              "      <th>Puerto Rico</th>\n",
              "      <td>2020-03-13</td>\n",
              "      <td>3</td>\n",
              "    </tr>\n",
              "    <tr>\n",
              "      <th>Montana</th>\n",
              "      <td>2020-03-13</td>\n",
              "      <td>4</td>\n",
              "    </tr>\n",
              "    <tr>\n",
              "      <th>Virgin Islands</th>\n",
              "      <td>2020-03-14</td>\n",
              "      <td>1</td>\n",
              "    </tr>\n",
              "    <tr>\n",
              "      <th>Guam</th>\n",
              "      <td>2020-03-15</td>\n",
              "      <td>3</td>\n",
              "    </tr>\n",
              "    <tr>\n",
              "      <th>West Virginia</th>\n",
              "      <td>2020-03-17</td>\n",
              "      <td>1</td>\n",
              "    </tr>\n",
              "    <tr>\n",
              "      <th>Northern Mariana Islands</th>\n",
              "      <td>2020-03-28</td>\n",
              "      <td>2</td>\n",
              "    </tr>\n",
              "  </tbody>\n",
              "</table>\n",
              "</div>"
            ],
            "text/plain": [
              "                                date  cases\n",
              "state                                      \n",
              "Maine                     2020-03-12      1\n",
              "Alaska                    2020-03-12      1\n",
              "Alabama                   2020-03-13      6\n",
              "Idaho                     2020-03-13      1\n",
              "Puerto Rico               2020-03-13      3\n",
              "Montana                   2020-03-13      4\n",
              "Virgin Islands            2020-03-14      1\n",
              "Guam                      2020-03-15      3\n",
              "West Virginia             2020-03-17      1\n",
              "Northern Mariana Islands  2020-03-28      2"
            ]
          },
          "metadata": {
            "tags": []
          },
          "execution_count": 602
        }
      ]
    },
    {
      "cell_type": "code",
      "metadata": {
        "colab": {
          "base_uri": "https://localhost:8080/",
          "height": 227
        },
        "id": "Ijy7y-OlvoCX",
        "outputId": "d6a8e72a-db07-4f10-f7f1-4aa5fd353554"
      },
      "source": [
        "# Top 5 states with recent number of high cases \n",
        "df[['state','date','cases']].groupby(['state']).max().sort_values(by='cases', ascending=False).head(5)"
      ],
      "execution_count": 603,
      "outputs": [
        {
          "output_type": "execute_result",
          "data": {
            "text/html": [
              "<div>\n",
              "<style scoped>\n",
              "    .dataframe tbody tr th:only-of-type {\n",
              "        vertical-align: middle;\n",
              "    }\n",
              "\n",
              "    .dataframe tbody tr th {\n",
              "        vertical-align: top;\n",
              "    }\n",
              "\n",
              "    .dataframe thead th {\n",
              "        text-align: right;\n",
              "    }\n",
              "</style>\n",
              "<table border=\"1\" class=\"dataframe\">\n",
              "  <thead>\n",
              "    <tr style=\"text-align: right;\">\n",
              "      <th></th>\n",
              "      <th>date</th>\n",
              "      <th>cases</th>\n",
              "    </tr>\n",
              "    <tr>\n",
              "      <th>state</th>\n",
              "      <th></th>\n",
              "      <th></th>\n",
              "    </tr>\n",
              "  </thead>\n",
              "  <tbody>\n",
              "    <tr>\n",
              "      <th>California</th>\n",
              "      <td>2021-01-16</td>\n",
              "      <td>2974966</td>\n",
              "    </tr>\n",
              "    <tr>\n",
              "      <th>Texas</th>\n",
              "      <td>2021-01-16</td>\n",
              "      <td>2114858</td>\n",
              "    </tr>\n",
              "    <tr>\n",
              "      <th>Florida</th>\n",
              "      <td>2021-01-16</td>\n",
              "      <td>1560178</td>\n",
              "    </tr>\n",
              "    <tr>\n",
              "      <th>New York</th>\n",
              "      <td>2021-01-16</td>\n",
              "      <td>1229124</td>\n",
              "    </tr>\n",
              "    <tr>\n",
              "      <th>Illinois</th>\n",
              "      <td>2021-01-16</td>\n",
              "      <td>1067230</td>\n",
              "    </tr>\n",
              "  </tbody>\n",
              "</table>\n",
              "</div>"
            ],
            "text/plain": [
              "                  date    cases\n",
              "state                          \n",
              "California  2021-01-16  2974966\n",
              "Texas       2021-01-16  2114858\n",
              "Florida     2021-01-16  1560178\n",
              "New York    2021-01-16  1229124\n",
              "Illinois    2021-01-16  1067230"
            ]
          },
          "metadata": {
            "tags": []
          },
          "execution_count": 603
        }
      ]
    },
    {
      "cell_type": "code",
      "metadata": {
        "colab": {
          "base_uri": "https://localhost:8080/",
          "height": 227
        },
        "id": "L0BBR5uFwvdj",
        "outputId": "0585554b-5b88-4175-a382-a86dc98bb1ac"
      },
      "source": [
        "# Top 5 states with recent number of low cases \n",
        "df[['state','date','cases']].groupby(['state']).max().sort_values(by='cases', ascending=False).tail(5)"
      ],
      "execution_count": 604,
      "outputs": [
        {
          "output_type": "execute_result",
          "data": {
            "text/html": [
              "<div>\n",
              "<style scoped>\n",
              "    .dataframe tbody tr th:only-of-type {\n",
              "        vertical-align: middle;\n",
              "    }\n",
              "\n",
              "    .dataframe tbody tr th {\n",
              "        vertical-align: top;\n",
              "    }\n",
              "\n",
              "    .dataframe thead th {\n",
              "        text-align: right;\n",
              "    }\n",
              "</style>\n",
              "<table border=\"1\" class=\"dataframe\">\n",
              "  <thead>\n",
              "    <tr style=\"text-align: right;\">\n",
              "      <th></th>\n",
              "      <th>date</th>\n",
              "      <th>cases</th>\n",
              "    </tr>\n",
              "    <tr>\n",
              "      <th>state</th>\n",
              "      <th></th>\n",
              "      <th></th>\n",
              "    </tr>\n",
              "  </thead>\n",
              "  <tbody>\n",
              "    <tr>\n",
              "      <th>Hawaii</th>\n",
              "      <td>2021-01-16</td>\n",
              "      <td>24188</td>\n",
              "    </tr>\n",
              "    <tr>\n",
              "      <th>Vermont</th>\n",
              "      <td>2021-01-16</td>\n",
              "      <td>9915</td>\n",
              "    </tr>\n",
              "    <tr>\n",
              "      <th>Guam</th>\n",
              "      <td>2021-01-16</td>\n",
              "      <td>8450</td>\n",
              "    </tr>\n",
              "    <tr>\n",
              "      <th>Virgin Islands</th>\n",
              "      <td>2021-01-16</td>\n",
              "      <td>2166</td>\n",
              "    </tr>\n",
              "    <tr>\n",
              "      <th>Northern Mariana Islands</th>\n",
              "      <td>2021-01-16</td>\n",
              "      <td>128</td>\n",
              "    </tr>\n",
              "  </tbody>\n",
              "</table>\n",
              "</div>"
            ],
            "text/plain": [
              "                                date  cases\n",
              "state                                      \n",
              "Hawaii                    2021-01-16  24188\n",
              "Vermont                   2021-01-16   9915\n",
              "Guam                      2021-01-16   8450\n",
              "Virgin Islands            2021-01-16   2166\n",
              "Northern Mariana Islands  2021-01-16    128"
            ]
          },
          "metadata": {
            "tags": []
          },
          "execution_count": 604
        }
      ]
    },
    {
      "cell_type": "code",
      "metadata": {
        "colab": {
          "base_uri": "https://localhost:8080/",
          "height": 227
        },
        "id": "erbCC_AGwzqC",
        "outputId": "ca00bba2-3f09-4958-d5d3-23367e8486ec"
      },
      "source": [
        "# Top 5 states with a high rise in new cases\n",
        "df[['state','date', 'new cases']].groupby(['state']).max().sort_values(by='new cases', ascending=False).head(5)"
      ],
      "execution_count": 605,
      "outputs": [
        {
          "output_type": "execute_result",
          "data": {
            "text/html": [
              "<div>\n",
              "<style scoped>\n",
              "    .dataframe tbody tr th:only-of-type {\n",
              "        vertical-align: middle;\n",
              "    }\n",
              "\n",
              "    .dataframe tbody tr th {\n",
              "        vertical-align: top;\n",
              "    }\n",
              "\n",
              "    .dataframe thead th {\n",
              "        text-align: right;\n",
              "    }\n",
              "</style>\n",
              "<table border=\"1\" class=\"dataframe\">\n",
              "  <thead>\n",
              "    <tr style=\"text-align: right;\">\n",
              "      <th></th>\n",
              "      <th>date</th>\n",
              "      <th>new cases</th>\n",
              "    </tr>\n",
              "    <tr>\n",
              "      <th>state</th>\n",
              "      <th></th>\n",
              "      <th></th>\n",
              "    </tr>\n",
              "  </thead>\n",
              "  <tbody>\n",
              "    <tr>\n",
              "      <th>California</th>\n",
              "      <td>2021-01-16</td>\n",
              "      <td>64987.0</td>\n",
              "    </tr>\n",
              "    <tr>\n",
              "      <th>Texas</th>\n",
              "      <td>2021-01-16</td>\n",
              "      <td>58256.0</td>\n",
              "    </tr>\n",
              "    <tr>\n",
              "      <th>New Jersey</th>\n",
              "      <td>2021-01-16</td>\n",
              "      <td>51092.0</td>\n",
              "    </tr>\n",
              "    <tr>\n",
              "      <th>Florida</th>\n",
              "      <td>2021-01-16</td>\n",
              "      <td>31518.0</td>\n",
              "    </tr>\n",
              "    <tr>\n",
              "      <th>Ohio</th>\n",
              "      <td>2021-01-16</td>\n",
              "      <td>25721.0</td>\n",
              "    </tr>\n",
              "  </tbody>\n",
              "</table>\n",
              "</div>"
            ],
            "text/plain": [
              "                  date  new cases\n",
              "state                            \n",
              "California  2021-01-16    64987.0\n",
              "Texas       2021-01-16    58256.0\n",
              "New Jersey  2021-01-16    51092.0\n",
              "Florida     2021-01-16    31518.0\n",
              "Ohio        2021-01-16    25721.0"
            ]
          },
          "metadata": {
            "tags": []
          },
          "execution_count": 605
        }
      ]
    },
    {
      "cell_type": "code",
      "metadata": {
        "colab": {
          "base_uri": "https://localhost:8080/",
          "height": 227
        },
        "id": "GoQAMtEV6LOM",
        "outputId": "fc01012c-4777-48aa-88f4-a9543f5c2b12"
      },
      "source": [
        "# Top 5 states with a high drop in new cases\n",
        "df[['state','date', 'new cases']].groupby(['state']).min().sort_values(by='new cases').head(5)"
      ],
      "execution_count": 606,
      "outputs": [
        {
          "output_type": "execute_result",
          "data": {
            "text/html": [
              "<div>\n",
              "<style scoped>\n",
              "    .dataframe tbody tr th:only-of-type {\n",
              "        vertical-align: middle;\n",
              "    }\n",
              "\n",
              "    .dataframe tbody tr th {\n",
              "        vertical-align: top;\n",
              "    }\n",
              "\n",
              "    .dataframe thead th {\n",
              "        text-align: right;\n",
              "    }\n",
              "</style>\n",
              "<table border=\"1\" class=\"dataframe\">\n",
              "  <thead>\n",
              "    <tr style=\"text-align: right;\">\n",
              "      <th></th>\n",
              "      <th>date</th>\n",
              "      <th>new cases</th>\n",
              "    </tr>\n",
              "    <tr>\n",
              "      <th>state</th>\n",
              "      <th></th>\n",
              "      <th></th>\n",
              "    </tr>\n",
              "  </thead>\n",
              "  <tbody>\n",
              "    <tr>\n",
              "      <th>Massachusetts</th>\n",
              "      <td>2020-02-01</td>\n",
              "      <td>-7757.0</td>\n",
              "    </tr>\n",
              "    <tr>\n",
              "      <th>Louisiana</th>\n",
              "      <td>2020-03-09</td>\n",
              "      <td>-879.0</td>\n",
              "    </tr>\n",
              "    <tr>\n",
              "      <th>Arkansas</th>\n",
              "      <td>2020-03-11</td>\n",
              "      <td>-400.0</td>\n",
              "    </tr>\n",
              "    <tr>\n",
              "      <th>Puerto Rico</th>\n",
              "      <td>2020-03-13</td>\n",
              "      <td>-337.0</td>\n",
              "    </tr>\n",
              "    <tr>\n",
              "      <th>Georgia</th>\n",
              "      <td>2020-03-02</td>\n",
              "      <td>-158.0</td>\n",
              "    </tr>\n",
              "  </tbody>\n",
              "</table>\n",
              "</div>"
            ],
            "text/plain": [
              "                     date  new cases\n",
              "state                               \n",
              "Massachusetts  2020-02-01    -7757.0\n",
              "Louisiana      2020-03-09     -879.0\n",
              "Arkansas       2020-03-11     -400.0\n",
              "Puerto Rico    2020-03-13     -337.0\n",
              "Georgia        2020-03-02     -158.0"
            ]
          },
          "metadata": {
            "tags": []
          },
          "execution_count": 606
        }
      ]
    },
    {
      "cell_type": "code",
      "metadata": {
        "colab": {
          "base_uri": "https://localhost:8080/",
          "height": 558
        },
        "id": "Ty7IFhxzUS0D",
        "outputId": "cab0d163-6d4a-4b91-e72d-3dfc705f7f6d"
      },
      "source": [
        "# Total Number of COVID19 Cases per State\n",
        "df_state = df['state'].unique()\n",
        "cases = df[['date', 'state', 'new cases']].groupby(['state']).max().sort_values(by='state')\n",
        "plt.figure(figsize=(15,7))\n",
        "plt.bar(x=df_state, height=cases['new cases'], color='red')\n",
        "plt.xticks(rotation=90)\n",
        "plt.xlabel('States')\n",
        "plt.ylabel('Total Number of COVID19 Cases')\n",
        "plt.show()"
      ],
      "execution_count": 607,
      "outputs": [
        {
          "output_type": "display_data",
          "data": {
            "image/png": "[encoded data removed]",
            "text/plain": [
              "<Figure size 1080x504 with 1 Axes>"
            ]
          },
          "metadata": {
            "tags": [],
            "needs_background": "light"
          }
        }
      ]
    },
    {
      "cell_type": "code",
      "metadata": {
        "colab": {
          "base_uri": "https://localhost:8080/",
          "height": 501
        },
        "id": "qjN6xFlAqKRh",
        "outputId": "3acfe8e1-6c35-48cd-95ad-f97bf17da93e"
      },
      "source": [
        "# Covid19 Cases in High Risk States\n",
        "states = ['California', 'Florida', 'New Jersey', 'Texas']\n",
        "plt.figure(figsize=(15,7))\n",
        "for state in states:\n",
        "  df_st = df[(df['state']==state) & (df['date']>='2020-03-01')]\n",
        "  plt.plot(df_st['date'],\n",
        "           df_st['cases'],\n",
        "           linewidth=2\n",
        "           )\n",
        "  plt.xticks(rotation=90)\n",
        "plt.legend(states)\n",
        "plt.xlabel('Dates')\n",
        "plt.ylabel('Total Number of COVID19 Cases (cumulative)')\n",
        "plt.show()"
      ],
      "execution_count": 608,
      "outputs": [
        {
          "output_type": "display_data",
          "data": {
            "image/png": "[encoded data removed]",
            "text/plain": [
              "<Figure size 1080x504 with 1 Axes>"
            ]
          },
          "metadata": {
            "tags": [],
            "needs_background": "light"
          }
        }
      ]
    },
    {
      "cell_type": "code",
      "metadata": {
        "colab": {
          "base_uri": "https://localhost:8080/",
          "height": 502
        },
        "id": "GxybhXwtSeXA",
        "outputId": "a1333f4b-e91c-4825-f31a-58a2403e7c33"
      },
      "source": [
        "# Covid19 Cases per Month in High Risk States \n",
        "date = pd.Series(df['year_month'].unique()).sort_values(ascending=True)\n",
        "california = df[df.state == 'California'][['year_month', 'new cases']].groupby(['year_month']).sum()\n",
        "florida = df[df.state == 'Florida'][['year_month', 'new cases']].groupby(['year_month']).sum()\n",
        "newjersey = df[df.state == 'New Jersey'][['year_month', 'new cases']].groupby(['year_month']).sum()\n",
        "texas = df[df.state == 'Texas'][['year_month', 'new cases']].groupby(['year_month']).sum()\n",
        "\n",
        "ca = pd.Series(california['new cases'])\n",
        "fl = pd.Series(florida['new cases'])\n",
        "nj = pd.Series(newjersey['new cases'])\n",
        "tx = pd.Series(texas['new cases'])\n",
        "\n",
        "new_df = pd.DataFrame({'california': ca, 'florida': fl, 'new jersey': nj, 'texas': tx})\n",
        "new_df = new_df.fillna(0)\n",
        "ax = new_df.plot.bar(figsize=(15,7))\n",
        "ax.set_xlabel(\"Year-Months\")\n",
        "ax.set_ylabel(\"Number of New Cases\")"
      ],
      "execution_count": 609,
      "outputs": [
        {
          "output_type": "execute_result",
          "data": {
            "text/plain": [
              "Text(0, 0.5, 'Number of New Cases')"
            ]
          },
          "metadata": {
            "tags": []
          },
          "execution_count": 609
        },
        {
          "output_type": "display_data",
          "data": {
            "image/png": "[encoded data removed]",
            "text/plain": [
              "<Figure size 1080x504 with 1 Axes>"
            ]
          },
          "metadata": {
            "tags": [],
            "needs_background": "light"
          }
        }
      ]
    },
    {
      "cell_type": "markdown",
      "metadata": {
        "id": "x60AioPjLmyo"
      },
      "source": [
        "Analyzing COVID19 deaths cases in all states"
      ]
    },
    {
      "cell_type": "code",
      "metadata": {
        "colab": {
          "base_uri": "https://localhost:8080/",
          "height": 227
        },
        "id": "adOpeBpGATIl",
        "outputId": "85850d6c-bbe9-4bf6-b048-f76bb80faef2"
      },
      "source": [
        "# First 5 states to have first COVID19 death cases\n",
        "df[['state','date','deaths']][df.deaths !=0].groupby(['state']).min().sort_values(['date']).head(5)"
      ],
      "execution_count": 610,
      "outputs": [
        {
          "output_type": "execute_result",
          "data": {
            "text/html": [
              "<div>\n",
              "<style scoped>\n",
              "    .dataframe tbody tr th:only-of-type {\n",
              "        vertical-align: middle;\n",
              "    }\n",
              "\n",
              "    .dataframe tbody tr th {\n",
              "        vertical-align: top;\n",
              "    }\n",
              "\n",
              "    .dataframe thead th {\n",
              "        text-align: right;\n",
              "    }\n",
              "</style>\n",
              "<table border=\"1\" class=\"dataframe\">\n",
              "  <thead>\n",
              "    <tr style=\"text-align: right;\">\n",
              "      <th></th>\n",
              "      <th>date</th>\n",
              "      <th>deaths</th>\n",
              "    </tr>\n",
              "    <tr>\n",
              "      <th>state</th>\n",
              "      <th></th>\n",
              "      <th></th>\n",
              "    </tr>\n",
              "  </thead>\n",
              "  <tbody>\n",
              "    <tr>\n",
              "      <th>Washington</th>\n",
              "      <td>2020-02-29</td>\n",
              "      <td>1</td>\n",
              "    </tr>\n",
              "    <tr>\n",
              "      <th>California</th>\n",
              "      <td>2020-03-04</td>\n",
              "      <td>1</td>\n",
              "    </tr>\n",
              "    <tr>\n",
              "      <th>Florida</th>\n",
              "      <td>2020-03-06</td>\n",
              "      <td>2</td>\n",
              "    </tr>\n",
              "    <tr>\n",
              "      <th>South Dakota</th>\n",
              "      <td>2020-03-10</td>\n",
              "      <td>1</td>\n",
              "    </tr>\n",
              "    <tr>\n",
              "      <th>New Jersey</th>\n",
              "      <td>2020-03-10</td>\n",
              "      <td>1</td>\n",
              "    </tr>\n",
              "  </tbody>\n",
              "</table>\n",
              "</div>"
            ],
            "text/plain": [
              "                    date  deaths\n",
              "state                           \n",
              "Washington    2020-02-29       1\n",
              "California    2020-03-04       1\n",
              "Florida       2020-03-06       2\n",
              "South Dakota  2020-03-10       1\n",
              "New Jersey    2020-03-10       1"
            ]
          },
          "metadata": {
            "tags": []
          },
          "execution_count": 610
        }
      ]
    },
    {
      "cell_type": "code",
      "metadata": {
        "colab": {
          "base_uri": "https://localhost:8080/",
          "height": 227
        },
        "id": "Xp9Oyvm4BaRD",
        "outputId": "e191ef95-fae3-4387-859a-5c2c693716e7"
      },
      "source": [
        "# Last 5 states to have first COVID19 death cases\n",
        "df[['state','date','deaths']][df.deaths !=0].groupby(['state']).min().sort_values(['date']).tail(5)"
      ],
      "execution_count": 611,
      "outputs": [
        {
          "output_type": "execute_result",
          "data": {
            "text/html": [
              "<div>\n",
              "<style scoped>\n",
              "    .dataframe tbody tr th:only-of-type {\n",
              "        vertical-align: middle;\n",
              "    }\n",
              "\n",
              "    .dataframe tbody tr th {\n",
              "        vertical-align: top;\n",
              "    }\n",
              "\n",
              "    .dataframe thead th {\n",
              "        text-align: right;\n",
              "    }\n",
              "</style>\n",
              "<table border=\"1\" class=\"dataframe\">\n",
              "  <thead>\n",
              "    <tr style=\"text-align: right;\">\n",
              "      <th></th>\n",
              "      <th>date</th>\n",
              "      <th>deaths</th>\n",
              "    </tr>\n",
              "    <tr>\n",
              "      <th>state</th>\n",
              "      <th></th>\n",
              "      <th></th>\n",
              "    </tr>\n",
              "  </thead>\n",
              "  <tbody>\n",
              "    <tr>\n",
              "      <th>West Virginia</th>\n",
              "      <td>2020-03-29</td>\n",
              "      <td>1</td>\n",
              "    </tr>\n",
              "    <tr>\n",
              "      <th>Hawaii</th>\n",
              "      <td>2020-03-31</td>\n",
              "      <td>1</td>\n",
              "    </tr>\n",
              "    <tr>\n",
              "      <th>Northern Mariana Islands</th>\n",
              "      <td>2020-04-01</td>\n",
              "      <td>1</td>\n",
              "    </tr>\n",
              "    <tr>\n",
              "      <th>Virgin Islands</th>\n",
              "      <td>2020-04-06</td>\n",
              "      <td>1</td>\n",
              "    </tr>\n",
              "    <tr>\n",
              "      <th>Wyoming</th>\n",
              "      <td>2020-04-13</td>\n",
              "      <td>1</td>\n",
              "    </tr>\n",
              "  </tbody>\n",
              "</table>\n",
              "</div>"
            ],
            "text/plain": [
              "                                date  deaths\n",
              "state                                       \n",
              "West Virginia             2020-03-29       1\n",
              "Hawaii                    2020-03-31       1\n",
              "Northern Mariana Islands  2020-04-01       1\n",
              "Virgin Islands            2020-04-06       1\n",
              "Wyoming                   2020-04-13       1"
            ]
          },
          "metadata": {
            "tags": []
          },
          "execution_count": 611
        }
      ]
    },
    {
      "cell_type": "code",
      "metadata": {
        "colab": {
          "base_uri": "https://localhost:8080/",
          "height": 227
        },
        "id": "N0gL2xV3E7vX",
        "outputId": "94f0f02c-549d-4c6f-d41d-c5c733033608"
      },
      "source": [
        "# Top 5 states to have a total high number of COVID19 death cases\n",
        "df[['state','date', 'deaths']].groupby(['state']).max().sort_values(by='deaths', ascending=False).head(5)"
      ],
      "execution_count": 612,
      "outputs": [
        {
          "output_type": "execute_result",
          "data": {
            "text/html": [
              "<div>\n",
              "<style scoped>\n",
              "    .dataframe tbody tr th:only-of-type {\n",
              "        vertical-align: middle;\n",
              "    }\n",
              "\n",
              "    .dataframe tbody tr th {\n",
              "        vertical-align: top;\n",
              "    }\n",
              "\n",
              "    .dataframe thead th {\n",
              "        text-align: right;\n",
              "    }\n",
              "</style>\n",
              "<table border=\"1\" class=\"dataframe\">\n",
              "  <thead>\n",
              "    <tr style=\"text-align: right;\">\n",
              "      <th></th>\n",
              "      <th>date</th>\n",
              "      <th>deaths</th>\n",
              "    </tr>\n",
              "    <tr>\n",
              "      <th>state</th>\n",
              "      <th></th>\n",
              "      <th></th>\n",
              "    </tr>\n",
              "  </thead>\n",
              "  <tbody>\n",
              "    <tr>\n",
              "      <th>New York</th>\n",
              "      <td>2021-01-16</td>\n",
              "      <td>40376</td>\n",
              "    </tr>\n",
              "    <tr>\n",
              "      <th>California</th>\n",
              "      <td>2021-01-16</td>\n",
              "      <td>33393</td>\n",
              "    </tr>\n",
              "    <tr>\n",
              "      <th>Texas</th>\n",
              "      <td>2021-01-16</td>\n",
              "      <td>32581</td>\n",
              "    </tr>\n",
              "    <tr>\n",
              "      <th>Florida</th>\n",
              "      <td>2021-01-16</td>\n",
              "      <td>24003</td>\n",
              "    </tr>\n",
              "    <tr>\n",
              "      <th>New Jersey</th>\n",
              "      <td>2021-01-16</td>\n",
              "      <td>20414</td>\n",
              "    </tr>\n",
              "  </tbody>\n",
              "</table>\n",
              "</div>"
            ],
            "text/plain": [
              "                  date  deaths\n",
              "state                         \n",
              "New York    2021-01-16   40376\n",
              "California  2021-01-16   33393\n",
              "Texas       2021-01-16   32581\n",
              "Florida     2021-01-16   24003\n",
              "New Jersey  2021-01-16   20414"
            ]
          },
          "metadata": {
            "tags": []
          },
          "execution_count": 612
        }
      ]
    },
    {
      "cell_type": "code",
      "metadata": {
        "colab": {
          "base_uri": "https://localhost:8080/",
          "height": 227
        },
        "id": "qX3PFeaXFof_",
        "outputId": "71dd4436-ba76-48cb-e568-167786e3c869"
      },
      "source": [
        "# Top 5 states to have a total low number of COVID19 death cases\n",
        "df[['state','date', 'deaths']].groupby(['state']).max().sort_values(by='deaths', ascending=False).tail(5)"
      ],
      "execution_count": 613,
      "outputs": [
        {
          "output_type": "execute_result",
          "data": {
            "text/html": [
              "<div>\n",
              "<style scoped>\n",
              "    .dataframe tbody tr th:only-of-type {\n",
              "        vertical-align: middle;\n",
              "    }\n",
              "\n",
              "    .dataframe tbody tr th {\n",
              "        vertical-align: top;\n",
              "    }\n",
              "\n",
              "    .dataframe thead th {\n",
              "        text-align: right;\n",
              "    }\n",
              "</style>\n",
              "<table border=\"1\" class=\"dataframe\">\n",
              "  <thead>\n",
              "    <tr style=\"text-align: right;\">\n",
              "      <th></th>\n",
              "      <th>date</th>\n",
              "      <th>deaths</th>\n",
              "    </tr>\n",
              "    <tr>\n",
              "      <th>state</th>\n",
              "      <th></th>\n",
              "      <th></th>\n",
              "    </tr>\n",
              "  </thead>\n",
              "  <tbody>\n",
              "    <tr>\n",
              "      <th>Alaska</th>\n",
              "      <td>2021-01-16</td>\n",
              "      <td>220</td>\n",
              "    </tr>\n",
              "    <tr>\n",
              "      <th>Vermont</th>\n",
              "      <td>2021-01-16</td>\n",
              "      <td>163</td>\n",
              "    </tr>\n",
              "    <tr>\n",
              "      <th>Guam</th>\n",
              "      <td>2021-01-16</td>\n",
              "      <td>127</td>\n",
              "    </tr>\n",
              "    <tr>\n",
              "      <th>Virgin Islands</th>\n",
              "      <td>2021-01-16</td>\n",
              "      <td>24</td>\n",
              "    </tr>\n",
              "    <tr>\n",
              "      <th>Northern Mariana Islands</th>\n",
              "      <td>2021-01-16</td>\n",
              "      <td>2</td>\n",
              "    </tr>\n",
              "  </tbody>\n",
              "</table>\n",
              "</div>"
            ],
            "text/plain": [
              "                                date  deaths\n",
              "state                                       \n",
              "Alaska                    2021-01-16     220\n",
              "Vermont                   2021-01-16     163\n",
              "Guam                      2021-01-16     127\n",
              "Virgin Islands            2021-01-16      24\n",
              "Northern Mariana Islands  2021-01-16       2"
            ]
          },
          "metadata": {
            "tags": []
          },
          "execution_count": 613
        }
      ]
    },
    {
      "cell_type": "code",
      "metadata": {
        "colab": {
          "base_uri": "https://localhost:8080/",
          "height": 227
        },
        "id": "AuUdJWhRF-Ew",
        "outputId": "8292490a-8275-4a23-8827-58b860ab294b"
      },
      "source": [
        "# Top 5 states to have a high number of COVID19 death cases in a day\n",
        "df[['state','date', 'new deaths']].groupby(['state']).max().sort_values(by='new deaths', ascending=False).head(5)"
      ],
      "execution_count": 614,
      "outputs": [
        {
          "output_type": "execute_result",
          "data": {
            "text/html": [
              "<div>\n",
              "<style scoped>\n",
              "    .dataframe tbody tr th:only-of-type {\n",
              "        vertical-align: middle;\n",
              "    }\n",
              "\n",
              "    .dataframe tbody tr th {\n",
              "        vertical-align: top;\n",
              "    }\n",
              "\n",
              "    .dataframe thead th {\n",
              "        text-align: right;\n",
              "    }\n",
              "</style>\n",
              "<table border=\"1\" class=\"dataframe\">\n",
              "  <thead>\n",
              "    <tr style=\"text-align: right;\">\n",
              "      <th></th>\n",
              "      <th>date</th>\n",
              "      <th>new deaths</th>\n",
              "    </tr>\n",
              "    <tr>\n",
              "      <th>state</th>\n",
              "      <th></th>\n",
              "      <th></th>\n",
              "    </tr>\n",
              "  </thead>\n",
              "  <tbody>\n",
              "    <tr>\n",
              "      <th>New Jersey</th>\n",
              "      <td>2021-01-16</td>\n",
              "      <td>1877.0</td>\n",
              "    </tr>\n",
              "    <tr>\n",
              "      <th>Texas</th>\n",
              "      <td>2021-01-16</td>\n",
              "      <td>1202.0</td>\n",
              "    </tr>\n",
              "    <tr>\n",
              "      <th>New York</th>\n",
              "      <td>2021-01-16</td>\n",
              "      <td>1036.0</td>\n",
              "    </tr>\n",
              "    <tr>\n",
              "      <th>California</th>\n",
              "      <td>2021-01-16</td>\n",
              "      <td>724.0</td>\n",
              "    </tr>\n",
              "    <tr>\n",
              "      <th>Georgia</th>\n",
              "      <td>2021-01-16</td>\n",
              "      <td>466.0</td>\n",
              "    </tr>\n",
              "  </tbody>\n",
              "</table>\n",
              "</div>"
            ],
            "text/plain": [
              "                  date  new deaths\n",
              "state                             \n",
              "New Jersey  2021-01-16      1877.0\n",
              "Texas       2021-01-16      1202.0\n",
              "New York    2021-01-16      1036.0\n",
              "California  2021-01-16       724.0\n",
              "Georgia     2021-01-16       466.0"
            ]
          },
          "metadata": {
            "tags": []
          },
          "execution_count": 614
        }
      ]
    },
    {
      "cell_type": "code",
      "metadata": {
        "colab": {
          "base_uri": "https://localhost:8080/",
          "height": 227
        },
        "id": "rIn6f0xFG358",
        "outputId": "2fdefebc-fb44-4c2f-e1e1-eb549485ac83"
      },
      "source": [
        "# Top 5 states to have a low number of COVID19 death cases in a day\n",
        "df[['state','date', 'new deaths']][df['new deaths']!=0].groupby(['state']).min().sort_values(by='new deaths', ascending=False).tail(5)"
      ],
      "execution_count": 615,
      "outputs": [
        {
          "output_type": "execute_result",
          "data": {
            "text/html": [
              "<div>\n",
              "<style scoped>\n",
              "    .dataframe tbody tr th:only-of-type {\n",
              "        vertical-align: middle;\n",
              "    }\n",
              "\n",
              "    .dataframe tbody tr th {\n",
              "        vertical-align: top;\n",
              "    }\n",
              "\n",
              "    .dataframe thead th {\n",
              "        text-align: right;\n",
              "    }\n",
              "</style>\n",
              "<table border=\"1\" class=\"dataframe\">\n",
              "  <thead>\n",
              "    <tr style=\"text-align: right;\">\n",
              "      <th></th>\n",
              "      <th>date</th>\n",
              "      <th>new deaths</th>\n",
              "    </tr>\n",
              "    <tr>\n",
              "      <th>state</th>\n",
              "      <th></th>\n",
              "      <th></th>\n",
              "    </tr>\n",
              "  </thead>\n",
              "  <tbody>\n",
              "    <tr>\n",
              "      <th>Massachusetts</th>\n",
              "      <td>2020-03-20</td>\n",
              "      <td>-41.0</td>\n",
              "    </tr>\n",
              "    <tr>\n",
              "      <th>Missouri</th>\n",
              "      <td>2020-03-18</td>\n",
              "      <td>-67.0</td>\n",
              "    </tr>\n",
              "    <tr>\n",
              "      <th>Washington</th>\n",
              "      <td>2020-02-29</td>\n",
              "      <td>-71.0</td>\n",
              "    </tr>\n",
              "    <tr>\n",
              "      <th>Nebraska</th>\n",
              "      <td>2020-03-27</td>\n",
              "      <td>-73.0</td>\n",
              "    </tr>\n",
              "    <tr>\n",
              "      <th>New York</th>\n",
              "      <td>2020-03-14</td>\n",
              "      <td>-102.0</td>\n",
              "    </tr>\n",
              "  </tbody>\n",
              "</table>\n",
              "</div>"
            ],
            "text/plain": [
              "                     date  new deaths\n",
              "state                                \n",
              "Massachusetts  2020-03-20       -41.0\n",
              "Missouri       2020-03-18       -67.0\n",
              "Washington     2020-02-29       -71.0\n",
              "Nebraska       2020-03-27       -73.0\n",
              "New York       2020-03-14      -102.0"
            ]
          },
          "metadata": {
            "tags": []
          },
          "execution_count": 615
        }
      ]
    },
    {
      "cell_type": "code",
      "metadata": {
        "colab": {
          "base_uri": "https://localhost:8080/",
          "height": 227
        },
        "id": "yxhBTQuvI2Re",
        "outputId": "e91c6af0-1859-4e22-cee6-c30bd4342061"
      },
      "source": [
        "# Top 5 states to have a low number of COVID19 death cases in a day (latest)\n",
        "df[['state','date', 'new deaths']][df['new deaths']>0].groupby(['state']).min().sort_values(by=['new deaths', 'date'], ascending=False).head(5)"
      ],
      "execution_count": 616,
      "outputs": [
        {
          "output_type": "execute_result",
          "data": {
            "text/html": [
              "<div>\n",
              "<style scoped>\n",
              "    .dataframe tbody tr th:only-of-type {\n",
              "        vertical-align: middle;\n",
              "    }\n",
              "\n",
              "    .dataframe tbody tr th {\n",
              "        vertical-align: top;\n",
              "    }\n",
              "\n",
              "    .dataframe thead th {\n",
              "        text-align: right;\n",
              "    }\n",
              "</style>\n",
              "<table border=\"1\" class=\"dataframe\">\n",
              "  <thead>\n",
              "    <tr style=\"text-align: right;\">\n",
              "      <th></th>\n",
              "      <th>date</th>\n",
              "      <th>new deaths</th>\n",
              "    </tr>\n",
              "    <tr>\n",
              "      <th>state</th>\n",
              "      <th></th>\n",
              "      <th></th>\n",
              "    </tr>\n",
              "  </thead>\n",
              "  <tbody>\n",
              "    <tr>\n",
              "      <th>Wyoming</th>\n",
              "      <td>2020-04-13</td>\n",
              "      <td>1.0</td>\n",
              "    </tr>\n",
              "    <tr>\n",
              "      <th>Virgin Islands</th>\n",
              "      <td>2020-04-06</td>\n",
              "      <td>1.0</td>\n",
              "    </tr>\n",
              "    <tr>\n",
              "      <th>Northern Mariana Islands</th>\n",
              "      <td>2020-04-01</td>\n",
              "      <td>1.0</td>\n",
              "    </tr>\n",
              "    <tr>\n",
              "      <th>Hawaii</th>\n",
              "      <td>2020-03-31</td>\n",
              "      <td>1.0</td>\n",
              "    </tr>\n",
              "    <tr>\n",
              "      <th>West Virginia</th>\n",
              "      <td>2020-03-29</td>\n",
              "      <td>1.0</td>\n",
              "    </tr>\n",
              "  </tbody>\n",
              "</table>\n",
              "</div>"
            ],
            "text/plain": [
              "                                date  new deaths\n",
              "state                                           \n",
              "Wyoming                   2020-04-13         1.0\n",
              "Virgin Islands            2020-04-06         1.0\n",
              "Northern Mariana Islands  2020-04-01         1.0\n",
              "Hawaii                    2020-03-31         1.0\n",
              "West Virginia             2020-03-29         1.0"
            ]
          },
          "metadata": {
            "tags": []
          },
          "execution_count": 616
        }
      ]
    },
    {
      "cell_type": "code",
      "metadata": {
        "colab": {
          "base_uri": "https://localhost:8080/",
          "height": 558
        },
        "id": "cA0noLglrZbq",
        "outputId": "fd7430fe-de9d-47cf-f23f-8d6ee8456740"
      },
      "source": [
        "# Total Number of COVID19 Death Cases per State\n",
        "df_state = df['state'].unique()\n",
        "cases = df[['date', 'state', 'new deaths']].groupby(['state']).max().sort_values(by='state')\n",
        "plt.figure(figsize=(15,7))\n",
        "plt.bar(x=df_state, height=cases['new deaths'], color='blue')\n",
        "plt.xticks(rotation=90)\n",
        "plt.xlabel('States')\n",
        "plt.ylabel('Total Number of COVID19 Death Cases')\n",
        "plt.show()"
      ],
      "execution_count": 617,
      "outputs": [
        {
          "output_type": "display_data",
          "data": {
            "image/png": "[encoded data removed]",
            "text/plain": [
              "<Figure size 1080x504 with 1 Axes>"
            ]
          },
          "metadata": {
            "tags": [],
            "needs_background": "light"
          }
        }
      ]
    },
    {
      "cell_type": "code",
      "metadata": {
        "colab": {
          "base_uri": "https://localhost:8080/",
          "height": 490
        },
        "id": "dLQU2YWlrzVc",
        "outputId": "5d68b673-bbd2-4d6e-ecde-e5217c4c519f"
      },
      "source": [
        "# Covid19 Death Cases in High Risk States\n",
        "states = ['California', 'New Jersey','New York', 'Texas']\n",
        "plt.figure(figsize=(15,7))\n",
        "for state in states:\n",
        "  df_st = df[(df['state']==state) & (df['date']>='2020-03-01')]\n",
        "  plt.plot(df_st['date'],\n",
        "           df_st['deaths'],\n",
        "           linewidth=2\n",
        "           )\n",
        "  plt.xticks(rotation=90)\n",
        "plt.legend(states)\n",
        "plt.xlabel('Dates')\n",
        "plt.ylabel('Total Number of COVID19 Death Cases (cumulative)')\n",
        "plt.show()"
      ],
      "execution_count": 618,
      "outputs": [
        {
          "output_type": "display_data",
          "data": {
            "image/png": "[encoded data removed]",
            "text/plain": [
              "<Figure size 1080x504 with 1 Axes>"
            ]
          },
          "metadata": {
            "tags": [],
            "needs_background": "light"
          }
        }
      ]
    },
    {
      "cell_type": "code",
      "metadata": {
        "colab": {
          "base_uri": "https://localhost:8080/",
          "height": 492
        },
        "id": "b4dIKqd9kgA5",
        "outputId": "3cba478d-cb7e-4c5e-acb3-72dd890c6ef0"
      },
      "source": [
        "# Covid19 Death Cases per Month in High Risk States \n",
        "date = pd.Series(df['year_month'].unique()).sort_values(ascending=True)\n",
        "california = df[df.state == 'California'][['year_month', 'new deaths']].groupby(['year_month']).sum()\n",
        "newjersey = df[df.state == 'New Jersey'][['year_month', 'new deaths']].groupby(['year_month']).sum()\n",
        "newyork = df[df.state == 'New York'][['year_month', 'new deaths']].groupby(['year_month']).sum()\n",
        "texas = df[df.state == 'Texas'][['year_month', 'new deaths']].groupby(['year_month']).sum()\n",
        "\n",
        "ca = pd.Series(california['new deaths'])\n",
        "nj = pd.Series(newjersey['new deaths'])\n",
        "ny = pd.Series(newyork['new deaths'])\n",
        "tx = pd.Series(texas['new deaths'])\n",
        "\n",
        "new_df = pd.DataFrame({'california': ca, 'new jersey': nj, 'new york': ny, 'texas': tx})\n",
        "new_df = new_df.fillna(0)\n",
        "ax = new_df.plot.bar(figsize=(15,7))\n",
        "ax.set_xlabel(\"Year-Months\")\n",
        "ax.set_ylabel(\"Number of Deaths\")"
      ],
      "execution_count": 619,
      "outputs": [
        {
          "output_type": "execute_result",
          "data": {
            "text/plain": [
              "Text(0, 0.5, 'Number of Deaths')"
            ]
          },
          "metadata": {
            "tags": []
          },
          "execution_count": 619
        },
        {
          "output_type": "display_data",
          "data": {
            "image/png": "[encoded data removed]",
            "text/plain": [
              "<Figure size 1080x504 with 1 Axes>"
            ]
          },
          "metadata": {
            "tags": [],
            "needs_background": "light"
          }
        }
      ]
    },
    {
      "cell_type": "markdown",
      "metadata": {
        "id": "7jdSW-7NJo42"
      },
      "source": [
        "Analyzing New York's data for Covid 19"
      ]
    },
    {
      "cell_type": "code",
      "metadata": {
        "id": "-IXvRlig1Qjq",
        "colab": {
          "base_uri": "https://localhost:8080/"
        },
        "outputId": "831ad42c-313b-4411-81a3-09de7e858d8e"
      },
      "source": [
        "# New York DataFrame \n",
        "ny_df = pd.read_csv('https://raw.githubusercontent.com/nytimes/covid-19-data/master/us-states.csv')\n",
        "ny_df = ny_df[ny_df['state']=='New York'].sort_values(by=['date'])\n",
        "\n",
        "# New York Total Data\n",
        "print('Rows, Cols:', ny_df.shape)\n",
        "print('\\n')\n",
        "\n",
        "# Beginning Data of New York \n",
        "print(ny_df.head())\n",
        "print('\\n')\n",
        "\n",
        "# # Last Data of New York \n",
        "print(ny_df.tail())"
      ],
      "execution_count": 620,
      "outputs": [
        {
          "output_type": "stream",
          "text": [
            "Rows, Cols: (322, 5)\n",
            "\n",
            "\n",
            "           date     state  fips  cases  deaths\n",
            "246  2020-03-01  New York    36      1       0\n",
            "261  2020-03-02  New York    36      1       0\n",
            "276  2020-03-03  New York    36      2       0\n",
            "293  2020-03-04  New York    36     11       0\n",
            "313  2020-03-05  New York    36     22       0\n",
            "\n",
            "\n",
            "             date     state  fips    cases  deaths\n",
            "17372  2021-01-12  New York    36  1164819   39588\n",
            "17427  2021-01-13  New York    36  1179523   39760\n",
            "17482  2021-01-14  New York    36  1193710   39997\n",
            "17537  2021-01-15  New York    36  1213179   40203\n",
            "17592  2021-01-16  New York    36  1229124   40376\n"
          ],
          "name": "stdout"
        }
      ]
    },
    {
      "cell_type": "code",
      "metadata": {
        "id": "TNYs0GNm4K5O",
        "colab": {
          "base_uri": "https://localhost:8080/"
        },
        "outputId": "5ba57497-a071-4f60-f628-85e764067bbe"
      },
      "source": [
        "# Not a correct way of calculating total count bcoz data is cumulative\n",
        "print(ny_df['cases'].sum())"
      ],
      "execution_count": 621,
      "outputs": [
        {
          "output_type": "stream",
          "text": [
            "144058132\n"
          ],
          "name": "stdout"
        }
      ]
    },
    {
      "cell_type": "markdown",
      "metadata": {
        "id": "vUbZP5tccvEp"
      },
      "source": [
        "Finding new covid 19 cases and deaths on daily basis (new cases added everyday)"
      ]
    },
    {
      "cell_type": "code",
      "metadata": {
        "id": "g-isLW6s4XaJ",
        "colab": {
          "base_uri": "https://localhost:8080/",
          "height": 406
        },
        "outputId": "5e0d0436-3b5f-4112-f99b-e26cb59ae711"
      },
      "source": [
        "# New Cases & New Deaths for New York\n",
        "newcase = []\n",
        "newdeath = []\n",
        "previuos_case = 0\n",
        "previous_death = 0\n",
        "for index, row in ny_df.iterrows():\n",
        "  current_case = row['cases']\n",
        "  current_death = row['deaths']\n",
        "  newcase_count = current_case - previuos_case\n",
        "  newdeath_count = current_death - previous_death\n",
        "  previuos_case = current_case\n",
        "  previous_death = current_death\n",
        "  newcase.append(newcase_count)\n",
        "  newdeath.append(newdeath_count)\n",
        "\n",
        "ny_df['new cases'] = newcase\n",
        "ny_df['new deaths'] = newdeath\n",
        "\n",
        "ny_df"
      ],
      "execution_count": 622,
      "outputs": [
        {
          "output_type": "execute_result",
          "data": {
            "text/html": [
              "<div>\n",
              "<style scoped>\n",
              "    .dataframe tbody tr th:only-of-type {\n",
              "        vertical-align: middle;\n",
              "    }\n",
              "\n",
              "    .dataframe tbody tr th {\n",
              "        vertical-align: top;\n",
              "    }\n",
              "\n",
              "    .dataframe thead th {\n",
              "        text-align: right;\n",
              "    }\n",
              "</style>\n",
              "<table border=\"1\" class=\"dataframe\">\n",
              "  <thead>\n",
              "    <tr style=\"text-align: right;\">\n",
              "      <th></th>\n",
              "      <th>date</th>\n",
              "      <th>state</th>\n",
              "      <th>fips</th>\n",
              "      <th>cases</th>\n",
              "      <th>deaths</th>\n",
              "      <th>new cases</th>\n",
              "      <th>new deaths</th>\n",
              "    </tr>\n",
              "  </thead>\n",
              "  <tbody>\n",
              "    <tr>\n",
              "      <th>246</th>\n",
              "      <td>2020-03-01</td>\n",
              "      <td>New York</td>\n",
              "      <td>36</td>\n",
              "      <td>1</td>\n",
              "      <td>0</td>\n",
              "      <td>1</td>\n",
              "      <td>0</td>\n",
              "    </tr>\n",
              "    <tr>\n",
              "      <th>261</th>\n",
              "      <td>2020-03-02</td>\n",
              "      <td>New York</td>\n",
              "      <td>36</td>\n",
              "      <td>1</td>\n",
              "      <td>0</td>\n",
              "      <td>0</td>\n",
              "      <td>0</td>\n",
              "    </tr>\n",
              "    <tr>\n",
              "      <th>276</th>\n",
              "      <td>2020-03-03</td>\n",
              "      <td>New York</td>\n",
              "      <td>36</td>\n",
              "      <td>2</td>\n",
              "      <td>0</td>\n",
              "      <td>1</td>\n",
              "      <td>0</td>\n",
              "    </tr>\n",
              "    <tr>\n",
              "      <th>293</th>\n",
              "      <td>2020-03-04</td>\n",
              "      <td>New York</td>\n",
              "      <td>36</td>\n",
              "      <td>11</td>\n",
              "      <td>0</td>\n",
              "      <td>9</td>\n",
              "      <td>0</td>\n",
              "    </tr>\n",
              "    <tr>\n",
              "      <th>313</th>\n",
              "      <td>2020-03-05</td>\n",
              "      <td>New York</td>\n",
              "      <td>36</td>\n",
              "      <td>22</td>\n",
              "      <td>0</td>\n",
              "      <td>11</td>\n",
              "      <td>0</td>\n",
              "    </tr>\n",
              "    <tr>\n",
              "      <th>...</th>\n",
              "      <td>...</td>\n",
              "      <td>...</td>\n",
              "      <td>...</td>\n",
              "      <td>...</td>\n",
              "      <td>...</td>\n",
              "      <td>...</td>\n",
              "      <td>...</td>\n",
              "    </tr>\n",
              "    <tr>\n",
              "      <th>17372</th>\n",
              "      <td>2021-01-12</td>\n",
              "      <td>New York</td>\n",
              "      <td>36</td>\n",
              "      <td>1164819</td>\n",
              "      <td>39588</td>\n",
              "      <td>14791</td>\n",
              "      <td>184</td>\n",
              "    </tr>\n",
              "    <tr>\n",
              "      <th>17427</th>\n",
              "      <td>2021-01-13</td>\n",
              "      <td>New York</td>\n",
              "      <td>36</td>\n",
              "      <td>1179523</td>\n",
              "      <td>39760</td>\n",
              "      <td>14704</td>\n",
              "      <td>172</td>\n",
              "    </tr>\n",
              "    <tr>\n",
              "      <th>17482</th>\n",
              "      <td>2021-01-14</td>\n",
              "      <td>New York</td>\n",
              "      <td>36</td>\n",
              "      <td>1193710</td>\n",
              "      <td>39997</td>\n",
              "      <td>14187</td>\n",
              "      <td>237</td>\n",
              "    </tr>\n",
              "    <tr>\n",
              "      <th>17537</th>\n",
              "      <td>2021-01-15</td>\n",
              "      <td>New York</td>\n",
              "      <td>36</td>\n",
              "      <td>1213179</td>\n",
              "      <td>40203</td>\n",
              "      <td>19469</td>\n",
              "      <td>206</td>\n",
              "    </tr>\n",
              "    <tr>\n",
              "      <th>17592</th>\n",
              "      <td>2021-01-16</td>\n",
              "      <td>New York</td>\n",
              "      <td>36</td>\n",
              "      <td>1229124</td>\n",
              "      <td>40376</td>\n",
              "      <td>15945</td>\n",
              "      <td>173</td>\n",
              "    </tr>\n",
              "  </tbody>\n",
              "</table>\n",
              "<p>322 rows × 7 columns</p>\n",
              "</div>"
            ],
            "text/plain": [
              "             date     state  fips    cases  deaths  new cases  new deaths\n",
              "246    2020-03-01  New York    36        1       0          1           0\n",
              "261    2020-03-02  New York    36        1       0          0           0\n",
              "276    2020-03-03  New York    36        2       0          1           0\n",
              "293    2020-03-04  New York    36       11       0          9           0\n",
              "313    2020-03-05  New York    36       22       0         11           0\n",
              "...           ...       ...   ...      ...     ...        ...         ...\n",
              "17372  2021-01-12  New York    36  1164819   39588      14791         184\n",
              "17427  2021-01-13  New York    36  1179523   39760      14704         172\n",
              "17482  2021-01-14  New York    36  1193710   39997      14187         237\n",
              "17537  2021-01-15  New York    36  1213179   40203      19469         206\n",
              "17592  2021-01-16  New York    36  1229124   40376      15945         173\n",
              "\n",
              "[322 rows x 7 columns]"
            ]
          },
          "metadata": {
            "tags": []
          },
          "execution_count": 622
        }
      ]
    },
    {
      "cell_type": "code",
      "metadata": {
        "id": "dQ-Qbk0e3vUj",
        "colab": {
          "base_uri": "https://localhost:8080/"
        },
        "outputId": "6df77480-8ae9-4604-8416-38864f8c1397"
      },
      "source": [
        "# Total Number of Cases in New York \n",
        "ny_df['cases'].max()\n",
        "\n",
        "# or \n",
        "\n",
        "# Total Number of Cases in New York \n",
        "ny_df['new cases'].sum()"
      ],
      "execution_count": 623,
      "outputs": [
        {
          "output_type": "execute_result",
          "data": {
            "text/plain": [
              "1229124"
            ]
          },
          "metadata": {
            "tags": []
          },
          "execution_count": 623
        }
      ]
    },
    {
      "cell_type": "code",
      "metadata": {
        "colab": {
          "base_uri": "https://localhost:8080/",
          "height": 77
        },
        "id": "Y5uT2nr4Ktky",
        "outputId": "43b1621e-d1fb-4386-8edd-7f8b28af3964"
      },
      "source": [
        "# First New Case in New York\n",
        "first_ny_death = ny_df[ny_df['new cases']!=0]\n",
        "first_ny_death.head(1)"
      ],
      "execution_count": 624,
      "outputs": [
        {
          "output_type": "execute_result",
          "data": {
            "text/html": [
              "<div>\n",
              "<style scoped>\n",
              "    .dataframe tbody tr th:only-of-type {\n",
              "        vertical-align: middle;\n",
              "    }\n",
              "\n",
              "    .dataframe tbody tr th {\n",
              "        vertical-align: top;\n",
              "    }\n",
              "\n",
              "    .dataframe thead th {\n",
              "        text-align: right;\n",
              "    }\n",
              "</style>\n",
              "<table border=\"1\" class=\"dataframe\">\n",
              "  <thead>\n",
              "    <tr style=\"text-align: right;\">\n",
              "      <th></th>\n",
              "      <th>date</th>\n",
              "      <th>state</th>\n",
              "      <th>fips</th>\n",
              "      <th>cases</th>\n",
              "      <th>deaths</th>\n",
              "      <th>new cases</th>\n",
              "      <th>new deaths</th>\n",
              "    </tr>\n",
              "  </thead>\n",
              "  <tbody>\n",
              "    <tr>\n",
              "      <th>246</th>\n",
              "      <td>2020-03-01</td>\n",
              "      <td>New York</td>\n",
              "      <td>36</td>\n",
              "      <td>1</td>\n",
              "      <td>0</td>\n",
              "      <td>1</td>\n",
              "      <td>0</td>\n",
              "    </tr>\n",
              "  </tbody>\n",
              "</table>\n",
              "</div>"
            ],
            "text/plain": [
              "           date     state  fips  cases  deaths  new cases  new deaths\n",
              "246  2020-03-01  New York    36      1       0          1           0"
            ]
          },
          "metadata": {
            "tags": []
          },
          "execution_count": 624
        }
      ]
    },
    {
      "cell_type": "code",
      "metadata": {
        "colab": {
          "base_uri": "https://localhost:8080/",
          "height": 77
        },
        "id": "thZ19N1VMI2J",
        "outputId": "556b12e7-e33c-4c04-9e0b-5230a9b7623f"
      },
      "source": [
        "# Recent New Case in New York\n",
        "recent_ny_death = ny_df[ny_df['new cases']!=0]\n",
        "recent_ny_death.tail(1)"
      ],
      "execution_count": 625,
      "outputs": [
        {
          "output_type": "execute_result",
          "data": {
            "text/html": [
              "<div>\n",
              "<style scoped>\n",
              "    .dataframe tbody tr th:only-of-type {\n",
              "        vertical-align: middle;\n",
              "    }\n",
              "\n",
              "    .dataframe tbody tr th {\n",
              "        vertical-align: top;\n",
              "    }\n",
              "\n",
              "    .dataframe thead th {\n",
              "        text-align: right;\n",
              "    }\n",
              "</style>\n",
              "<table border=\"1\" class=\"dataframe\">\n",
              "  <thead>\n",
              "    <tr style=\"text-align: right;\">\n",
              "      <th></th>\n",
              "      <th>date</th>\n",
              "      <th>state</th>\n",
              "      <th>fips</th>\n",
              "      <th>cases</th>\n",
              "      <th>deaths</th>\n",
              "      <th>new cases</th>\n",
              "      <th>new deaths</th>\n",
              "    </tr>\n",
              "  </thead>\n",
              "  <tbody>\n",
              "    <tr>\n",
              "      <th>17592</th>\n",
              "      <td>2021-01-16</td>\n",
              "      <td>New York</td>\n",
              "      <td>36</td>\n",
              "      <td>1229124</td>\n",
              "      <td>40376</td>\n",
              "      <td>15945</td>\n",
              "      <td>173</td>\n",
              "    </tr>\n",
              "  </tbody>\n",
              "</table>\n",
              "</div>"
            ],
            "text/plain": [
              "             date     state  fips    cases  deaths  new cases  new deaths\n",
              "17592  2021-01-16  New York    36  1229124   40376      15945         173"
            ]
          },
          "metadata": {
            "tags": []
          },
          "execution_count": 625
        }
      ]
    },
    {
      "cell_type": "code",
      "metadata": {
        "colab": {
          "base_uri": "https://localhost:8080/"
        },
        "id": "XXJzNMThNIgz",
        "outputId": "757ad1b9-1250-4ac3-c9e0-b7dfc6276ff2"
      },
      "source": [
        "# Total Number of Deaths in New York \n",
        "ny_df['deaths'].max()\n",
        "\n",
        "# or \n",
        "\n",
        "# Total Number of Deaths in New York \n",
        "ny_df['new deaths'].sum()"
      ],
      "execution_count": 626,
      "outputs": [
        {
          "output_type": "execute_result",
          "data": {
            "text/plain": [
              "40376"
            ]
          },
          "metadata": {
            "tags": []
          },
          "execution_count": 626
        }
      ]
    },
    {
      "cell_type": "code",
      "metadata": {
        "id": "FQxfk_yn2KIW",
        "colab": {
          "base_uri": "https://localhost:8080/",
          "height": 77
        },
        "outputId": "055c7b50-cc25-440c-8d42-d29c539d51ad"
      },
      "source": [
        "# First death in New York\n",
        "first_ny_death = ny_df[ny_df['new deaths']!=0]\n",
        "first_ny_death.head(1)"
      ],
      "execution_count": 627,
      "outputs": [
        {
          "output_type": "execute_result",
          "data": {
            "text/html": [
              "<div>\n",
              "<style scoped>\n",
              "    .dataframe tbody tr th:only-of-type {\n",
              "        vertical-align: middle;\n",
              "    }\n",
              "\n",
              "    .dataframe tbody tr th {\n",
              "        vertical-align: top;\n",
              "    }\n",
              "\n",
              "    .dataframe thead th {\n",
              "        text-align: right;\n",
              "    }\n",
              "</style>\n",
              "<table border=\"1\" class=\"dataframe\">\n",
              "  <thead>\n",
              "    <tr style=\"text-align: right;\">\n",
              "      <th></th>\n",
              "      <th>date</th>\n",
              "      <th>state</th>\n",
              "      <th>fips</th>\n",
              "      <th>cases</th>\n",
              "      <th>deaths</th>\n",
              "      <th>new cases</th>\n",
              "      <th>new deaths</th>\n",
              "    </tr>\n",
              "  </thead>\n",
              "  <tbody>\n",
              "    <tr>\n",
              "      <th>669</th>\n",
              "      <td>2020-03-14</td>\n",
              "      <td>New York</td>\n",
              "      <td>36</td>\n",
              "      <td>610</td>\n",
              "      <td>2</td>\n",
              "      <td>189</td>\n",
              "      <td>2</td>\n",
              "    </tr>\n",
              "  </tbody>\n",
              "</table>\n",
              "</div>"
            ],
            "text/plain": [
              "           date     state  fips  cases  deaths  new cases  new deaths\n",
              "669  2020-03-14  New York    36    610       2        189           2"
            ]
          },
          "metadata": {
            "tags": []
          },
          "execution_count": 627
        }
      ]
    },
    {
      "cell_type": "code",
      "metadata": {
        "colab": {
          "base_uri": "https://localhost:8080/",
          "height": 77
        },
        "id": "LhIeXYKCF46E",
        "outputId": "650790e6-f325-45d9-8eb2-d85913d1071f"
      },
      "source": [
        "# Recent death in New York\n",
        "first_ny_death = ny_df[ny_df['new deaths']!=0]\n",
        "first_ny_death.tail(1)"
      ],
      "execution_count": 628,
      "outputs": [
        {
          "output_type": "execute_result",
          "data": {
            "text/html": [
              "<div>\n",
              "<style scoped>\n",
              "    .dataframe tbody tr th:only-of-type {\n",
              "        vertical-align: middle;\n",
              "    }\n",
              "\n",
              "    .dataframe tbody tr th {\n",
              "        vertical-align: top;\n",
              "    }\n",
              "\n",
              "    .dataframe thead th {\n",
              "        text-align: right;\n",
              "    }\n",
              "</style>\n",
              "<table border=\"1\" class=\"dataframe\">\n",
              "  <thead>\n",
              "    <tr style=\"text-align: right;\">\n",
              "      <th></th>\n",
              "      <th>date</th>\n",
              "      <th>state</th>\n",
              "      <th>fips</th>\n",
              "      <th>cases</th>\n",
              "      <th>deaths</th>\n",
              "      <th>new cases</th>\n",
              "      <th>new deaths</th>\n",
              "    </tr>\n",
              "  </thead>\n",
              "  <tbody>\n",
              "    <tr>\n",
              "      <th>17592</th>\n",
              "      <td>2021-01-16</td>\n",
              "      <td>New York</td>\n",
              "      <td>36</td>\n",
              "      <td>1229124</td>\n",
              "      <td>40376</td>\n",
              "      <td>15945</td>\n",
              "      <td>173</td>\n",
              "    </tr>\n",
              "  </tbody>\n",
              "</table>\n",
              "</div>"
            ],
            "text/plain": [
              "             date     state  fips    cases  deaths  new cases  new deaths\n",
              "17592  2021-01-16  New York    36  1229124   40376      15945         173"
            ]
          },
          "metadata": {
            "tags": []
          },
          "execution_count": 628
        }
      ]
    },
    {
      "cell_type": "code",
      "metadata": {
        "id": "CvPTpg6T-p15"
      },
      "source": [
        "# Store series into variable to help create visualization\n",
        "ny_cases = ny_df['cases']\n",
        "ny_deaths = ny_df['deaths']\n",
        "ny_dates = ny_df['date']\n",
        "ny_new_cases = ny_df['new cases']\n",
        "ny_new_deaths = ny_df['new deaths']"
      ],
      "execution_count": 629,
      "outputs": []
    },
    {
      "cell_type": "code",
      "metadata": {
        "id": "g14xWA8g_6nZ",
        "colab": {
          "base_uri": "https://localhost:8080/"
        },
        "outputId": "19e968b2-c788-4c9b-b433-c4f215648e27"
      },
      "source": [
        "# Double check if the variable is a serie\n",
        "type(ny_new_cases)"
      ],
      "execution_count": 630,
      "outputs": [
        {
          "output_type": "execute_result",
          "data": {
            "text/plain": [
              "pandas.core.series.Series"
            ]
          },
          "metadata": {
            "tags": []
          },
          "execution_count": 630
        }
      ]
    },
    {
      "cell_type": "code",
      "metadata": {
        "colab": {
          "base_uri": "https://localhost:8080/",
          "height": 492
        },
        "id": "-mGvTEJjsdUx",
        "outputId": "a4cc63ca-7a77-4eb7-a746-46f6ce3eb21e"
      },
      "source": [
        "# Overall view of New York Cases/Deaths\n",
        "ax = ny_df.plot.bar(figsize=(15,7));\n",
        "ax.set_xlabel(\"Dates\")\n",
        "ax.set_ylabel(\"Total Number\")"
      ],
      "execution_count": 631,
      "outputs": [
        {
          "output_type": "execute_result",
          "data": {
            "text/plain": [
              "Text(0, 0.5, 'Total Number')"
            ]
          },
          "metadata": {
            "tags": []
          },
          "execution_count": 631
        },
        {
          "output_type": "display_data",
          "data": {
            "image/png": "[encoded data removed]",
            "text/plain": [
              "<Figure size 1080x504 with 1 Axes>"
            ]
          },
          "metadata": {
            "tags": [],
            "needs_background": "light"
          }
        }
      ]
    },
    {
      "cell_type": "code",
      "metadata": {
        "colab": {
          "base_uri": "https://localhost:8080/",
          "height": 490
        },
        "id": "VsGAIXHdSn1U",
        "outputId": "33af6ce4-136f-442e-e5c4-cbfef0316a90"
      },
      "source": [
        "# Total Number of Cases in New York\n",
        "plt.figure(figsize=(15,7))\n",
        "plt.bar(x=ny_dates, height=ny_new_cases, color='red')\n",
        "plt.xticks(rotation=90)\n",
        "plt.xlabel('Dates')\n",
        "plt.ylabel('Total Number of COVID19 Cases in New York')\n",
        "plt.show()"
      ],
      "execution_count": 632,
      "outputs": [
        {
          "output_type": "display_data",
          "data": {
            "image/png": "[encoded data removed]",
            "text/plain": [
              "<Figure size 1080x504 with 1 Axes>"
            ]
          },
          "metadata": {
            "tags": [],
            "needs_background": "light"
          }
        }
      ]
    },
    {
      "cell_type": "code",
      "metadata": {
        "colab": {
          "base_uri": "https://localhost:8080/",
          "height": 490
        },
        "id": "ocQIyXefoUJp",
        "outputId": "cd3ff0fe-64e3-4a70-b7b5-8b326d9f75bc"
      },
      "source": [
        "# Total Number of Death Cases in New York\n",
        "plt.figure(figsize=(15,7))\n",
        "plt.bar(x=ny_dates, height=ny_new_deaths, color='blue')\n",
        "plt.xticks(rotation=90)\n",
        "plt.xlabel('Dates')\n",
        "plt.ylabel('Total Number of COVID19 Death Cases in New York')\n",
        "plt.show()"
      ],
      "execution_count": 633,
      "outputs": [
        {
          "output_type": "display_data",
          "data": {
            "image/png": "[encoded data removed]",
            "text/plain": [
              "<Figure size 1080x504 with 1 Axes>"
            ]
          },
          "metadata": {
            "tags": [],
            "needs_background": "light"
          }
        }
      ]
    },
    {
      "cell_type": "code",
      "metadata": {
        "colab": {
          "base_uri": "https://localhost:8080/",
          "height": 492
        },
        "id": "6nV_T-ulnEuE",
        "outputId": "1e250e5a-6941-4779-9b63-aa3b760b7a11"
      },
      "source": [
        "# Covid19 New Cases/Death Cases per Month in New York\n",
        "date = pd.Series(df['year_month'].unique()).sort_values(ascending=True)\n",
        "newyork_cases = df[df.state == 'New York'][['year_month', 'new cases']].groupby(['year_month']).sum()\n",
        "newyork_deaths = df[df.state == 'New York'][['year_month', 'new deaths']].groupby(['year_month']).sum()\n",
        "\n",
        "ny_cases = pd.Series(newyork_cases['new cases'])\n",
        "ny_deaths = pd.Series(newyork_deaths['new deaths'])\n",
        "\n",
        "new_df = pd.DataFrame({'New Cases': ny_cases, 'Deaths': ny_deaths})\n",
        "new_df = new_df.fillna(0)\n",
        "ax = new_df.plot.bar(figsize=(15,7))\n",
        "ax.set_xlabel(\"Year-Months\")\n",
        "ax.set_ylabel(\"Total Number\")"
      ],
      "execution_count": 634,
      "outputs": [
        {
          "output_type": "execute_result",
          "data": {
            "text/plain": [
              "Text(0, 0.5, 'Total Number')"
            ]
          },
          "metadata": {
            "tags": []
          },
          "execution_count": 634
        },
        {
          "output_type": "display_data",
          "data": {
            "image/png": "[encoded data removed]",
            "text/plain": [
              "<Figure size 1080x504 with 1 Axes>"
            ]
          },
          "metadata": {
            "tags": [],
            "needs_background": "light"
          }
        }
      ]
    },
    {
      "cell_type": "markdown",
      "metadata": {
        "id": "IKuLfv3SF27O"
      },
      "source": [
        "# Task4: Understand NY COVID 19 data in last 30 days"
      ]
    },
    {
      "cell_type": "code",
      "metadata": {
        "id": "280y4sHrAyuk"
      },
      "source": [
        "# Store series into variable to help create visualization\n",
        "ny_cases_30 = ny_df['new cases'][-31:-1]\n",
        "ny_deaths_30 = ny_df['new deaths'] [-31:-1]\n",
        "ny_dates_30 = ny_df['date'][-31:-1]\n",
        "ny_new_cases_30 = ny_df['new cases'][-31:-1]\n",
        "ny_new_deaths_30 = ny_df['new deaths'][-31:-1]"
      ],
      "execution_count": 635,
      "outputs": []
    },
    {
      "cell_type": "code",
      "metadata": {
        "id": "BUDcyVRwHY6F",
        "colab": {
          "base_uri": "https://localhost:8080/",
          "height": 490
        },
        "outputId": "a8b4eeeb-0808-46ff-a059-52d0dec9b40a"
      },
      "source": [
        "# ny_dates_30 New Cases\n",
        "plt.figure(figsize=(15,7))\n",
        "plt.bar(x=ny_dates_30, height=ny_new_cases_30, color='red')\n",
        "plt.xticks(rotation=90)\n",
        "plt.xlabel('Dates')\n",
        "plt.ylabel('Total Number of COVID19 New Cases in New York')\n",
        "plt.show()"
      ],
      "execution_count": 636,
      "outputs": [
        {
          "output_type": "display_data",
          "data": {
            "image/png": "[encoded data removed]",
            "text/plain": [
              "<Figure size 1080x504 with 1 Axes>"
            ]
          },
          "metadata": {
            "tags": [],
            "needs_background": "light"
          }
        }
      ]
    },
    {
      "cell_type": "code",
      "metadata": {
        "colab": {
          "base_uri": "https://localhost:8080/",
          "height": 490
        },
        "id": "TG0hPnVKm0E0",
        "outputId": "f7bd43cf-1127-4bcc-9d78-86ce9d1ae50a"
      },
      "source": [
        "# ny_dates_30 Deaths\r\n",
        "plt.figure(figsize=(15,7))\r\n",
        "plt.bar(x=ny_dates_30, height=ny_new_deaths_30, color='blue')\r\n",
        "plt.xticks(rotation=90)\r\n",
        "plt.xlabel('Dates')\r\n",
        "plt.ylabel('Total Number of COVID19 New Death Cases in New York')\r\n",
        "plt.show()"
      ],
      "execution_count": 637,
      "outputs": [
        {
          "output_type": "display_data",
          "data": {
            "image/png": "[encoded data removed]",
            "text/plain": [
              "<Figure size 1080x504 with 1 Axes>"
            ]
          },
          "metadata": {
            "tags": [],
            "needs_background": "light"
          }
        }
      ]
    },
    {
      "cell_type": "markdown",
      "metadata": {
        "id": "PtjNZZmOdAhy"
      },
      "source": [
        "# Comparing Covid 19 data with states that have large populations"
      ]
    },
    {
      "cell_type": "code",
      "metadata": {
        "id": "2xVCN1IBInu0",
        "colab": {
          "base_uri": "https://localhost:8080/",
          "height": 501
        },
        "outputId": "e453e2b0-5faa-4711-8e3c-03c3f132d645"
      },
      "source": [
        "# Covid 19 cases after October for states: New York, California, Florida, Texas, Arizona\n",
        "states = ['California','Texas','Florida', 'New York']\n",
        "plt.figure(figsize=(15,7))\n",
        "for state in states:\n",
        "  df_st = df[(df['state']==state) & (df['date']>='2020-11-01')]\n",
        "  plt.plot(df_st['date'],\n",
        "           df_st['cases'],\n",
        "           linewidth=2\n",
        "           )\n",
        "  plt.xticks(rotation=90)\n",
        "plt.legend(states)\n",
        "plt.xlabel('November - Present Date')\n",
        "plt.ylabel('Total Number of Cases')\n",
        "plt.show()"
      ],
      "execution_count": 638,
      "outputs": [
        {
          "output_type": "display_data",
          "data": {
            "image/png": "[encoded data removed]",
            "text/plain": [
              "<Figure size 1080x504 with 1 Axes>"
            ]
          },
          "metadata": {
            "tags": [],
            "needs_background": "light"
          }
        }
      ]
    },
    {
      "cell_type": "markdown",
      "metadata": {
        "id": "9XNjEfquLFHI"
      },
      "source": [
        "# Findings"
      ]
    },
    {
      "cell_type": "markdown",
      "metadata": {
        "id": "4Nf4LkFJJf0g"
      },
      "source": [
        "* **First ten states to have first time COVID19 cases**: \n",
        "Washington, Illinois, California, Arizona, Massachussets, Wisconsin, Texas, Nebraska, Utah, Oregon\n",
        "* **Last ten states to have first COVID10 cases**: Maine, Alaska, Alabama, Idaho, Puerto Rico, Montana, Virgin Islands, Northern Mariana Islands\n",
        "* **Top 5 states with recent number of high cases**: California, Texas, Florida, New York, Illinois \n",
        "* **Top 5 states with recent number of high cases**: California, Texas, Florida, New York, Illinois \n",
        "* **Top 5 states with recent number of low cases**: Hawaii, Vermont, Guam, Virgin Islands, Northern Mariana Islands\n",
        "* **Top 5 states with a high rise in new cases**: California, Texas, New Jersey, Florida, Ohio\n",
        "* **Top 5 states with a high drop in new cases**: Massachusetts, Louisiana, Arkansas, Puerto Rico, Georgia\n",
        "* California, Florida, New Jersey, and Texas are states that have a high number of cases.\n",
        "> California’s highest was in December 2020. \n",
        "> Florida’s highest was in July 2020.\n",
        "> New Jersey’s highest was in December 2020.\n",
        "> Texas’s highest was in January 2021.\n",
        "* **First five states to have first COVID19 death cases**: Washington, California, Florida, South Dakota, New Jersey\n",
        "* **Last four states to have first COVID19 death cases**: West Virginia, Hawaii, Northern Mariana Islands, Virgin Islands\n",
        "* **Top five states to have a total high number of COVID19 death cases**: New York, California, Texas, Florida, New Jersey\n",
        "* **Top five states to have a total low number of COVID19 death cases**: Alaska, Vermont, Guam, Virgin Islands, Northern Mariana Islands\n",
        "* **Top five states to have a high number of COVID19 death cases in a day**: New Jersey, Texas, New York, California, Georgia\n",
        "* **Top five states to have a low number of COVID19 death cases in a day**: Wyoming, Virgin Islands, Northern Mariana Islands, Hawaii, West Virginia \n",
        "* California, New Jersey, New York, and Texas are states with a high number of death cases with New York being the state with the largest deaths \n",
        "> California had the largest death in January 2021.\n",
        "> New Jersey had the largest death in April 2020.\n",
        "> New York had the largest death in April 2020.\n",
        "> Texas had the largest death in December 2020.\n",
        "\n",
        "New York \n",
        "\n",
        "* Beginning Date: 03-01-2020\n",
        "  > Total Cases: 1 \n",
        "\n",
        "  > Total Deaths: 0\n",
        "\n",
        "  > Cases on date: 1\n",
        "\n",
        "  > Deaths on date: 0  \n",
        "\n",
        "* Recent Date: 01-16-2021\n",
        "  > Total Cases: 1,229,124\n",
        "\n",
        "  > Total Deaths: 40,376\n",
        "\n",
        "  > Cases on date: 15,945\n",
        "\n",
        "  > Deaths on date: 173\n",
        "* New York has a higher number of cases from December to now, but less death cases compared to spring time. \n",
        "* The larger the population of a state, the more COVID19 cases. \n",
        "\n"
      ]
    },
    {
      "cell_type": "markdown",
      "metadata": {
        "id": "Hwch-J5PIHA1"
      },
      "source": [
        "# Conclusion"
      ]
    },
    {
      "cell_type": "markdown",
      "metadata": {
        "id": "q5G5KP6CINBS"
      },
      "source": [
        "Overall, states with the most population seem to have a high rise in COVID19 cases. However, it was interesting to see that even though New York was not considered to have a high number of cases compared to other states, it had the most deaths in the early stage. A possible answer to this may be because of the lack of readiness in hospitals and poor regulations by the state. New York seems to be doing much better now as the number of cases rise with very few death cases. However, it is still the state with the highest number of deaths. Hence, further analysis on New York's protocols, number of hospitals, and hospital regulations compared to other states will be necessary to understand the high number of death cases. \r\n"
      ]
    }
  ]
}