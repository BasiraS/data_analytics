{
  "nbformat": 4,
  "nbformat_minor": 0,
  "metadata": {
    "colab": {
      "name": "Unit2_L2_Introduction to Python 2_Practice",
      "provenance": [],
      "collapsed_sections": [],
      "authorship_tag": "ABX9TyOoYdR/sbx7GCA1RGA59tyV",
      "include_colab_link": true
    },
    "kernelspec": {
      "name": "python3",
      "display_name": "Python 3"
    }
  },
  "cells": [
    {
      "cell_type": "markdown",
      "metadata": {
        "id": "view-in-github",
        "colab_type": "text"
      },
      "source": [
        "<a href=\"https://colab.research.google.com/github/BasiraS/data_analytics_2/blob/main/Python/Unit2_L2_Introduction_to_Python_2_Practice.ipynb\" target=\"_parent\"><img src=\"https://colab.research.google.com/assets/colab-badge.svg\" alt=\"Open In Colab\"/></a>"
      ]
    },
    {
      "cell_type": "markdown",
      "metadata": {
        "id": "RCisTwAikqfF"
      },
      "source": [
        "**Practice Assignment 1**:\n",
        "Store a message in a variable, then print out that message.\n",
        "Store a message in a variable, then print out that message. Then change the value of your variable to a new message, and print the new message."
      ]
    },
    {
      "cell_type": "code",
      "metadata": {
        "colab": {
          "base_uri": "https://localhost:8080/"
        },
        "id": "-qUDU8NHjuMi",
        "outputId": "95a2da1e-0b82-41b0-e281-e86f296c7287"
      },
      "source": [
        "# Store a message in a variable, then print out that message\n",
        "first_name = \"Basira\"\n",
        "print(\"My first name is\", first_name);\n",
        "\n",
        "# Store a message in a variable, then print out that message\n",
        "full_name = first_name + \" Shirzad\"\n",
        "print(\"My full name is\", full_name)\n",
        "\n",
        "# Change the value of your variable to a new message and print the new message\n",
        "full_name = \"John Doe\"\n",
        "print(\"Changed name:\", full_name)"
      ],
      "execution_count": 22,
      "outputs": [
        {
          "output_type": "stream",
          "text": [
            "My first name is Basira\n",
            "My full name is Basira Shirzad\n",
            "Changed name: John Doe\n"
          ],
          "name": "stdout"
        }
      ]
    },
    {
      "cell_type": "markdown",
      "metadata": {
        "id": "0dFKrEwGn_BA"
      },
      "source": [
        "**Practice Assignment 2**: \n",
        "Store a person’s name in a variable, and print a message to that person. Your message should be simple, such as, “Hello John, what are you doing after class?”\n",
        "Store someone you knows name in a variable called name.  Print their name in lower and uppercase.\n",
        "Create a string that adds white space using “\\t”.  Then use the function to strip the white space from your string.\n"
      ]
    },
    {
      "cell_type": "code",
      "metadata": {
        "colab": {
          "base_uri": "https://localhost:8080/"
        },
        "id": "Yq_dZfSfoRzS",
        "outputId": "4e67c294-232c-4ba6-dc43-a26e5979c6aa"
      },
      "source": [
        "# Store a person’s name in a variable, and print a message to that person\n",
        "person_name = \"John\"\n",
        "print(\"Hello\", person_name, \", what are you doing after class?\")\n",
        "\n",
        "# Store someone you knows name in a variable called name\n",
        "name = \"John Doe\"\n",
        "\n",
        "# Print name in lower case\n",
        "print(name.upper())\n",
        "\n",
        "# Print name in upper case\n",
        "print(name.lower())\n",
        "\n",
        "# Create a string that adds white space using “\\t”\n",
        "word = \"\\tGood Morning\\t\"\n",
        "print(word)\n",
        "print(word.strip())\n"
      ],
      "execution_count": 23,
      "outputs": [
        {
          "output_type": "stream",
          "text": [
            "Hello John , what are you doing after class?\n",
            "JOHN DOE\n",
            "john doe\n",
            "\tGood Morning\t\n",
            "Good Morning\n"
          ],
          "name": "stdout"
        }
      ]
    },
    {
      "cell_type": "markdown",
      "metadata": {
        "id": "pe4ksHKLDXdr"
      },
      "source": [
        "**Practice Assignment 3**: Write addition, subtraction, multiplication, and division operations that each result in the number 8.  For example: print(5 + 3)\n",
        "Store your favorite number in a variable.  Then, create a message telling your friend what your favorite number is.\n"
      ]
    },
    {
      "cell_type": "code",
      "metadata": {
        "colab": {
          "base_uri": "https://localhost:8080/"
        },
        "id": "QXzxb8L3DcIe",
        "outputId": "adb4a660-e530-4f69-ab62-f1e41df60a98"
      },
      "source": [
        "# Addition: Result 8\n",
        "print(6+2)\n",
        "\n",
        "# Substraction: Result 8\n",
        "print(10-2)\n",
        "\n",
        "# Multiplication: Result 8\n",
        "print(4*2)\n",
        "\n",
        "# Division: Result 8\n",
        "print(16/2)\n",
        "\n",
        "# Store your favorite number in a variable\n",
        "favorite_number = 21\n",
        "\n",
        "# Message\n",
        "print(\"My favorite number is\", favorite_number)"
      ],
      "execution_count": 24,
      "outputs": [
        {
          "output_type": "stream",
          "text": [
            "8\n",
            "8\n",
            "8\n",
            "8.0\n",
            "My favorite number is 21\n"
          ],
          "name": "stdout"
        }
      ]
    },
    {
      "cell_type": "markdown",
      "metadata": {
        "id": "NOMO7J8gILTk"
      },
      "source": [
        "**Worksheet Assignment**: Unit2_L2_Intro\n",
        "3. Create a variable that holds the string “hello there!”\n",
        "\n",
        "4. Create a variable for first name, last name and an email extension.  Concatenating all three together to form an email address.  For example: firstnamelastname@gmail.com\n",
        "\n",
        "5. Store someone you know name in a variable called name.  Print their name in lower and uppercase using a method.\n",
        "\n",
        "6. Using a variable, ask your friend if they want to hang out on the 15th of the month.  For example, “Do you want to hang out on the 15th of this month?”  You should have to convert the number to a string.\n",
        "\n"
      ]
    },
    {
      "cell_type": "code",
      "metadata": {
        "colab": {
          "base_uri": "https://localhost:8080/"
        },
        "id": "Jdj0KEhfIev6",
        "outputId": "10dfd09d-e09c-4f6e-dd6a-2b007838969e"
      },
      "source": [
        "# Question 3\n",
        "#--------------------------------------------------------------------------\n",
        "# Variable that holds the string “hello there!”\n",
        "message = \"hello there!\"\n",
        "print(message)"
      ],
      "execution_count": 25,
      "outputs": [
        {
          "output_type": "stream",
          "text": [
            "hello there!\n"
          ],
          "name": "stdout"
        }
      ]
    },
    {
      "cell_type": "code",
      "metadata": {
        "colab": {
          "base_uri": "https://localhost:8080/"
        },
        "id": "GwRieBlHLZEy",
        "outputId": "21647485-4b3f-498b-d1fc-a77d9d945d05"
      },
      "source": [
        "# Question 4\n",
        "#--------------------------------------------------------------------------\n",
        "# Variable for first name, last name and an email extension\n",
        "first_name = \"John\"\n",
        "last_name = \"Doe\"\n",
        "email_extension = \"@gmail.com\"\n",
        "\n",
        "# Concatenating all three variables to form an email address\n",
        "email_address = first_name + last_name + email_extension\n",
        "print(email_address)"
      ],
      "execution_count": 26,
      "outputs": [
        {
          "output_type": "stream",
          "text": [
            "JohnDoe@gmail.com\n"
          ],
          "name": "stdout"
        }
      ]
    },
    {
      "cell_type": "code",
      "metadata": {
        "colab": {
          "base_uri": "https://localhost:8080/"
        },
        "id": "li_uBkHXLbVe",
        "outputId": "53d82f30-654e-4301-b811-8f02500881b8"
      },
      "source": [
        "# Question 5\n",
        "#--------------------------------------------------------------------------\n",
        "# Store someone you know name in a variable called name. \n",
        "name = \"Emily Gonzalez\"\n",
        "\n",
        "# Print their name in lower and uppercase using a method.\n",
        "print(name.upper())\n",
        "print(name.lower())"
      ],
      "execution_count": 27,
      "outputs": [
        {
          "output_type": "stream",
          "text": [
            "EMILY GONZALEZ\n",
            "emily gonzalez\n"
          ],
          "name": "stdout"
        }
      ]
    },
    {
      "cell_type": "code",
      "metadata": {
        "colab": {
          "base_uri": "https://localhost:8080/"
        },
        "id": "bkADQHk1LeYA",
        "outputId": "64371b59-b740-4813-b91c-eaa5bc4febb3"
      },
      "source": [
        "# Question 6\n",
        "#--------------------------------------------------------------------------\n",
        "# Using a variable, ask your friend: “Do you want to hang out on the 15th of this month?” \n",
        "day_of_month = 15\n",
        "message = \"Do you want to hang out on the \" + str(day_of_month) + \" of this month?\"\n",
        "print(message)"
      ],
      "execution_count": 28,
      "outputs": [
        {
          "output_type": "stream",
          "text": [
            "Do you want to hang out on the 15 of this month?\n"
          ],
          "name": "stdout"
        }
      ]
    }
  ]
}