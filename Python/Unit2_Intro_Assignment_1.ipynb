{
  "nbformat": 4,
  "nbformat_minor": 0,
  "metadata": {
    "colab": {
      "name": "Unit2_Intro_Assignment_1.ipynb",
      "provenance": [],
      "collapsed_sections": [],
      "include_colab_link": true
    },
    "kernelspec": {
      "name": "python3",
      "display_name": "Python 3"
    }
  },
  "cells": [
    {
      "cell_type": "markdown",
      "metadata": {
        "id": "view-in-github",
        "colab_type": "text"
      },
      "source": [
        "<a href=\"https://colab.research.google.com/github/BasiraS/data_analytics_2/blob/main/Python/Unit2_Intro_Assignment_1.ipynb\" target=\"_parent\"><img src=\"https://colab.research.google.com/assets/colab-badge.svg\" alt=\"Open In Colab\"/></a>"
      ]
    },
    {
      "cell_type": "markdown",
      "metadata": {
        "id": "ttjIKAFBlQJQ"
      },
      "source": [
        "#Name: Basira Shirzad\n",
        "\n",
        "#Date: 01-06-2021"
      ]
    },
    {
      "cell_type": "markdown",
      "metadata": {
        "id": "Vgs8Kp4TidFQ"
      },
      "source": [
        "# Lesson 1 - Intrdouction to Python - Assignment 1"
      ]
    },
    {
      "cell_type": "markdown",
      "metadata": {
        "id": "_Hq7Ny79iwgD"
      },
      "source": [
        "## 1.\tWhat is Python and why is it useful?"
      ]
    },
    {
      "cell_type": "markdown",
      "metadata": {
        "id": "DBd0pMkDi0pv"
      },
      "source": [
        "* Python is a scripting language, which is a combination of object-oriented programming and functional programming. It has libraries that make it much easier to perform data analytics and visualizations and it is open-sourced and free to use. Python is useful because it can work with very large datasets and makes analyzing data easy. It can also perform complex operations from machine learning to web development and can save and re-run making processes automated and a huge time saver."
      ]
    },
    {
      "cell_type": "markdown",
      "metadata": {
        "id": "io_27RSlizno"
      },
      "source": [
        "## 2.\tAre the following variable names allowed in python?"
      ]
    },
    {
      "cell_type": "markdown",
      "metadata": {
        "id": "9_GYv9VTiqrI"
      },
      "source": [
        "a.\t1_message\r\n",
        "> **Not Allowed**\r\n",
        "\r\n",
        "b.\tGreeting_message\r\n",
        "> **Allowed**\r\n",
        "\r\n",
        "c.\tMessage_1\r\n",
        "> **Allowed**\r\n",
        "\r\n",
        "d.\tFirst name\r\n",
        "> **Not Allowed**\r\n",
        "\r\n",
        "e.\tFull_name\r\n",
        "> **Allowed**"
      ]
    },
    {
      "cell_type": "markdown",
      "metadata": {
        "id": "DAW8m8IQjRyR"
      },
      "source": [
        "## 3.\tCreate a variable that holds the string “hello there!”"
      ]
    },
    {
      "cell_type": "code",
      "metadata": {
        "id": "guULMEhrjYtT",
        "colab": {
          "base_uri": "https://localhost:8080/"
        },
        "outputId": "c4c3bfbb-88fd-48c1-84aa-c7cf60749375"
      },
      "source": [
        "# Variable that holds the string “hello there!”\n",
        "message = \"hello there!\"\n",
        "print(message)"
      ],
      "execution_count": null,
      "outputs": [
        {
          "output_type": "stream",
          "text": [
            "hello there!\n"
          ],
          "name": "stdout"
        }
      ]
    },
    {
      "cell_type": "markdown",
      "metadata": {
        "id": "dpa_YOt4jXyo"
      },
      "source": [
        "## 4.\tCreate a variable for first name, last name and an email extension.  Concatenating all three together to form an email address.  For example: firstnamelastname@gmail.com"
      ]
    },
    {
      "cell_type": "code",
      "metadata": {
        "id": "pltxfnh3iJLW",
        "colab": {
          "base_uri": "https://localhost:8080/"
        },
        "outputId": "3f681c83-565b-4364-c6a1-7bb433f3e51f"
      },
      "source": [
        "# Variable for first name, last name and an email extension\n",
        "first_name = \"John\"\n",
        "last_name = \"Doe\"\n",
        "email_extension = \"@gmail.com\"\n",
        "\n",
        "# Concatenating all three variables to form an email address\n",
        "email_address = first_name + last_name + email_extension\n",
        "print(email_address)"
      ],
      "execution_count": null,
      "outputs": [
        {
          "output_type": "stream",
          "text": [
            "JohnDoe@gmail.com\n"
          ],
          "name": "stdout"
        }
      ]
    },
    {
      "cell_type": "markdown",
      "metadata": {
        "id": "Ka84RGy4jmLT"
      },
      "source": [
        "## 5.\tStore someone you know name in a variable called name.  Print their name in lower and uppercase using a method."
      ]
    },
    {
      "cell_type": "code",
      "metadata": {
        "id": "34IFFtK4jrg4",
        "colab": {
          "base_uri": "https://localhost:8080/"
        },
        "outputId": "93f32a61-646f-47df-8919-eff575a5f950"
      },
      "source": [
        "# Store someone you know name in a variable called name. \n",
        "name = \"Emily Gonzalez\"\n",
        "\n",
        "# Print their name in lower and uppercase using a method.\n",
        "print(name.upper())\n",
        "print(name.lower())"
      ],
      "execution_count": null,
      "outputs": [
        {
          "output_type": "stream",
          "text": [
            "EMILY GONZALEZ\n",
            "emily gonzalez\n"
          ],
          "name": "stdout"
        }
      ]
    },
    {
      "cell_type": "markdown",
      "metadata": {
        "id": "88lv4Xl4k4o4"
      },
      "source": [
        "## 6. Using a variable, ask your friend if they want to hang out on the 15th of the month.  For example, “Do you want to hang out on the 15th of this month?”  You should have to convert the number to a string."
      ]
    },
    {
      "cell_type": "code",
      "metadata": {
        "id": "KHQ7LdZhlAnh",
        "colab": {
          "base_uri": "https://localhost:8080/"
        },
        "outputId": "759c2c9e-a184-4aa5-aa69-4a4093990ab0"
      },
      "source": [
        "# Using a variable, ask your friend: “Do you want to hang out on the 15th of this month?” \n",
        "day_of_month = 15\n",
        "\n",
        "message = \"Do you want to hang out on the \" + str(day_of_month) + \" of this month?\"\n",
        "print(message)"
      ],
      "execution_count": null,
      "outputs": [
        {
          "output_type": "stream",
          "text": [
            "Do you want to hang out on the 15 of this month?\n"
          ],
          "name": "stdout"
        }
      ]
    }
  ]
}